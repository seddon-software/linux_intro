{
 "cells": [
  {
   "cell_type": "markdown",
   "metadata": {},
   "source": [
    "<div style=\"color:red;background-color:black\">\n",
    "Diamond Light Source\n",
    "\n",
    "<h1 style=\"color:red;background-color:antiquewhite\"> Linux Introduction: Your Environment</h1>  \n",
    "\n",
    "©2000-24 Chris Seddon \n",
    "</div>"
   ]
  },
  {
   "cell_type": "markdown",
   "metadata": {},
   "source": [
    "When you first login to a Linux session there will be a number of things you will need to do before you are ready to start work.  Furthermore, you probably will need to peform the same actions each time you login.\n",
    "\n",
    "That being the case, Linux defines a srtup file that contains setup commands for each login session.  The name of this file varies on which command interpreter you are using.  At Diamond we usually use the `bash` shell interpreter and the setup file for `bash` is `.bashrc`.  The `rc` part of the filename stands for \"run commands\".\n",
    "\n",
    "The `.bashrc` contains Bash commands that are run whenever `bash` is started interactively and we use this file to run commands that we need for each terminal session, such as:\n",
    "<pre>\n",
    "defining alias commands\n",
    "module load commands\n",
    "setting up environment variables\n",
    "</pre>\n",
    "Your System Admin will probably provide addition customation in other setup files that are run automatically.\n",
    "\n",
    "Let's take a look at your `.bashrc` file:"
   ]
  },
  {
   "cell_type": "code",
   "execution_count": null,
   "metadata": {},
   "outputs": [],
   "source": [
    "cd\n",
    "cat .bashrc"
   ]
  },
  {
   "cell_type": "markdown",
   "metadata": {},
   "source": [
    "If you make a change to `.bashrc` then you may need to logout and then log back in to make the changes activated.  In practice you can use the `source` command to achieve the same effect (and save you from loging out) - see below.\n",
    "\n",
    "At Diamond it is prefered if you don't modify this file.  Instead you should make changes in `.bashrc_local`.\n",
    "To make this work Diamond users need to put some code in `.bashrc` to ensure `.bashrc_local` is used (it is not called by default):\n",
    "\n",
    "<pre>\n",
    "if [ -f ~/.bashrc_local ]; then\n",
    "\tsource ~/.bashrc_local\n",
    "fi\n",
    "</pre>\n",
    "\n",
    "If this code is not present in your `.bashrc` file you can add it yourself or copy my version from the resources folder:"
   ]
  },
  {
   "cell_type": "code",
   "execution_count": null,
   "metadata": {},
   "outputs": [],
   "source": [
    "cp linux_intro/resources/sample_bashrc_file .bashrc"
   ]
  },
  {
   "cell_type": "markdown",
   "metadata": {},
   "source": [
    "Now lets try an experiment.  Let us set up an alias in our terminal:"
   ]
  },
  {
   "cell_type": "code",
   "execution_count": null,
   "metadata": {},
   "outputs": [],
   "source": [
    "alias ll='ls -l'"
   ]
  },
  {
   "cell_type": "markdown",
   "metadata": {},
   "source": [
    "Now we can use the alias to perform a long listing:"
   ]
  },
  {
   "cell_type": "code",
   "execution_count": null,
   "metadata": {},
   "outputs": [],
   "source": [
    "ll"
   ]
  },
  {
   "cell_type": "markdown",
   "metadata": {},
   "source": [
    "Unfortunately this alias definition is lost if you log out or create a new terminal.  To demonstrate, I'll create a new x-terminal in the next cell and then you can try the alias in the new terminal.  It should fail.  Kill off the x-window when you're done."
   ]
  },
  {
   "cell_type": "code",
   "execution_count": null,
   "metadata": {},
   "outputs": [],
   "source": [
    "xterm -fg black -bg white -fa 'Monospace' -fs 14 &"
   ]
  },
  {
   "cell_type": "markdown",
   "metadata": {},
   "source": [
    "To get the alias to work automatically in the new terminal you need to define the alias in the `.bashrc_local` file.  You would normally do this with `vim`, but for the purposes of this tutorial it is esier to use `echo`:"
   ]
  },
  {
   "cell_type": "code",
   "execution_count": null,
   "metadata": {},
   "outputs": [],
   "source": [
    "echo \"alias ll='ls -l'\" >> .bashrc_local\n",
    "cat .bashrc_local"
   ]
  },
  {
   "cell_type": "markdown",
   "metadata": {},
   "source": [
    "Now try the alias in a new x-terminal.  This time it should work (again kill the terminal afterwards to keep things tidy)"
   ]
  },
  {
   "cell_type": "code",
   "execution_count": null,
   "metadata": {},
   "outputs": [],
   "source": [
    "xterm -fg black -bg white -fa 'Monospace' -fs 14 &"
   ]
  },
  {
   "cell_type": "markdown",
   "metadata": {},
   "source": [
    "Now we turn our attention to other things you might set up in the `bash_local` file.\n",
    "\n",
    "In Linux when we create applications for other users we normally have to give details of how to setup the environment, such as environment variables and how to change the PATH variable.  This can be quite involved.  Some establishments (including Diamond) use `module` commands to simplify this procedure.\n",
    "\n",
    "`module` is a user interface to the Modules package. The Modules package provides for the dynamic modification of the user's environment via modulefiles.  These module files are already setup for you by the Diamond system admins.\n",
    "\n",
    "Each modulefile contains the information needed to configure the shell for an application.  You may already have modules setup for EPICS and controls.  To see what you have got setup run the following:"
   ]
  },
  {
   "cell_type": "code",
   "execution_count": null,
   "metadata": {},
   "outputs": [],
   "source": [
    "module list"
   ]
  },
  {
   "cell_type": "markdown",
   "metadata": {},
   "source": [
    "Suppose you want to use Python; you can use the following to see what's available:"
   ]
  },
  {
   "cell_type": "code",
   "execution_count": null,
   "metadata": {},
   "outputs": [],
   "source": [
    "module avail python"
   ]
  },
  {
   "cell_type": "markdown",
   "metadata": {},
   "source": [
    "The latest version of Python available (as of May 2024) is 3.10.  You can load that with:"
   ]
  },
  {
   "cell_type": "code",
   "execution_count": null,
   "metadata": {},
   "outputs": [],
   "source": [
    "module load python"
   ]
  },
  {
   "cell_type": "markdown",
   "metadata": {},
   "source": [
    "To see what modules you now have loaded:"
   ]
  },
  {
   "cell_type": "code",
   "execution_count": null,
   "metadata": {},
   "outputs": [],
   "source": [
    "module list"
   ]
  },
  {
   "cell_type": "markdown",
   "metadata": {},
   "source": [
    "However, if you switch to an new terminal window or logout, this change is lost.  Let's creat a new `xterm` terminal window and check this out.  When the window appears type:\n",
    "<pre>\n",
    "module list\n",
    "</pre>\n",
    "and verify the module setting has gone.  Then type `exit` to close the window.  "
   ]
  },
  {
   "cell_type": "code",
   "execution_count": null,
   "metadata": {},
   "outputs": [],
   "source": [
    "xterm -fg black -bg white -fa 'Monospace' -fs 14 &"
   ]
  },
  {
   "cell_type": "markdown",
   "metadata": {},
   "source": [
    "To make your change permanent you need to add the `module` command to the end of your `.bashrc_local` file:"
   ]
  },
  {
   "cell_type": "code",
   "execution_count": null,
   "metadata": {},
   "outputs": [],
   "source": [
    "echo \"module load python\" >> .bashrc_local\n",
    "cat .bashrc_local"
   ]
  },
  {
   "cell_type": "markdown",
   "metadata": {},
   "source": [
    "Let's try again.  Whenever you login or create a new terminal window, the `bash` shell will re-read the `.bashrc_local` file.  \n",
    "So type `module list` when the following `xterm` appears.  Use `exit` to dismiss the window when you're done.  Python should now be active."
   ]
  },
  {
   "cell_type": "code",
   "execution_count": null,
   "metadata": {},
   "outputs": [],
   "source": [
    "xterm -fg black -bg white -fa 'Monospace' -fs 14 &"
   ]
  },
  {
   "cell_type": "markdown",
   "metadata": {},
   "source": [
    "The `module` command is used at lot at Diamond.  It has a useful `--help` option:"
   ]
  },
  {
   "cell_type": "code",
   "execution_count": null,
   "metadata": {},
   "outputs": [],
   "source": [
    "module --help"
   ]
  },
  {
   "cell_type": "markdown",
   "metadata": {},
   "source": [
    "The history command is always useful.  It documents the commands you've been using:"
   ]
  },
  {
   "cell_type": "code",
   "execution_count": null,
   "metadata": {},
   "outputs": [],
   "source": [
    "history"
   ]
  },
  {
   "cell_type": "markdown",
   "metadata": {},
   "source": [
    "To see the last few commands pipe to `tail`:"
   ]
  },
  {
   "cell_type": "code",
   "execution_count": null,
   "metadata": {},
   "outputs": [],
   "source": [
    "history | tail"
   ]
  },
  {
   "cell_type": "markdown",
   "metadata": {},
   "source": [
    "We can set and use an alias for `history`:"
   ]
  },
  {
   "cell_type": "code",
   "execution_count": null,
   "metadata": {},
   "outputs": [],
   "source": [
    "alias h=history\n",
    "h"
   ]
  },
  {
   "cell_type": "markdown",
   "metadata": {},
   "source": [
    "Aliases can be removed with `unalias` and listed with `alias`:"
   ]
  },
  {
   "cell_type": "code",
   "execution_count": null,
   "metadata": {},
   "outputs": [],
   "source": [
    "unalias h\n",
    "alias"
   ]
  },
  {
   "cell_type": "markdown",
   "metadata": {},
   "source": [
    "Aliases are temporary, so these should be adde to our `.bashrc_local` file"
   ]
  },
  {
   "cell_type": "code",
   "execution_count": null,
   "metadata": {},
   "outputs": [],
   "source": [
    "echo 'alias h=history' >> .bashrc_local\n",
    "cat .bashrc_local"
   ]
  },
  {
   "cell_type": "markdown",
   "metadata": {},
   "source": [
    "Fire up the `xterm` using the command below and when the terminal appears type:\n",
    "<pre>\n",
    "alias\n",
    "</pre>\n",
    "and verify `h` has been added to the list of aliases.  Then dismiss the terminal."
   ]
  },
  {
   "cell_type": "code",
   "execution_count": null,
   "metadata": {},
   "outputs": [],
   "source": [
    "xterm -fg black -bg white -fa 'Monospace' -fs 14 &"
   ]
  },
  {
   "cell_type": "markdown",
   "metadata": {},
   "source": [
    "Apart from the `bashrc_local` file there are other things you can do to customise your environment.\n",
    "\n",
    "Linux allows you to customise your prompt by setting `PS1`.  Again, you probably will want to add one of these commands to your `.bashrc_local` file.  \n",
    "\n",
    "Type the following in the `xterm` and see your prompt change (no spaces around the equals):\n",
    "<pre>\n",
    "PS1='\\u$ '\n",
    "</pre>\n",
    "This should use your username as the prompt:"
   ]
  },
  {
   "cell_type": "code",
   "execution_count": null,
   "metadata": {},
   "outputs": [],
   "source": [
    "xterm -fg black -bg white -fa 'Monospace' -fs 14 &"
   ]
  },
  {
   "cell_type": "markdown",
   "metadata": {},
   "source": [
    "Alternatively try:\n",
    "<pre>\n",
    "PS1='\\h$ '\n",
    "</pre>\n",
    "to use your hostname as a prompt:"
   ]
  },
  {
   "cell_type": "code",
   "execution_count": null,
   "metadata": {},
   "outputs": [],
   "source": [
    "xterm -fg black -bg white -fa 'Monospace' -fs 14 &"
   ]
  },
  {
   "cell_type": "markdown",
   "metadata": {},
   "source": [
    "Some other commands you might find useful.  \n",
    "\n",
    "`which` tells you which version of an app you are using:"
   ]
  },
  {
   "cell_type": "code",
   "execution_count": null,
   "metadata": {},
   "outputs": [],
   "source": [
    "which python"
   ]
  },
  {
   "cell_type": "markdown",
   "metadata": {},
   "source": [
    "Linux uses the `PATH` variable to locate commands.  The `PATH` variable contains a colon separated list of directories that Linux searches for commands.\n",
    "\n",
    "The `which` command searches the `PATH` variable for the first occurance of the command.  \n",
    "\n",
    "Let's see what's in your `PATH`:"
   ]
  },
  {
   "cell_type": "code",
   "execution_count": null,
   "metadata": {},
   "outputs": [],
   "source": [
    "echo $PATH"
   ]
  },
  {
   "cell_type": "markdown",
   "metadata": {},
   "source": [
    "Sometimes you don't have the correct directories in your `PATH`.   You can use `whereis` - this searches common Linux directories for commands, but this is rarely needed if you use `module` commands."
   ]
  },
  {
   "cell_type": "code",
   "execution_count": null,
   "metadata": {},
   "outputs": [],
   "source": [
    "whereis python"
   ]
  },
  {
   "cell_type": "markdown",
   "metadata": {},
   "source": [
    "If you want to know what a command does you can seach `google` or use the `man` pages:"
   ]
  },
  {
   "cell_type": "code",
   "execution_count": null,
   "metadata": {},
   "outputs": [],
   "source": [
    "man python"
   ]
  },
  {
   "cell_type": "markdown",
   "metadata": {},
   "source": [
    "Alternatively, `whatis` gives a one-liner:"
   ]
  },
  {
   "cell_type": "code",
   "execution_count": null,
   "metadata": {},
   "outputs": [],
   "source": [
    "whatis python"
   ]
  },
  {
   "cell_type": "markdown",
   "metadata": {},
   "source": [
    "The `PATH` variable is an example of an environment variable.  These variables are used by command and C programs.  You can find out more about these variables by looking on-line.  \n",
    "\n",
    "To see all the environment variables set up on your account:"
   ]
  },
  {
   "cell_type": "code",
   "execution_count": null,
   "metadata": {},
   "outputs": [],
   "source": [
    "env"
   ]
  },
  {
   "cell_type": "markdown",
   "metadata": {},
   "source": [
    "The last command we'll look at is `quota`.  At Diamond you have a limited amount of disk space available:"
   ]
  },
  {
   "cell_type": "code",
   "execution_count": null,
   "metadata": {},
   "outputs": [],
   "source": [
    "quota --human-readable"
   ]
  }
 ],
 "metadata": {
  "kernelspec": {
   "display_name": "Bash",
   "language": "bash",
   "name": "bash"
  },
  "language_info": {
   "codemirror_mode": "shell",
   "file_extension": ".sh",
   "mimetype": "text/x-sh",
   "name": "bash"
  }
 },
 "nbformat": 4,
 "nbformat_minor": 4
}
