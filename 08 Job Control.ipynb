{
 "cells": [
  {
   "cell_type": "markdown",
   "metadata": {},
   "source": [
    "<div style=\"color:red;background-color:black\">\n",
    "Diamond Light Source\n",
    "\n",
    "<h1 style=\"color:red;background-color:antiquewhite\"> Linux Introduction: Job Control</h1>  \n",
    "\n",
    "©2000-24 Chris Seddon \n",
    "</div>"
   ]
  },
  {
   "cell_type": "markdown",
   "metadata": {},
   "source": [
    "Before we get started w need to discuss the concepts of foreground and background processes.  \n",
    "\n",
    "In the early days of Unix, users only had a single terminal to work with and this made it difficult to run several jobs concurrently.  To overcome this limitation foreground and background processes were introduced.\n",
    "\n",
    "Actually these terms are confusing.  Technically a process is either running, suspended or terminated.  However the terms foreground and background are how the parent process, in our case `bash`, sees the process.  The terms as some people think, have nothing to do with any output from the process, but simply whether or not `bash` waits for the process to complete before it issues its prompt for the next command:\n",
    "\n",
    "To wait or not to wait? - that is the question.\n",
    "\n",
    "First, here is the `bash` shell launching a foreground procees.  `bash` will wait for the command to complete before we can enter the next command:"
   ]
  },
  {
   "cell_type": "code",
   "execution_count": null,
   "metadata": {},
   "outputs": [],
   "source": [
    "sleep 10\n",
    "echo \"foreground process has completed\""
   ]
  },
  {
   "cell_type": "markdown",
   "metadata": {},
   "source": [
    "Contrast that with a background process.  \n",
    "\n",
    "To create a background process you add a `&` at the end of the command.  The `bash` shell will not wait for the command to complete - it will issue a prompt and read the next command immediately."
   ]
  },
  {
   "cell_type": "code",
   "execution_count": null,
   "metadata": {},
   "outputs": [],
   "source": [
    "sleep 10 &\n",
    "echo \"background process has completed\""
   ]
  },
  {
   "cell_type": "markdown",
   "metadata": {},
   "source": [
    "Now that is out of the way, you can run the `ps` command (process status) to see all jobs running on your machine."
   ]
  },
  {
   "cell_type": "code",
   "execution_count": null,
   "metadata": {},
   "outputs": [],
   "source": [
    "ps -ef"
   ]
  },
  {
   "cell_type": "markdown",
   "metadata": {},
   "source": [
    "The `ps` command has several columns.  To see them again we can use head:"
   ]
  },
  {
   "cell_type": "code",
   "execution_count": null,
   "metadata": {},
   "outputs": [],
   "source": [
    "ps -ef | head -1"
   ]
  },
  {
   "cell_type": "markdown",
   "metadata": {},
   "source": [
    "The columns are as follows: \n",
    "\n",
    "| Heading | Meaning |  \n",
    "|:---|:---|  \n",
    "UID | user id |\n",
    "| PID | process id |\n",
    "| PPID | parent process id|\n",
    "| C | % cpu utilization |\n",
    "| STIME | time process started |\n",
    "| TTY | controlling terminal |\n",
    "| TIME | cpu time used |\n",
    "| CMD | command |  \n",
    "\n",
    "Moving on, now run 3 commands in the background.  I'm using `xeyes` because its easy to see when its been suspended (stopped).  If you haven't played with `xeyes` before, just try moving the mouse near the graphic."
   ]
  },
  {
   "cell_type": "code",
   "execution_count": null,
   "metadata": {},
   "outputs": [],
   "source": [
    "xeyes&\n",
    "xeyes&\n",
    "xeyes&"
   ]
  },
  {
   "cell_type": "markdown",
   "metadata": {},
   "source": [
    "`ps` is often used with `grep` to filter out the commands we are not interested in:"
   ]
  },
  {
   "cell_type": "code",
   "execution_count": null,
   "metadata": {},
   "outputs": [],
   "source": [
    "ps -ef | grep xeyes"
   ]
  },
  {
   "cell_type": "markdown",
   "metadata": {},
   "source": [
    "Note that we also pick up the `grep` command.  If that annoys you, a little pattern matching will fix it:"
   ]
  },
  {
   "cell_type": "code",
   "execution_count": null,
   "metadata": {},
   "outputs": [],
   "source": [
    "ps -ef | grep [x]eyes"
   ]
  },
  {
   "cell_type": "markdown",
   "metadata": {},
   "source": [
    "Alternatively, we can use `pgrep`:"
   ]
  },
  {
   "cell_type": "code",
   "execution_count": null,
   "metadata": {
    "scrolled": true
   },
   "outputs": [],
   "source": [
    "pgrep -l xeyes"
   ]
  },
  {
   "cell_type": "markdown",
   "metadata": {},
   "source": [
    "You can kill multiple commands by name with `killall`:"
   ]
  },
  {
   "cell_type": "code",
   "execution_count": null,
   "metadata": {},
   "outputs": [],
   "source": [
    "pkill xeyes\n",
    "ps -ef | grep [x]eyes"
   ]
  },
  {
   "cell_type": "markdown",
   "metadata": {},
   "source": [
    "`ps` confirms the xeyes commands have been terminated.  \n",
    "\n",
    "Let's restart the `xeyes` and try some other commands."
   ]
  },
  {
   "cell_type": "code",
   "execution_count": null,
   "metadata": {},
   "outputs": [],
   "source": [
    "xeyes&\n",
    "xeyes&\n",
    "xeyes&"
   ]
  },
  {
   "cell_type": "markdown",
   "metadata": {},
   "source": [
    "`jobs` shows which processes are running in an immediate sub-shell.  The `+` and `-` indicate the last 2 processes we interacted with."
   ]
  },
  {
   "cell_type": "code",
   "execution_count": null,
   "metadata": {},
   "outputs": [],
   "source": [
    "jobs"
   ]
  },
  {
   "cell_type": "markdown",
   "metadata": {},
   "source": [
    "We can kill a job by requesting the kernel send a TERM signal to a process.  We need to specify the process's pid or its local pid.  Local pids are the ones reported by `jobs`.  Use a `%` sign to distinguish a local pid from a normal pid:"
   ]
  },
  {
   "cell_type": "code",
   "execution_count": null,
   "metadata": {},
   "outputs": [],
   "source": [
    "kill -TERM %1\n",
    "jobs"
   ]
  },
  {
   "cell_type": "markdown",
   "metadata": {},
   "source": [
    "We can also suspend (stop) a job by sending a TSTP signal via the kernel.  \n",
    "\n",
    "This will freeze the `xeyes`."
   ]
  },
  {
   "cell_type": "code",
   "execution_count": null,
   "metadata": {},
   "outputs": [],
   "source": [
    "kill -TSTP %3"
   ]
  },
  {
   "cell_type": "markdown",
   "metadata": {},
   "source": [
    "To restart the job use:"
   ]
  },
  {
   "cell_type": "code",
   "execution_count": null,
   "metadata": {},
   "outputs": [],
   "source": [
    "kill -CONT %3\n",
    "jobs"
   ]
  },
  {
   "cell_type": "markdown",
   "metadata": {},
   "source": [
    "Note that the `kill` command doesn't always kill a process.  `kill` delivers a signal to a process via the Linux kernel. In the early days of Unix, KILL was the only signal available, hence the naming of the command.  Nowadays there are lots of possible signals, so the command would be better called \"send-signal\".  \n",
    "\n",
    "Incidentally, each signal has a number, dependent on version of operating system.  You can use that number in place of the signal name.  Thus these commands are the same:\n",
    "<pre>\n",
    "kill -TERM %3\n",
    "kill -15 %3\n",
    "</pre>\n",
    "\n",
    "To get a list of possible signals we can look in the manual pages:"
   ]
  },
  {
   "cell_type": "code",
   "execution_count": null,
   "metadata": {},
   "outputs": [],
   "source": [
    "man signal"
   ]
  },
  {
   "cell_type": "markdown",
   "metadata": {},
   "source": [
    "Let's kill off all the jobs:"
   ]
  },
  {
   "cell_type": "code",
   "execution_count": null,
   "metadata": {},
   "outputs": [],
   "source": [
    "pkill xeyes\n",
    "jobs"
   ]
  },
  {
   "cell_type": "markdown",
   "metadata": {},
   "source": [
    "When we send a signal to a process it is delivered by the Linux kernel.  A process is allowed to ignore the signal if it so chooses.  I've been using `xeyes` because it is a well  behaved process and will obey the signals you send. \n",
    "\n",
    "I've written a short script file that doesn't respond to signals called:\n",
    "<pre>\n",
    "badly-behaved-process\n",
    "</pre>\n",
    "I'm sending it signals periodically.  \n",
    "\n",
    "When we try to kill it (TERM signal), suspend it (TSTP signal) or interrupt it (INT signal) it just ignores the signals (note the shell thinks it has terminated, but `jobs` confirms it is still running).\n",
    "\n",
    "So how can we terminate this process?"
   ]
  },
  {
   "cell_type": "code",
   "execution_count": null,
   "metadata": {},
   "outputs": [],
   "source": [
    "cd resources\n",
    "badly-behaved-process &\n",
    "jobs\n",
    "sleep 5\n",
    "kill -TERM %1\n",
    "\n",
    "jobs\n",
    "kill -INT %1\n",
    "sleep 5\n",
    "\n",
    "jobs\n",
    "sleep 5\n",
    "kill -TSTP %1\n",
    "sleep 1\n",
    "\n",
    "jobs"
   ]
  },
  {
   "cell_type": "markdown",
   "metadata": {},
   "source": [
    "To cater for this situation, two signals are special and can't be ignored.  If you send a KILL signal (always signal 9) the kernel will terminate the process immediately unconditionally.  The STOP signal always suspends a process; the kernel enforces this.  In both cases the signals never arrive at the target process.\n",
    "\n",
    "So let's kill off our waywood process:"
   ]
  },
  {
   "cell_type": "code",
   "execution_count": null,
   "metadata": {},
   "outputs": [],
   "source": [
    "jobs\n",
    "kill -9 %1\n",
    "jobs"
   ]
  },
  {
   "cell_type": "markdown",
   "metadata": {},
   "source": [
    "We can also bring jobs to the foreground or send to the backgound.  Unfortunately this is difficult to demonstate in a Jupyter Notebook because we are not talking directly to the `bash` shell.  \n",
    "\n",
    "When we move a background job to the forground, the Jupyter kernel will not allow us to proceed to the next cell.  You will see a `*` on the left of the cell indicating its still running.  In a real `bash` shell we can hit control-C (^C) to terminate a foreground process.  But, in the notebook you'll have to simulate that by hitting the black square on the menu bar above the notebook cells.\n",
    "\n",
    "You'll need to do this or the notebook will freeze after we issue the next command, which starts a `xeyes` process in the background and then brings it to the foreground.  \n",
    "\n",
    "Alternatively you could have killed the `xeyes` by clicking the `x` on the graphic.  Notice that when you hit the black square, the Jupyter notebook kills the job."
   ]
  },
  {
   "cell_type": "code",
   "execution_count": null,
   "metadata": {},
   "outputs": [],
   "source": [
    "xeyes&\n",
    "fg %1"
   ]
  },
  {
   "cell_type": "markdown",
   "metadata": {},
   "source": [
    "Its also possible to suspend a foreground job using cotrol-Z (^Z), but again we can't easily demonstrate this in the notebook.  \n",
    "\n",
    "However we can run a seperate `xterm` and you can run `xeyes` in that.  This will be a running a real `bash` interpreter; this will allow you to try out the ^Z and ^C signals directly.\n",
    "\n",
    "Let's kill off all our `xeyes` processes and start the `xterm`:"
   ]
  },
  {
   "cell_type": "code",
   "execution_count": null,
   "metadata": {},
   "outputs": [],
   "source": [
    "pkill xeyes\n",
    "xterm -fg black -bg white -fa 'Monospace' -fs 14 &"
   ]
  },
  {
   "cell_type": "markdown",
   "metadata": {},
   "source": [
    "Now type the following command in the `xterm`.\n",
    "<pre>\n",
    "xeyes\n",
    "</pre>\n",
    "`xeyes` will run in the foreground.  \n",
    "\n",
    "Now type ^Z in the `xterm` to suspend `xeyes`.  Verify it is frozen.  \n",
    "type\n",
    "<pre>\n",
    "jobs\n",
    "</pre>\n",
    "to confirm its suspended.  \n",
    "\n",
    "Now type\n",
    "<pre>\n",
    "fg\n",
    "</pre>\n",
    "and `xeyes` is back in the foreground and no longer frozen.  Note the `bash` doesn't issue a prompt whilst the foreground process is running.  You may need to click on its parent window to bring it to the front of the screen.\n",
    "\n",
    "Type ^Z again to suspend `xeyes` and then send it to the background with\n",
    "<pre>\n",
    "bg\n",
    "jobs\n",
    "</pre>\n",
    "It will now be active once again.  Moving a command between background and foreground doesn't affect the process - its active (running) in both cases; it only affects whether or not the `bash` shell issues a prompt.\n",
    "\n",
    "Finally, bring the job to the foreground with\n",
    "<pre>\n",
    "fg\n",
    "</pre>\n",
    "and kill it with ^C.  You can now kill off the `xterm` window as well.  \n",
    "\n",
    "That's all folks!"
   ]
  }
 ],
 "metadata": {
  "kernelspec": {
   "display_name": "Bash",
   "language": "bash",
   "name": "bash"
  },
  "language_info": {
   "codemirror_mode": "shell",
   "file_extension": ".sh",
   "mimetype": "text/x-sh",
   "name": "bash"
  }
 },
 "nbformat": 4,
 "nbformat_minor": 2
}
