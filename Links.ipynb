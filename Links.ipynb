{
 "cells": [
  {
   "cell_type": "markdown",
   "metadata": {},
   "source": [
    "<div style=\"color:red;background-color:black\">\n",
    "Diamond Light Source\n",
    "\n",
    "<h1 style=\"color:red;background-color:antiquewhite\"> Linux Introduction: Links</h1>  \n",
    "\n",
    "©2000-20 Chris Seddon \n",
    "</div>"
   ]
  },
  {
   "cell_type": "markdown",
   "metadata": {},
   "source": [
    "Although Linux files have names, files are classified by a number.  Thus number is called the inode number.\n",
    "Let's explore what I mean.  To begin with we will create a directory for our work:"
   ]
  },
  {
   "cell_type": "code",
   "execution_count": null,
   "metadata": {},
   "outputs": [],
   "source": [
    "## 1\n",
    "mkdir links"
   ]
  },
  {
   "cell_type": "code",
   "execution_count": null,
   "metadata": {},
   "outputs": [],
   "source": [
    "%cd links"
   ]
  },
  {
   "cell_type": "code",
   "execution_count": null,
   "metadata": {},
   "outputs": [],
   "source": [
    "%%bash\n",
    "echo abcdefgh > file1\n",
    "cat file1\n",
    "ls -l"
   ]
  },
  {
   "cell_type": "markdown",
   "metadata": {},
   "source": [
    "Here we created a file with the characters 'a' through 'h' called 'file1'.  However it also has a number, called its inode number:"
   ]
  },
  {
   "cell_type": "code",
   "execution_count": null,
   "metadata": {},
   "outputs": [],
   "source": [
    "ls -il"
   ]
  },
  {
   "cell_type": "markdown",
   "metadata": {},
   "source": [
    "The inode number is in column one, before the file permissions."
   ]
  },
  {
   "cell_type": "markdown",
   "metadata": {},
   "source": [
    "Files can have more than one name.  We use the 'ln' command to create another name:"
   ]
  },
  {
   "cell_type": "code",
   "execution_count": null,
   "metadata": {},
   "outputs": [],
   "source": [
    "%%bash\n",
    "ln file1 file2\n",
    "ls -il"
   ]
  },
  {
   "cell_type": "markdown",
   "metadata": {},
   "source": [
    "Note 'file1' and 'file2' have the same inode number.  In fact they are the same file.  Let's append some data to this file to check this out:"
   ]
  },
  {
   "cell_type": "code",
   "execution_count": null,
   "metadata": {},
   "outputs": [],
   "source": [
    "%%bash\n",
    "echo 12345 >> file2\n",
    "cat file1\n",
    "cat file2"
   ]
  },
  {
   "cell_type": "markdown",
   "metadata": {},
   "source": [
    "The 'echo' command has added a second line to our file.  Note 'cat' shows the same contents for 'file1' and 'file2', confirming they are the same file.  Notice that 'ls' reported a link count of 2 for this file (the link count is just after the file permissions).  Let's give our file a third name:"
   ]
  },
  {
   "cell_type": "code",
   "execution_count": null,
   "metadata": {},
   "outputs": [],
   "source": [
    "%%bash\n",
    "ln file2 file3\n",
    "ls -il"
   ]
  },
  {
   "cell_type": "markdown",
   "metadata": {},
   "source": [
    "As expected 'file3' has the same inode as before and the link count is now 3, corresponding to the 3 names.  Interestingly, the multiple filenames don't have to be in the same directory; you can use a more complicated path in the ln command to achieve this.  It turns out that this can be very useful (see later), but there is a problem with doing so.  This is because disk or disks are split into multiple filesystems called partitions.  inodes are only unique with a given partition and the 'ln' command can't cross partitions.  This wasn't a problem in the early days of Unix because we only had one or two partitions.\n",
    "To overcome this, the 'ln' command was modified with an '-s' option.  This allows cross partition names to be used:"
   ]
  },
  {
   "cell_type": "code",
   "execution_count": null,
   "metadata": {},
   "outputs": [],
   "source": [
    "%%bash\n",
    "ln -s file2 softlink\n",
    "ls -il"
   ]
  },
  {
   "cell_type": "markdown",
   "metadata": {},
   "source": [
    "Links created with the '-s' option are called soft or symbolic links; the previous filesnames are called hard links.  Note that soft links have a different inode, but still refer to the original file:"
   ]
  },
  {
   "cell_type": "code",
   "execution_count": null,
   "metadata": {},
   "outputs": [],
   "source": [
    "%%bash\n",
    "cat file3\n",
    "cat softlink"
   ]
  },
  {
   "cell_type": "markdown",
   "metadata": {},
   "source": [
    "If we remove one of the hard links (it doesn't matter which filename we choose), the file still exists:"
   ]
  },
  {
   "cell_type": "code",
   "execution_count": null,
   "metadata": {},
   "outputs": [],
   "source": [
    "%%bash\n",
    "rm file3\n",
    "cat file1\n",
    "cat file2\n",
    "cat softlink"
   ]
  },
  {
   "cell_type": "markdown",
   "metadata": {},
   "source": [
    "and the link count has gone down to 2:"
   ]
  },
  {
   "cell_type": "code",
   "execution_count": null,
   "metadata": {},
   "outputs": [],
   "source": [
    "%%bash\n",
    "ls -il"
   ]
  },
  {
   "cell_type": "markdown",
   "metadata": {},
   "source": [
    "Now we see why the 'rm' command is so named.  'rm' removes a link and doesn't necessarily delete the file.  If we remove all the links then we do delete the file: "
   ]
  },
  {
   "cell_type": "code",
   "execution_count": null,
   "metadata": {},
   "outputs": [],
   "source": [
    "%%bash\n",
    "rm file1\n",
    "rm file2"
   ]
  },
  {
   "cell_type": "code",
   "execution_count": null,
   "metadata": {},
   "outputs": [],
   "source": [
    "cat softlink"
   ]
  },
  {
   "cell_type": "markdown",
   "metadata": {},
   "source": [
    "Note that the softlink is still active, but is pointing at a non-existant file ('file2').  If we create a new 'file2', the softlink works again."
   ]
  },
  {
   "cell_type": "code",
   "execution_count": null,
   "metadata": {},
   "outputs": [],
   "source": [
    "%%bash\n",
    "echo zyxwvuts > file2\n",
    "cat file2\n",
    "cat softlink"
   ]
  },
  {
   "cell_type": "markdown",
   "metadata": {},
   "source": [
    "That completes this tutorial.  Finally, let's clean up."
   ]
  },
  {
   "cell_type": "code",
   "execution_count": null,
   "metadata": {},
   "outputs": [],
   "source": [
    "%%bash\n",
    "cd ..\n",
    "rm -r links"
   ]
  },
  {
   "cell_type": "code",
   "execution_count": null,
   "metadata": {},
   "outputs": [],
   "source": []
  }
 ],
 "metadata": {
  "kernelspec": {
   "display_name": "Bash",
   "language": "bash",
   "name": "bash"
  },
  "language_info": {
   "codemirror_mode": "shell",
   "file_extension": ".sh",
   "mimetype": "text/x-sh",
   "name": "bash"
  }
 },
 "nbformat": 4,
 "nbformat_minor": 2
}
