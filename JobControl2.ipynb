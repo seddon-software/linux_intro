{
 "cells": [
  {
   "cell_type": "markdown",
   "metadata": {},
   "source": [
    "<div style=\"color:red;background-color:black\">\n",
    "Diamond Light Source\n",
    "\n",
    "<h1 style=\"color:red;background-color:antiquewhite\"> Linux Introduction: Job Control</h1>  \n",
    "\n",
    "©2000-20 Chris Seddon \n",
    "</div>"
   ]
  },
  {
   "cell_type": "markdown",
   "metadata": {},
   "source": [
    "In this tutorial we are going to investigate job contol.  Unfortunately, Jupyter notebook can't handle some of the job control commands, so you will need to type all the commands in a terminal window."
   ]
  },
  {
   "cell_type": "markdown",
   "metadata": {},
   "source": [
    "Linux provides the \"ps\" command to see all the processes running on a machine:  \n",
    "- ps -ef  \n",
    "\n",
    "but here we are only concerned with the processes we create in our current shell.  So open a terminal and create a subshell:\n",
    "\n",
    "- bash  \n",
    "\n",
    "before you type the commands below."
   ]
  },
  {
   "cell_type": "markdown",
   "metadata": {},
   "source": [
    "## 1\n",
    "Let's start by investigating forground and background jobs.\n",
    "\n",
    "A foreground job is one where the shell waits for the command to complete, before it will accept another command.  In Jupyter notebook things are slightly different - notebook indicates the shell is waiting by printing a '*' in the [ ] at the side of the cell.\n",
    "\n",
    "Lets run the \"sleep\" command for 10 seconds and watch the '*' appear for 10 seconds; the shell is waiting for the sleep command to complete."
   ]
  },
  {
   "cell_type": "code",
   "execution_count": 7,
   "metadata": {},
   "outputs": [
    {
     "name": "stdout",
     "output_type": "stream",
     "text": [
      "[1]+  Done                    sleep 10\n",
      "sleep completed\n"
     ]
    }
   ],
   "source": [
    "sleep 10\n",
    "echo \"sleep completed\""
   ]
  },
  {
   "cell_type": "markdown",
   "metadata": {},
   "source": [
    "## 2\n",
    "Now let's run the \"sleep\" command again, but this time in the background.  Now the shell won't wait for the \"sleep\" to complete and will move on to the next command immediately - and you won't see a '*' either.\n",
    "\n",
    "To run a coomand in the background add an & at the end of the command:"
   ]
  },
  {
   "cell_type": "code",
   "execution_count": 1,
   "metadata": {},
   "outputs": [
    {
     "name": "stdout",
     "output_type": "stream",
     "text": [
      "[1] 62423\n",
      "sleep completed\n"
     ]
    }
   ],
   "source": [
    "sleep 10 &\n",
    "echo \"sleep completed\""
   ]
  },
  {
   "cell_type": "markdown",
   "metadata": {},
   "source": [
    "## 3\n",
    "If we use a long running command, the shell will wait for a long time.  I'm going to use the \"xeyes\" program in this example.\n",
    "Let's use the \"xeyes\" command to investigate job control:"
   ]
  },
  {
   "cell_type": "code",
   "execution_count": null,
   "metadata": {},
   "outputs": [],
   "source": [
    "xeyes"
   ]
  },
  {
   "cell_type": "code",
   "execution_count": null,
   "metadata": {},
   "outputs": [],
   "source": []
  },
  {
   "cell_type": "code",
   "execution_count": 4,
   "metadata": {},
   "outputs": [
    {
     "name": "stdout",
     "output_type": "stream",
     "text": [
      "[2] 62428\n"
     ]
    }
   ],
   "source": [
    "xeyes&"
   ]
  },
  {
   "cell_type": "markdown",
   "metadata": {},
   "source": [
    "When you execute the script above, the \"xeyes\" are created, but you don't get your prompt back.  This is because you have executed the \"xeyes\" command in what we call the *foreground*.  All commands are executed in the foreground unless you specify the command should run in the background (see below).\n",
    "\n",
    "Now kill off the \"xeyes\" using the cross in the top right corner of the title bar.  Now you get your prompt.  What is happening?"
   ]
  },
  {
   "cell_type": "code",
   "execution_count": null,
   "metadata": {},
   "outputs": [],
   "source": []
  },
  {
   "cell_type": "markdown",
   "metadata": {},
   "source": [
    "When you run a command in the foreground, the bash shell waits for the command to complete before the shell issues a prompt ready for the next command.  \n",
    "\n",
    "FOREGROUND: the shell waits  \n",
    "\n",
    "The alternative is to run a command in the background:  \n"
   ]
  },
  {
   "cell_type": "markdown",
   "metadata": {},
   "source": [
    "- xeyes &"
   ]
  },
  {
   "cell_type": "markdown",
   "metadata": {},
   "source": [
    "The & tells the shell to run the xeyes command in the backgound. \n",
    "\n",
    "BACKGROUND: the shell does NOT wait"
   ]
  },
  {
   "cell_type": "markdown",
   "metadata": {},
   "source": [
    "Create a couple more xeyes in the background:\n",
    "\n",
    "- xeyes&\n",
    "- xeyes&"
   ]
  },
  {
   "cell_type": "markdown",
   "metadata": {},
   "source": [
    "Run the \"jobs\" command to see what commands are running in the background:"
   ]
  },
  {
   "cell_type": "markdown",
   "metadata": {},
   "source": [
    "- jobs"
   ]
  },
  {
   "cell_type": "markdown",
   "metadata": {},
   "source": [
    "You get output like:  \n",
    "\n",
    "[1]   Running                 xeyes &  \n",
    "[2]-  Running                 xeyes &  \n",
    "[3]+  Running                 xeyes &  \n"
   ]
  },
  {
   "cell_type": "markdown",
   "metadata": {},
   "source": [
    "The numbers are the local process ids.  \n",
    "We can now do some job control.  We can *suspend*, *restart* and *terminate* jobs, but the job control commands are different for foreground and background jobs.  In fact to interact with foreground jobs you can't use any commands because you haven't got your prompt back.  Instead you use control sequences."
   ]
  },
  {
   "cell_type": "markdown",
   "metadata": {},
   "source": [
    "Let's start with the background jobs.  \n",
    "To suspend a background job type:  \n",
    "- kill -TSTP %2  \n",
    "\n",
    "Notice that one of the xeyes is incapacitated.  The command \"kill\" originally killed the job, but nowadays the command has been extended to perform suspend, restart and terminate.  In fact kill sends a signal to the job.  Look in the manual pages to see all the possible signals:  \n",
    "- man 7 signal"
   ]
  },
  {
   "cell_type": "markdown",
   "metadata": {},
   "source": [
    "Now restart the job:  \n",
    "- kill -CONT %2  \n",
    "\n",
    "The job is restarted."
   ]
  },
  {
   "cell_type": "markdown",
   "metadata": {},
   "source": [
    "Now terminate the job:  \n",
    "- kill -TERM %2  \n",
    "\n",
    "The job is terminated."
   ]
  },
  {
   "cell_type": "markdown",
   "metadata": {},
   "source": [
    "Jobs can be transferred from background to forground:  \n",
    "- fg  %1  \n",
    "\n",
    "This takes job 1 into the foreground."
   ]
  },
  {
   "cell_type": "markdown",
   "metadata": {},
   "source": [
    "Let's suspend this job to get our prompt back:  \n",
    "- Contrl-Z\n",
    "(hold the control key down while pressing Z).  "
   ]
  },
  {
   "cell_type": "markdown",
   "metadata": {},
   "source": [
    "Restart the job in the background:  \n",
    "- bg %1"
   ]
  },
  {
   "cell_type": "markdown",
   "metadata": {},
   "source": [
    "Move the job to the foreground:  \n",
    "- fg %1"
   ]
  },
  {
   "cell_type": "markdown",
   "metadata": {},
   "source": [
    "Terminate the foreground job:  \n",
    "- Control-C"
   ]
  },
  {
   "cell_type": "markdown",
   "metadata": {},
   "source": [
    "The local job ids can be omitted from the *fg* and *bg*.  In that case the command will apply to the most recent job.  You can also replace the local job ids with the process ids as displayed by the \"ps\" command."
   ]
  },
  {
   "cell_type": "markdown",
   "metadata": {},
   "source": [
    "Finally, you will often see people use the special KILL signal.  When you send any of the signals above, you are sending the signals from the bash shell, via the Linux kernel, to the target command.  Target commands should obey the signal, but they are allowed to ignore the signal.  However if the command crashes or gets stuck in a loop it will ignore terminate signals, so you won't be able to \"kill\" the command.  \n",
    "To get around this problem a special signal is used (KILL).  This signal is not delivered to the process; the kernel just terminates the process abruptly:  \n",
    "- kill -KILL %3"
   ]
  },
  {
   "cell_type": "markdown",
   "metadata": {},
   "source": [
    "Finally, let's summarise the above commands:"
   ]
  },
  {
   "cell_type": "markdown",
   "metadata": {},
   "source": [
    "| command | result\n",
    "| --- | ---\n",
    "| *xeyes* | run in foreground\n",
    "| xeyes& | run in background\n",
    "| kill -TERM %1 | send terminate signal\n",
    "| kill -TSTP %1 | send suspend (temporary stop) signal\n",
    "| kill -CONT %1 | send restart (continue) signal\n",
    "| fg %1 | restart process in foreground\n",
    "| bg %1 | restart process in background\n",
    "| Control-Z | send suspend signal to foreground process\n",
    "| Control-C | send terminate signal to foreground process\n",
    "| jobs | list background jobs\n",
    "| kill -KILL %1 | send unstoppable kill signal"
   ]
  }
 ],
 "metadata": {
  "kernelspec": {
   "display_name": "Bash",
   "language": "bash",
   "name": "bash"
  },
  "language_info": {
   "codemirror_mode": "shell",
   "file_extension": ".sh",
   "mimetype": "text/x-sh",
   "name": "bash"
  }
 },
 "nbformat": 4,
 "nbformat_minor": 2
}
