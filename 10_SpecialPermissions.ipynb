{
 "cells": [
  {
   "cell_type": "markdown",
   "metadata": {},
   "source": [
    "<div style=\"color:red;background-color:black\">\n",
    "Diamond Light Source\n",
    "\n",
    "<h1 style=\"color:red;background-color:antiquewhite\"> Linux Introduction: Special Permissions</h1>  \n",
    "\n",
    "©2000-21 Chris Seddon \n",
    "</div>"
   ]
  },
  {
   "cell_type": "markdown",
   "metadata": {},
   "source": [
    "Suppose we wish to change our password.  Let's take a look at the system password file and see if we have permission to do so."
   ]
  },
  {
   "cell_type": "code",
   "execution_count": null,
   "metadata": {},
   "outputs": [],
   "source": [
    "ls -l /etc/passwd"
   ]
  },
  {
   "cell_type": "markdown",
   "metadata": {},
   "source": [
    "We are not 'root' and we are not in the 'root' group, so the last three permissions apply to us:\n",
    "    r--\n",
    "That means we only have read permission.  So we can look at the file, but can't edit the file to change our password.  Let's see what's in the file:"
   ]
  },
  {
   "cell_type": "code",
   "execution_count": null,
   "metadata": {},
   "outputs": [],
   "source": [
    "cat /etc/passwd"
   ]
  },
  {
   "cell_type": "markdown",
   "metadata": {},
   "source": [
    "The password used to be in field two, but now there is only an 'x'.  That's because the password has been moved to the shadow file:"
   ]
  },
  {
   "cell_type": "code",
   "execution_count": null,
   "metadata": {},
   "outputs": [],
   "source": [
    "ls -l /etc/shadow"
   ]
  },
  {
   "cell_type": "markdown",
   "metadata": {},
   "source": [
    "We don't even have read permission on this file (for security reasons).  So how can we change our password?\n",
    "Linux employs a special mechanism to allow us to perform the change.  We can't edit the 'shadow' file directly, but we can use a program called 'passwd' to do it for us:"
   ]
  },
  {
   "cell_type": "code",
   "execution_count": null,
   "metadata": {},
   "outputs": [],
   "source": [
    "ls -l /usr/bin/passwd"
   ]
  },
  {
   "cell_type": "markdown",
   "metadata": {},
   "source": [
    "Note the first three permissions: rws.  The 's' stands for special permission.  A program with 's' permission is called a setuid program.  What it means is that anyone running this program will temporarily become root (the owner of the setuid program).  We know root has write access to the '/etc/passwd' file and hence we will be allowed to change our password with this program.  \n",
    "\n",
    "Linux has a concept of 'real' and 'effective' user ids.  By running a setuid program our 'real' userid doesn't change, but our 'effective' userid does.  Linux permissions are based on effective userid and not on real userid.  We say we impersonate 'root' while running this program.  \n",
    "\n",
    "The passwd program adds an extra level of security and will only allow us to change our own password; the program knows who we are because of our real userid."
   ]
  },
  {
   "cell_type": "markdown",
   "metadata": {},
   "source": [
    "Linux also defines a setgroupid program where an 's' is specified in the group permissions.  This works in the same way as the setuid, but applies to anyone in the group. The 's' permission allows the 'real' user to impersonate the owner of the program - in this case 'root'."
   ]
  },
  {
   "cell_type": "markdown",
   "metadata": {},
   "source": [
    "There is one othe special permission.  This is the sticky bit 't'.  This has nothing to do with the 's' permissions.  \n",
    "\n",
    "Consider the case where we are editing a file with 'vim'.  For large files 'vim' stores its working data in the directory: /var/temp.  \n",
    "\n",
    "However, since anyone can use 'vim', everyone needs write access to this directory:"
   ]
  },
  {
   "cell_type": "code",
   "execution_count": null,
   "metadata": {},
   "outputs": [],
   "source": [
    "ls -ld /var/tmp"
   ]
  },
  {
   "cell_type": "markdown",
   "metadata": {},
   "source": [
    "We can see we do have write access to this directory, so all is well.  However there is a problem with this scheme.  It was found that by giving everyone access to this folder it meant that malicious users could delete othe user's temporary data.  This used to happen a lot in a University environment, when students regarded this a a practical joke.  Clearly, this defect needs to be addressed.  \n",
    "\n",
    "Notice the 't' bit in the permissions for this directory.  This makes the directory 'sticky'.  In a sticky directory users are only allowed to delete their own files even though they write permission.  The 'sticky' bit effectively controls how the write permission works."
   ]
  },
  {
   "cell_type": "markdown",
   "metadata": {},
   "source": [
    "You might be wondering why the 't' bit is called the 'sticky' bit.  Well, in the early days of Unix the sticky bit was used to keep a program in memory (stick in memory).  If a program was stuck in memory it would run faster than other programs (they would be swapped out to disk when their time slice ended).  As Unix became more sophisticated this mechanism was replaced by paging in and out virtual memory and the 'sticky' bit was no longer required.  Since the 't' permission was available it was reassigned as above, but the name wasn't changed."
   ]
  }
 ],
 "metadata": {
  "kernelspec": {
   "display_name": "Bash",
   "language": "bash",
   "name": "bash"
  },
  "language_info": {
   "codemirror_mode": "shell",
   "file_extension": ".sh",
   "mimetype": "text/x-sh",
   "name": "bash"
  }
 },
 "nbformat": 4,
 "nbformat_minor": 2
}
