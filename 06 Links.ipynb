{
 "cells": [
  {
   "cell_type": "markdown",
   "metadata": {},
   "source": [
    "<div style=\"color:red;background-color:black\">\n",
    "Diamond Light Source\n",
    "\n",
    "<h1 style=\"color:red;background-color:antiquewhite\"> Linux Introduction: Links</h1>  \n",
    "\n",
    "©2000-24 Chris Seddon \n",
    "</div>"
   ]
  },
  {
   "cell_type": "markdown",
   "metadata": {},
   "source": [
    "Although Linux files have names, files are classified by a unique number.  Thus number is called the inode number.\n",
    "Let's explore what I mean.  To begin with we will create a directory for our work:"
   ]
  },
  {
   "cell_type": "code",
   "execution_count": null,
   "metadata": {},
   "outputs": [],
   "source": [
    "mkdir links\n",
    "cd links"
   ]
  },
  {
   "cell_type": "markdown",
   "metadata": {},
   "source": [
    "Before we can use links, we need a sample file:"
   ]
  },
  {
   "cell_type": "code",
   "execution_count": null,
   "metadata": {},
   "outputs": [],
   "source": [
    "echo abcdefgh > file1\n",
    "cat file1\n",
    "ls -l"
   ]
  },
  {
   "cell_type": "markdown",
   "metadata": {},
   "source": [
    "We've created a file with the characters 'a' through 'h' called `file1`.  As explained above, it also has an inode number.  We can see this number using the `-i` option of `ls`:"
   ]
  },
  {
   "cell_type": "code",
   "execution_count": null,
   "metadata": {},
   "outputs": [],
   "source": [
    "ls -il"
   ]
  },
  {
   "cell_type": "markdown",
   "metadata": {},
   "source": [
    "The inode number is in column one, before the file permissions.  \n",
    "Files can have more than one name; we use the `ln` command to create another name for the file.  \n",
    "\n",
    "The syntax of this command is:\n",
    "<pre>\n",
    "ln old-name new-name\n",
    "</pre>\n",
    "We now create a second name for our file:"
   ]
  },
  {
   "cell_type": "code",
   "execution_count": null,
   "metadata": {},
   "outputs": [],
   "source": [
    "ln file1 file2\n",
    "ls -il"
   ]
  },
  {
   "cell_type": "markdown",
   "metadata": {},
   "source": [
    "Note `file1` and `file2` have the same inode number.  This means they are the same file.  Let's append some data to this file to check this out:"
   ]
  },
  {
   "cell_type": "code",
   "execution_count": null,
   "metadata": {},
   "outputs": [],
   "source": [
    "echo 12345 >> file2\n",
    "cat file1\n",
    "cat file2"
   ]
  },
  {
   "cell_type": "markdown",
   "metadata": {},
   "source": [
    "The `echo` command has added a second line to our file.  As you can see `cat` shows the same contents for `file1` and `file2`, confirming they are the same file.  \n",
    "\n",
    "Notice that `ls` reports a link count (number of file names) of 2 for this file (the link count is reported just after the file permissions).  \n",
    "\n",
    "Let's give our file a third name:"
   ]
  },
  {
   "cell_type": "code",
   "execution_count": null,
   "metadata": {},
   "outputs": [],
   "source": [
    "ln file2 file3\n",
    "ls -il"
   ]
  },
  {
   "cell_type": "markdown",
   "metadata": {},
   "source": [
    "As expected `file3` has the same inode as before and the link count is now 3, corresponding to the 3 names.  Interestingly, the multiple filenames don't have to be in the same directory; you can use a more complicated path in the ln command to achieve this.  \n",
    "\n",
    "It turns out that this can be very useful (see later), but sometimes there is a problem with doing so.  This is because disk or disks are split into multiple filesystems called partitions.  inodes are only unique with a given partition and the `ln` command can't cross partitions.  This wasn't a problem in the early days of Unix because we only had one or two partitions.\n",
    "\n",
    "In modern Unix systems, the `ln` command was modified to support a '-s' option.  This allows cross partition names to be used:"
   ]
  },
  {
   "cell_type": "code",
   "execution_count": null,
   "metadata": {},
   "outputs": [],
   "source": [
    "ln -s file2 softlink\n",
    "ls -il"
   ]
  },
  {
   "cell_type": "markdown",
   "metadata": {},
   "source": [
    "Links created with the `-s` option are called soft or symbolic links; the previous filenames are called hard links.  \n",
    "\n",
    "Note that soft links have a different inode, but still refer back to the original file.  In fact `cat` reports the contents of the files are the same:"
   ]
  },
  {
   "cell_type": "code",
   "execution_count": null,
   "metadata": {},
   "outputs": [],
   "source": [
    "cat file3\n",
    "cat softlink"
   ]
  },
  {
   "cell_type": "markdown",
   "metadata": {},
   "source": [
    "If we append `==========` to one of the hard links, all the hard and soft links will see the change:"
   ]
  },
  {
   "cell_type": "code",
   "execution_count": null,
   "metadata": {},
   "outputs": [],
   "source": [
    "echo '==========' >> file2\n",
    "cat file1\n",
    "cat file2\n",
    "cat file3\n",
    "cat softlink"
   ]
  },
  {
   "cell_type": "markdown",
   "metadata": {},
   "source": [
    "If we remove one of the hard links (it doesn't matter which filename we choose), the file still exists:"
   ]
  },
  {
   "cell_type": "code",
   "execution_count": null,
   "metadata": {},
   "outputs": [],
   "source": [
    "rm file3\n",
    "cat file1\n",
    "cat file2\n",
    "cat softlink"
   ]
  },
  {
   "cell_type": "markdown",
   "metadata": {},
   "source": [
    "Note that the link count has gone down to 2 on the hardlinks:"
   ]
  },
  {
   "cell_type": "code",
   "execution_count": null,
   "metadata": {},
   "outputs": [],
   "source": [
    "ls -il"
   ]
  },
  {
   "cell_type": "markdown",
   "metadata": {},
   "source": [
    "Now we see why the `rm` command is so called.  `rm` removes a hard link and doesn't necessarily delete the file."
   ]
  },
  {
   "cell_type": "code",
   "execution_count": null,
   "metadata": {},
   "outputs": [],
   "source": [
    "rm file1\n",
    "ls -l"
   ]
  },
  {
   "cell_type": "markdown",
   "metadata": {},
   "source": [
    "However, if we remove all the hard links then we do delete the file: "
   ]
  },
  {
   "cell_type": "code",
   "execution_count": null,
   "metadata": {},
   "outputs": [],
   "source": [
    "rm file2\n",
    "ls -l"
   ]
  },
  {
   "cell_type": "markdown",
   "metadata": {},
   "source": [
    "Note that the softlink is still active, but is pointing at a non-existant file (`file2`).  "
   ]
  },
  {
   "cell_type": "code",
   "execution_count": null,
   "metadata": {},
   "outputs": [],
   "source": [
    "ls -l\n",
    "cat softlink"
   ]
  },
  {
   "cell_type": "markdown",
   "metadata": {},
   "source": [
    "If we create a new `file2`, the softlink works again."
   ]
  },
  {
   "cell_type": "code",
   "execution_count": null,
   "metadata": {},
   "outputs": [],
   "source": [
    "echo zyxwvuts > file2\n",
    "cat file2\n",
    "cat softlink\n",
    "ls -l"
   ]
  },
  {
   "cell_type": "markdown",
   "metadata": {},
   "source": [
    "That completes this tutorial.  Finally, let's clean up."
   ]
  },
  {
   "cell_type": "code",
   "execution_count": null,
   "metadata": {},
   "outputs": [],
   "source": [
    "cd ..\n",
    "rm -rf links"
   ]
  }
 ],
 "metadata": {
  "kernelspec": {
   "display_name": "Bash",
   "language": "bash",
   "name": "bash"
  },
  "language_info": {
   "codemirror_mode": "shell",
   "file_extension": ".sh",
   "mimetype": "text/x-sh",
   "name": "bash"
  }
 },
 "nbformat": 4,
 "nbformat_minor": 2
}
