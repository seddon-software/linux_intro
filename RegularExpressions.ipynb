{
 "cells": [
  {
   "cell_type": "markdown",
   "metadata": {},
   "source": [
    "# Regular Expressions"
   ]
  },
  {
   "cell_type": "markdown",
   "metadata": {},
   "source": [
    "Regular expressions (regex) define a pattern with wildcards to search text.  Regexs can be used with several Linux commands and are also supported in many programming languages including Python and C++.\n",
    "In this tutorial we will use 'grep' and 'egrep' to investigate the common regular expressions.  Full details can be found online, for example:  \n",
    "\n",
    "[RegEx](https://www.rexegg.com/regex-quickstart.html \"Cheat Sheet\")"
   ]
  },
  {
   "cell_type": "markdown",
   "metadata": {},
   "source": [
    "First, let's create a Jupyter magic command to create bash scripts and ignore errors"
   ]
  },
  {
   "cell_type": "code",
   "execution_count": null,
   "metadata": {},
   "outputs": [],
   "source": [
    "%alias_magic b bash -p '--no-raise-error'"
   ]
  },
  {
   "cell_type": "markdown",
   "metadata": {},
   "source": [
    "The file:  \n",
    "- /usr/share/dict/words  \n",
    "\n",
    "is a dictionary with one word per line.  We can use it to illustrate most RegExs."
   ]
  },
  {
   "cell_type": "code",
   "execution_count": null,
   "metadata": {},
   "outputs": [],
   "source": [
    "%%b\n",
    "grep abc /usr/share/dict/words"
   ]
  },
  {
   "cell_type": "markdown",
   "metadata": {},
   "source": [
    "This example look for the pattern \"abc\" anywhere on a line in our chosen file.  However, recall that this file has only one word per line in any case, so just one word gets printed for matching lines.  \n",
    "Note that when using \"grep\", the pattern can appear anywhere in the line, not just at the start of a line.  If you want to match a pattern at the start of a line you need to use anchors as below:"
   ]
  },
  {
   "cell_type": "code",
   "execution_count": null,
   "metadata": {},
   "outputs": [],
   "source": [
    "%%b\n",
    "grep '^abc' /usr/share/dict/words"
   ]
  },
  {
   "cell_type": "markdown",
   "metadata": {},
   "source": [
    "Now only lines beginning with \"abc\" are matched.  The ^ sign anchors the pattern to the start of the line.  It's wise to enclose the pattern in single quotes to avoid 'bash\" treating part of it as a wildcard.  \n",
    "Other anchors are possible:"
   ]
  },
  {
   "cell_type": "code",
   "execution_count": null,
   "metadata": {},
   "outputs": [],
   "source": [
    "%%b\n",
    "grep 'father$' /usr/share/dict/words"
   ]
  },
  {
   "cell_type": "markdown",
   "metadata": {},
   "source": [
    "The $ anchors the pattern to the end of the line.  If you use both anchors: "
   ]
  },
  {
   "cell_type": "code",
   "execution_count": null,
   "metadata": {},
   "outputs": [],
   "source": [
    "%%b\n",
    "grep '^father$' /usr/share/dict/words"
   ]
  },
  {
   "cell_type": "markdown",
   "metadata": {},
   "source": [
    "The pattern must fill the entire line.  Note that when we add wildcards to the pattern we can get a result with several lines:"
   ]
  },
  {
   "cell_type": "code",
   "execution_count": null,
   "metadata": {},
   "outputs": [],
   "source": [
    "%%b\n",
    "grep '^.ather$' /usr/share/dict/words"
   ]
  },
  {
   "cell_type": "markdown",
   "metadata": {},
   "source": [
    "Here the dot matches any one character.  \n",
    "Indeed, the dot is often used in patterns:"
   ]
  },
  {
   "cell_type": "code",
   "execution_count": null,
   "metadata": {},
   "outputs": [],
   "source": [
    "%%b\n",
    "grep '^as.....er$' /usr/share/dict/words"
   ]
  },
  {
   "cell_type": "markdown",
   "metadata": {},
   "source": [
    "Five dots in the pattern match any 5 characters.  This we have searched for 9 letter words beginning with 'as' and ending with 'er'.  \n",
    "RegExs allow repeat counts, so the above can also be written:"
   ]
  },
  {
   "cell_type": "code",
   "execution_count": null,
   "metadata": {},
   "outputs": [],
   "source": [
    "%%b\n",
    "grep '^as.{5}er$' /usr/share/dict/words"
   ]
  },
  {
   "cell_type": "markdown",
   "metadata": {},
   "source": [
    "However, as you can see, this doesn't seem to work.  That's because \"grep\" doesn't support all RegExs.  What we need is extended grep or \"egrep\":"
   ]
  },
  {
   "cell_type": "code",
   "execution_count": null,
   "metadata": {},
   "outputs": [],
   "source": [
    "%%b\n",
    "egrep '^as.{5}er$' /usr/share/dict/words"
   ]
  },
  {
   "cell_type": "markdown",
   "metadata": {},
   "source": [
    "Now things work as expected; {5} means exactly 5 occurances of the regular expression '.'.  \n",
    "We will continue to use egrep from now on.  \n",
    "Now let's look at square brackets.  [ ] mean any of the characters inside the brackets: "
   ]
  },
  {
   "cell_type": "code",
   "execution_count": null,
   "metadata": {},
   "outputs": [],
   "source": [
    "%%b\n",
    "egrep '^a[rst].{5}er$' /usr/share/dict/words"
   ]
  },
  {
   "cell_type": "markdown",
   "metadata": {},
   "source": [
    "This is the same pattern as before, except the second character can be an 'r', 's' or 't'.  Brackets also work with repeat counts:"
   ]
  },
  {
   "cell_type": "code",
   "execution_count": null,
   "metadata": {},
   "outputs": [],
   "source": [
    "%%b\n",
    "egrep '^a[rst]{3}.{5}$' /usr/share/dict/words"
   ]
  },
  {
   "cell_type": "markdown",
   "metadata": {},
   "source": [
    "The above pattern searches for 'a' followed by 3 successive occurances of 'r', 's' or 't' in any order, followed by any 5 characters.  The anchors further restict the search to fill the entire line.  \n",
    "Note that without the anchors, many more lines are matched:"
   ]
  },
  {
   "cell_type": "code",
   "execution_count": null,
   "metadata": {},
   "outputs": [],
   "source": [
    "%%b\n",
    "egrep 'a[rst]{3}.{5}' /usr/share/dict/words"
   ]
  },
  {
   "cell_type": "markdown",
   "metadata": {},
   "source": [
    "Yet another example of using brackets:"
   ]
  },
  {
   "cell_type": "code",
   "execution_count": null,
   "metadata": {},
   "outputs": [],
   "source": [
    "%%b\n",
    "egrep a[sed]sp /usr/share/dict/words"
   ]
  },
  {
   "cell_type": "markdown",
   "metadata": {},
   "source": [
    "Now we search for lines with 'th' followed by any 2 characters, followed by 'ing' (later we will use [ ] to restrict the search):"
   ]
  },
  {
   "cell_type": "code",
   "execution_count": null,
   "metadata": {},
   "outputs": [],
   "source": [
    "%%b\n",
    "egrep th..ing /usr/share/dict/words"
   ]
  },
  {
   "cell_type": "markdown",
   "metadata": {},
   "source": [
    "Now let's restrict what those 2 characters can be:"
   ]
  },
  {
   "cell_type": "code",
   "execution_count": null,
   "metadata": {},
   "outputs": [],
   "source": [
    "%%b\n",
    "egrep th[er]{2}ing /usr/share/dict/words"
   ]
  },
  {
   "cell_type": "markdown",
   "metadata": {},
   "source": [
    "Now those 2 characters can be 'e' or 'r'.  \n",
    "The reverse search uses the special character ^ inside the square brackets:"
   ]
  },
  {
   "cell_type": "code",
   "execution_count": null,
   "metadata": {},
   "outputs": [],
   "source": [
    "%%b\n",
    "egrep 'th[^er]{2}ing' /usr/share/dict/words"
   ]
  },
  {
   "cell_type": "markdown",
   "metadata": {},
   "source": [
    "The ^ as the first character inside [ ], negates the search; the two characters can be anything other than 'e' or 'r'.  \n",
    "We can vary the repeat count:"
   ]
  },
  {
   "cell_type": "code",
   "execution_count": null,
   "metadata": {},
   "outputs": [],
   "source": [
    "%%b\n",
    "egrep 'th[^er]{2,4}ing' /usr/share/dict/words"
   ]
  },
  {
   "cell_type": "markdown",
   "metadata": {},
   "source": [
    "The repeat count of {2,4} means at least 2 and at most 4  occurances.  {2,} would mean 2 or more.  \n",
    "A common repeat is 1 or more occurances:"
   ]
  },
  {
   "cell_type": "code",
   "execution_count": null,
   "metadata": {},
   "outputs": [],
   "source": [
    "%%b\n",
    "egrep 'b[o]+st' /usr/share/dict/words"
   ]
  },
  {
   "cell_type": "markdown",
   "metadata": {},
   "source": [
    "In the above search, '+' is a repeat count of 1 or more.  It is equivalent to {1,}.  \n",
    "A somewhat strange repeat count is defined by *:"
   ]
  },
  {
   "cell_type": "code",
   "execution_count": null,
   "metadata": {},
   "outputs": [],
   "source": [
    "%%b\n",
    "egrep '^ar*t$' /usr/share/dict/words"
   ]
  },
  {
   "cell_type": "markdown",
   "metadata": {},
   "source": [
    "The * matches 0 or more occurances of the regulat expression.  In this case 0 or 1 occurances of 'r'.  \n",
    "The word 'art' has 1 occurance of 'r'.  \n",
    "The word 'at' has 0 occurances of 'r'.   \n",
    "A very common pattern is .\\*  \n",
    ".\\* matches any character 0 or more times.  Sometimes .\\* doesn't match anything, but in general matches an arbitrary string:"
   ]
  },
  {
   "cell_type": "code",
   "execution_count": null,
   "metadata": {},
   "outputs": [],
   "source": [
    "%%b\n",
    "egrep '^ad.*ded$' /usr/share/dict/words"
   ]
  },
  {
   "cell_type": "markdown",
   "metadata": {},
   "source": [
    "In the above .* matches nothing in 'added' and matches 'dlehea' in 'addleheaded'.  \n",
    "Now for a few more regular expressoions:"
   ]
  },
  {
   "cell_type": "code",
   "execution_count": null,
   "metadata": {},
   "outputs": [],
   "source": [
    "%%bash\n",
    "egrep '[aeiou]{5,}' /usr/share/dict/words"
   ]
  },
  {
   "cell_type": "markdown",
   "metadata": {},
   "source": [
    "The above matches words with 5 or more consecutive vowels."
   ]
  },
  {
   "cell_type": "code",
   "execution_count": null,
   "metadata": {},
   "outputs": [],
   "source": [
    "%%bash\n",
    "egrep '^.{23,29}$' /usr/share/dict/words"
   ]
  },
  {
   "cell_type": "markdown",
   "metadata": {},
   "source": [
    "The above matches words with 23 to 29 characters.  The anchors are necessary to exclude longer words, since normally a regular expression matches part of a line.  With the ^ and $ anchor we match the whole line."
   ]
  },
  {
   "cell_type": "code",
   "execution_count": null,
   "metadata": {
    "scrolled": true
   },
   "outputs": [],
   "source": [
    "%%bash\n",
    "egrep '.{3,}(after|before)$' /usr/share/dict/words"
   ]
  },
  {
   "cell_type": "markdown",
   "metadata": {},
   "source": [
    "Now we are matching words starting with 3 arbitrary characters followed by 'after' or 'before' followed by the end of line.  \n",
    "The | denote alternative strings."
   ]
  },
  {
   "cell_type": "code",
   "execution_count": null,
   "metadata": {},
   "outputs": [],
   "source": [
    "%%bash\n",
    "egrep -i 'z.*zz' /usr/share/dict/words"
   ]
  },
  {
   "cell_type": "markdown",
   "metadata": {},
   "source": [
    "egrep uses the -i option to ignore case.  \n",
    "Let's conclude our look at regular expressions by looking a character classes.  Unfortunately, our /usr/share/dict/words file doesn't help in these examples.  Instead we will use a short text file 'FishPie.txt':"
   ]
  },
  {
   "cell_type": "code",
   "execution_count": null,
   "metadata": {},
   "outputs": [],
   "source": [
    "%%b\n",
    "cat FishPie.txt"
   ]
  },
  {
   "cell_type": "markdown",
   "metadata": {},
   "source": [
    "[0-9] represents any digit:"
   ]
  },
  {
   "cell_type": "code",
   "execution_count": null,
   "metadata": {},
   "outputs": [],
   "source": [
    "%%b\n",
    "egrep '[0-9]' FishPie.txt"
   ]
  },
  {
   "cell_type": "markdown",
   "metadata": {},
   "source": [
    "In Python any many other languages [0-9] can be written as \\d.  Unfortunately egrep doesn't support this extension.\n",
    "Here is a similar pattern: a digit followed by a non digit followed by a digit:"
   ]
  },
  {
   "cell_type": "code",
   "execution_count": null,
   "metadata": {},
   "outputs": [],
   "source": [
    "%%b\n",
    "egrep -in '[0-9][^0-9][0-9]' FishPie.txt"
   ]
  },
  {
   "cell_type": "markdown",
   "metadata": {},
   "source": [
    "The pattern [^0-9] can be written as \\D in most languages, but again this is not supported by egrep.  \n",
    "Check out \\s \\S \\w \\W and many others online.  "
   ]
  },
  {
   "cell_type": "markdown",
   "metadata": {},
   "source": [
    "Enough for now.  There is lot more to regular expressions, but this tutorial should give you a great starting point."
   ]
  }
 ],
 "metadata": {
  "kernelspec": {
   "display_name": "Python 3.7",
   "language": "python",
   "name": "python3"
  },
  "language_info": {
   "codemirror_mode": {
    "name": "ipython",
    "version": 3
   },
   "file_extension": ".py",
   "mimetype": "text/x-python",
   "name": "python",
   "nbconvert_exporter": "python",
   "pygments_lexer": "ipython3",
   "version": "3.7.3"
  }
 },
 "nbformat": 4,
 "nbformat_minor": 2
}
