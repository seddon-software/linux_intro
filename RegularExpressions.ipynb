{
 "cells": [
  {
   "cell_type": "markdown",
   "metadata": {},
   "source": [
    "# Regular Expressions"
   ]
  },
  {
   "cell_type": "markdown",
   "metadata": {},
   "source": [
    "Regular expressions (regex) define a pattern with wildcards to search text.  Regexs can be used with several Linux commands and are also supported in many programming languages including Python and C++.\n",
    "In this tutorial we will use 'grep' and 'egrep' to investigate the common regular expressions.  Full details can be found online, for example:  \n",
    "\n",
    "[RegEx](https://www.rexegg.com/regex-quickstart.html \"Cheat Sheet\")"
   ]
  },
  {
   "cell_type": "markdown",
   "metadata": {},
   "source": [
    "First, let's create a Jupyter magic command to create bash scripts and ignore errors"
   ]
  },
  {
   "cell_type": "code",
   "execution_count": 37,
   "metadata": {},
   "outputs": [
    {
     "name": "stdout",
     "output_type": "stream",
     "text": [
      "Created `%%b` as an alias for `%%bash --no-raise-error`.\n"
     ]
    }
   ],
   "source": [
    "%alias_magic b bash -p '--no-raise-error'"
   ]
  },
  {
   "cell_type": "markdown",
   "metadata": {},
   "source": [
    "The file:  \n",
    "- /usr/share/dict/words  \n",
    "\n",
    "is a dictionary with one word per line.  We can use it to illustrate most RegExs."
   ]
  },
  {
   "cell_type": "code",
   "execution_count": 7,
   "metadata": {},
   "outputs": [
    {
     "name": "stdout",
     "output_type": "stream",
     "text": [
      "abcoulomb\n",
      "Babcock\n",
      "crabcatcher\n",
      "dabchick\n"
     ]
    }
   ],
   "source": [
    "%%b\n",
    "grep abc /usr/share/dict/words"
   ]
  },
  {
   "cell_type": "markdown",
   "metadata": {},
   "source": [
    "This example look for the pattern \"abc\" anywhere on a line in our chosen file.  However, recall that this file has only one word per line in any case, so just one word gets printed for matching lines.  \n",
    "Note that when using \"grep\", the pattern can appear anywhere in the line, not just at the start of a line.  If you want to match a pattern at the start of a line you need to use anchors as below:"
   ]
  },
  {
   "cell_type": "code",
   "execution_count": 38,
   "metadata": {},
   "outputs": [
    {
     "name": "stdout",
     "output_type": "stream",
     "text": [
      "abcoulomb\n"
     ]
    }
   ],
   "source": [
    "%%b\n",
    "grep '^abc' /usr/share/dict/words"
   ]
  },
  {
   "cell_type": "markdown",
   "metadata": {},
   "source": [
    "Now only lines beginning with \"abc\" are matched.  The ^ sign anchors the pattern to the start of the line.  It's wise to enclose the pattern in single quotes to avoid 'bash\" treating part of it as a wildcard.  \n",
    "Other anchors are possible:"
   ]
  },
  {
   "cell_type": "code",
   "execution_count": 42,
   "metadata": {},
   "outputs": [
    {
     "name": "stdout",
     "output_type": "stream",
     "text": [
      "cofather\n",
      "father\n",
      "forefather\n",
      "godfather\n",
      "grandfather\n",
      "gudefather\n",
      "housefather\n",
      "misfather\n",
      "stepfather\n",
      "stepgrandfather\n",
      "stockfather\n",
      "unfather\n"
     ]
    }
   ],
   "source": [
    "%%b\n",
    "grep 'father$' /usr/share/dict/words"
   ]
  },
  {
   "cell_type": "markdown",
   "metadata": {},
   "source": [
    "The $ anchors the pattern to the end of the line.  If you use both anchors: "
   ]
  },
  {
   "cell_type": "code",
   "execution_count": 44,
   "metadata": {},
   "outputs": [
    {
     "name": "stdout",
     "output_type": "stream",
     "text": [
      "father\n"
     ]
    }
   ],
   "source": [
    "%%b\n",
    "grep '^father$' /usr/share/dict/words"
   ]
  },
  {
   "cell_type": "markdown",
   "metadata": {},
   "source": [
    "The pattern must fill the entire line.  Note that when we add wildcards to the pattern we can get a result with several lines:"
   ]
  },
  {
   "cell_type": "code",
   "execution_count": 45,
   "metadata": {},
   "outputs": [
    {
     "name": "stdout",
     "output_type": "stream",
     "text": [
      "bather\n",
      "father\n",
      "gather\n",
      "lather\n",
      "nather\n",
      "rather\n"
     ]
    }
   ],
   "source": [
    "%%b\n",
    "grep '^.ather$' /usr/share/dict/words"
   ]
  },
  {
   "cell_type": "markdown",
   "metadata": {},
   "source": [
    "Here the dot matches any one character.  \n",
    "Indeed, the dot is often used in patterns:"
   ]
  },
  {
   "cell_type": "code",
   "execution_count": 46,
   "metadata": {},
   "outputs": [
    {
     "name": "stdout",
     "output_type": "stream",
     "text": [
      "asphalter\n",
      "assaulter\n",
      "assembler\n",
      "astatizer\n",
      "astringer\n"
     ]
    }
   ],
   "source": [
    "%%b\n",
    "grep '^as.....er$' /usr/share/dict/words"
   ]
  },
  {
   "cell_type": "markdown",
   "metadata": {},
   "source": [
    "Five dots in the pattern match any 5 characters.  This we have searched for 9 letter words beginning with 'as' and ending with 'er'.  \n",
    "RegExs allow repeat counts, so the above vcan also be written:"
   ]
  },
  {
   "cell_type": "code",
   "execution_count": 48,
   "metadata": {},
   "outputs": [],
   "source": [
    "%%b\n",
    "grep '^as.{5}er$' /usr/share/dict/words"
   ]
  },
  {
   "cell_type": "markdown",
   "metadata": {},
   "source": [
    "However, as you can see, this doesn't seem to work.  That's because \"grep\" doesn't support all RegExs.  What we need is extended grep or \"egrep\":"
   ]
  },
  {
   "cell_type": "code",
   "execution_count": 49,
   "metadata": {},
   "outputs": [
    {
     "name": "stdout",
     "output_type": "stream",
     "text": [
      "asphalter\n",
      "assaulter\n",
      "assembler\n",
      "astatizer\n",
      "astringer\n"
     ]
    }
   ],
   "source": [
    "%%b\n",
    "egrep '^as.{5}er$' /usr/share/dict/words"
   ]
  },
  {
   "cell_type": "markdown",
   "metadata": {},
   "source": [
    "Now things work as expected.  We will continue to use egrep from now on.  \n",
    "Now let's look at square brackets.  [ ] mean any of the characters inside the brackets: "
   ]
  },
  {
   "cell_type": "code",
   "execution_count": 50,
   "metadata": {},
   "outputs": [
    {
     "name": "stdout",
     "output_type": "stream",
     "text": [
      "archaizer\n",
      "archiater\n",
      "archruler\n",
      "archsewer\n",
      "archurger\n",
      "areasoner\n",
      "areometer\n",
      "arraigner\n",
      "arsnicker\n",
      "artificer\n",
      "artolater\n",
      "asphalter\n",
      "assaulter\n",
      "assembler\n",
      "astatizer\n",
      "astringer\n",
      "atmolyzer\n",
      "atmometer\n",
      "attainder\n",
      "attempter\n",
      "attracter\n"
     ]
    }
   ],
   "source": [
    "%%b\n",
    "egrep '^a[rst].{5}er$' /usr/share/dict/words"
   ]
  },
  {
   "cell_type": "markdown",
   "metadata": {},
   "source": [
    "This is the same pattern as before, except the second character can be an 'r', 's' or 't'.  Brackets also work with repeat counts:"
   ]
  },
  {
   "cell_type": "code",
   "execution_count": 52,
   "metadata": {},
   "outputs": [
    {
     "name": "stdout",
     "output_type": "stream",
     "text": [
      "astraddle\n",
      "astragali\n",
      "astrakhan\n",
      "astringer\n",
      "astrocyte\n",
      "astrodome\n",
      "astrogeny\n",
      "astroglia\n",
      "astrogony\n",
      "astrolabe\n",
      "astrology\n",
      "astronaut\n",
      "astronomy\n",
      "astrophil\n",
      "attracter\n",
      "attractor\n",
      "attrahent\n",
      "attribute\n",
      "attrition\n",
      "attritive\n"
     ]
    }
   ],
   "source": [
    "%%b\n",
    "egrep '^a[rst]{3}.{5}$' /usr/share/dict/words"
   ]
  },
  {
   "cell_type": "markdown",
   "metadata": {},
   "source": [
    "The above pattern searches for 'a' followed by 3 successive occurances of 'r', 's' or 't' in any order, followed by any 5 characters.  The anchors further restict the search to fill the entire line.  \n",
    "Note that without the anchors, many more lines are matched:"
   ]
  },
  {
   "cell_type": "code",
   "execution_count": 54,
   "metadata": {},
   "outputs": [
    {
     "name": "stdout",
     "output_type": "stream",
     "text": [
      "agastroneuria\n",
      "Anastrophia\n",
      "antiastronomical\n",
      "antiattrition\n",
      "astraddle\n",
      "astraeiform\n",
      "astragalar\n",
      "astragalectomy\n",
      "astragali\n",
      "astragalocalcaneal\n",
      "astragalocentral\n",
      "astragalomancy\n",
      "astragalonavicular\n",
      "astragaloscaphoid\n",
      "astragalotibial\n",
      "astragalus\n",
      "astrakanite\n",
      "astrakhan\n",
      "astraphobia\n",
      "astrapophobia\n",
      "astriction\n",
      "astrictive\n",
      "astrictively\n",
      "astrictiveness\n",
      "astriferous\n",
      "astringency\n",
      "astringent\n",
      "astringently\n",
      "astringer\n",
      "astroalchemist\n",
      "astroblast\n",
      "astrochemist\n",
      "astrochemistry\n",
      "astrochronological\n",
      "astrocyte\n",
      "astrocytoma\n",
      "astrocytomata\n",
      "astrodiagnosis\n",
      "astrodome\n",
      "astrogeny\n",
      "astroglia\n",
      "astrognosy\n",
      "astrogonic\n",
      "astrogony\n",
      "astrograph\n",
      "astrographic\n",
      "astrography\n",
      "astrolabe\n",
      "astrolabical\n",
      "astrolater\n",
      "astrolatry\n",
      "astrolithology\n",
      "astrologaster\n",
      "astrologer\n",
      "astrologian\n",
      "astrologic\n",
      "astrological\n",
      "astrologically\n",
      "astrologistic\n",
      "astrologize\n",
      "astrologous\n",
      "astrology\n",
      "astromancer\n",
      "astromancy\n",
      "astromantic\n",
      "astrometeorological\n",
      "astrometeorologist\n",
      "astrometeorology\n",
      "astrometer\n",
      "astrometrical\n",
      "astrometry\n",
      "astronaut\n",
      "astronautics\n",
      "astronomer\n",
      "astronomic\n",
      "astronomical\n",
      "astronomically\n",
      "astronomics\n",
      "astronomize\n",
      "astronomy\n",
      "astrophil\n",
      "astrophobia\n",
      "astrophotographic\n",
      "astrophotography\n",
      "astrophotometer\n",
      "astrophotometrical\n",
      "astrophotometry\n",
      "astrophyllite\n",
      "astrophysical\n",
      "astrophysicist\n",
      "astrophysics\n",
      "astroscope\n",
      "astroscopy\n",
      "astrospectral\n",
      "astrospectroscopic\n",
      "astrosphere\n",
      "astrotheology\n",
      "attractability\n",
      "attractable\n",
      "attractableness\n",
      "attractant\n",
      "attracter\n",
      "attractile\n",
      "attractingly\n",
      "attraction\n",
      "attractionally\n",
      "attractive\n",
      "attractively\n",
      "attractiveness\n",
      "attractivity\n",
      "attractor\n",
      "attrahent\n",
      "attributable\n",
      "attributal\n",
      "attribute\n",
      "attributer\n",
      "attribution\n",
      "attributive\n",
      "attributively\n",
      "attributiveness\n",
      "attriteness\n",
      "attrition\n",
      "attritive\n",
      "Bartramiaceae\n",
      "Bartramian\n",
      "breastsummer\n",
      "cadastration\n",
      "calcaneoastragalar\n",
      "calcaneoastragaloid\n",
      "castrametation\n",
      "castration\n",
      "castrensial\n",
      "castrensian\n",
      "catastrophal\n",
      "catastrophic\n",
      "catastrophical\n",
      "catastrophically\n",
      "catastrophism\n",
      "catastrophist\n",
      "catstitcher\n",
      "Celastraceae\n",
      "celastraceous\n",
      "celiogastrotomy\n",
      "chemicoastrological\n",
      "chlorastrolite\n",
      "cholecystgastrostomy\n",
      "cholecystogastrostomy\n",
      "Clypeastroidea\n",
      "Coelastraceae\n",
      "coelastraceous\n",
      "counterattraction\n",
      "counterattractive\n",
      "counterattractively\n",
      "Cyanastraceae\n",
      "diastrophic\n",
      "diastrophism\n",
      "disastrously\n",
      "disastrousness\n",
      "emplastration\n",
      "endogastrically\n",
      "engastrimyth\n",
      "engastrimythic\n",
      "epigastriocele\n",
      "epigastrocele\n",
      "esophagogastroscopy\n",
      "esophagogastrostomy\n",
      "exogastrically\n",
      "gastradenitis\n",
      "Gastraeadae\n",
      "gastralgia\n",
      "gastralgic\n",
      "gastraneuria\n",
      "gastrasthenia\n",
      "gastratrophia\n",
      "gastrectasia\n",
      "gastrectasis\n",
      "gastrectomy\n",
      "gastrelcosis\n",
      "gastricism\n",
      "gastrilegous\n",
      "gastriloquial\n",
      "gastriloquism\n",
      "gastriloquist\n",
      "gastriloquous\n",
      "gastriloquy\n",
      "gastroadenitis\n",
      "gastroadynamic\n",
      "gastroalbuminorrhea\n",
      "gastroanastomosis\n",
      "gastroarthritis\n",
      "gastroatonia\n",
      "gastroatrophia\n",
      "gastroblennorrhea\n",
      "gastrocatarrhal\n",
      "gastrocele\n",
      "gastrocentrous\n",
      "Gastrochaena\n",
      "Gastrochaenidae\n",
      "gastrocnemial\n",
      "gastrocnemian\n",
      "gastrocnemius\n",
      "gastrocoel\n",
      "gastrocolic\n",
      "gastrocoloptosis\n",
      "gastrocolostomy\n",
      "gastrocolotomy\n",
      "gastrocolpotomy\n",
      "gastrocystic\n",
      "gastrocystis\n",
      "gastrodialysis\n",
      "gastrodiaphanoscopy\n",
      "gastrodidymus\n",
      "gastrodisk\n",
      "gastroduodenal\n",
      "gastroduodenitis\n",
      "gastroduodenoscopy\n",
      "gastroduodenotomy\n",
      "gastrodynia\n",
      "gastroelytrotomy\n",
      "gastroenteralgia\n",
      "gastroenteric\n",
      "gastroenteritic\n",
      "gastroenteritis\n",
      "gastroenteroanastomosis\n",
      "gastroenterocolitis\n",
      "gastroenterocolostomy\n",
      "gastroenterological\n",
      "gastroenterologist\n",
      "gastroenterology\n",
      "gastroenteroptosis\n",
      "gastroenterostomy\n",
      "gastroenterotomy\n",
      "gastroepiploic\n",
      "gastroesophageal\n",
      "gastroesophagostomy\n",
      "gastrogastrotomy\n",
      "gastrogenital\n",
      "gastrograph\n",
      "gastrohelcosis\n",
      "gastrohepatic\n",
      "gastrohepatitis\n",
      "gastrohydrorrhea\n",
      "gastrohyperneuria\n",
      "gastrohypertonic\n",
      "gastrohysterectomy\n",
      "gastrohysteropexy\n",
      "gastrohysterorrhaphy\n",
      "gastrohysterotomy\n",
      "gastrointestinal\n",
      "gastrojejunal\n",
      "gastrojejunostomy\n",
      "gastrolater\n",
      "gastrolatrous\n",
      "gastrolienal\n",
      "gastrolith\n",
      "Gastrolobium\n",
      "gastrologer\n",
      "gastrological\n",
      "gastrologist\n",
      "gastrology\n",
      "gastrolysis\n",
      "gastrolytic\n",
      "gastromalacia\n",
      "gastromancy\n",
      "gastromelus\n",
      "gastromenia\n",
      "gastromyces\n",
      "gastromycosis\n",
      "gastromyxorrhea\n",
      "gastronephritis\n",
      "gastronome\n",
      "gastronomer\n",
      "gastronomic\n",
      "gastronomical\n",
      "gastronomically\n",
      "gastronomist\n",
      "gastronomy\n",
      "gastronosus\n",
      "gastropancreatic\n",
      "gastropancreatitis\n",
      "gastroparalysis\n",
      "gastroparesis\n",
      "gastroparietal\n",
      "gastropathic\n",
      "gastropathy\n",
      "gastroperiodynia\n",
      "gastropexy\n",
      "gastrophile\n",
      "gastrophilism\n",
      "gastrophilist\n",
      "gastrophilite\n",
      "Gastrophilus\n",
      "gastrophrenic\n",
      "gastrophthisis\n",
      "gastroplasty\n",
      "gastroplenic\n",
      "gastropleuritis\n",
      "gastroplication\n",
      "gastropneumatic\n",
      "gastropneumonic\n",
      "Gastropoda\n",
      "gastropodan\n",
      "gastropodous\n",
      "gastropore\n",
      "gastroptosia\n",
      "gastroptosis\n",
      "gastropulmonary\n",
      "gastropulmonic\n",
      "gastropyloric\n",
      "gastrorrhagia\n",
      "gastrorrhaphy\n",
      "gastrorrhea\n",
      "gastroschisis\n",
      "gastroscope\n",
      "gastroscopic\n",
      "gastroscopy\n",
      "gastrosoph\n",
      "gastrosopher\n",
      "gastrosophy\n",
      "gastrospasm\n",
      "gastrosplenic\n",
      "gastrostaxis\n",
      "gastrostegal\n",
      "gastrostege\n",
      "gastrostenosis\n",
      "gastrostomize\n",
      "Gastrostomus\n",
      "gastrostomy\n",
      "gastrosuccorrhea\n",
      "gastrotheca\n",
      "gastrothecal\n",
      "gastrotome\n",
      "gastrotomic\n",
      "gastrotomy\n",
      "Gastrotricha\n",
      "gastrotrichan\n",
      "gastrotubotomy\n",
      "gastrotympanites\n",
      "gastrovascular\n",
      "gastroxynsis\n",
      "gastrozooid\n",
      "gastrulate\n",
      "gastrulation\n",
      "harstigite\n",
      "hartstongue\n",
      "heartsickening\n",
      "heartsickness\n",
      "heartsomely\n",
      "heartsomeness\n",
      "heartstring\n",
      "hemigastrectomy\n",
      "hepaticogastrostomy\n",
      "heptastrophic\n",
      "hippogastronomy\n",
      "Hymenogastraceae\n",
      "hypogastrocele\n",
      "infrastructure\n",
      "interattrition\n",
      "karstenite\n",
      "laparogastroscopy\n",
      "laparogastrotomy\n",
      "lastspring\n",
      "Marssonina\n",
      "metastrophic\n",
      "misattribute\n",
      "misattribution\n",
      "neurogastralgia\n",
      "nonastronomical\n",
      "nonattribution\n",
      "nonattributive\n",
      "octastrophic\n",
      "Ommastrephes\n",
      "Ommastrephidae\n",
      "pancreaticogastrostomy\n",
      "partridgeberry\n",
      "partridgelike\n",
      "partridgewood\n",
      "partridging\n",
      "partschinite\n",
      "perigastrulation\n",
      "photogastroscope\n",
      "physicoastronomical\n",
      "pseudoastringent\n",
      "pylorogastrectomy\n",
      "reattraction\n",
      "reattribute\n",
      "reattribution\n",
      "semicastration\n",
      "subastragalar\n",
      "subastragaloid\n",
      "subastringent\n",
      "superattraction\n",
      "superattractive\n",
      "swartrutter\n",
      "swartrutting\n",
      "tartramate\n",
      "tartramide\n",
      "tartratoferric\n",
      "tartrazine\n",
      "tartrazinic\n",
      "tartronate\n",
      "tartronylurea\n",
      "theoastrological\n",
      "theologicoastronomical\n",
      "thoracogastroschisis\n",
      "ultrastrenuous\n",
      "unattractable\n",
      "unattractableness\n",
      "unattracted\n",
      "unattracting\n",
      "unattractive\n",
      "unattractively\n",
      "unattractiveness\n",
      "unattributable\n",
      "unattributed\n",
      "Zoroastrianism\n"
     ]
    }
   ],
   "source": [
    "%%b\n",
    "egrep 'a[rst]{3}.{5}' /usr/share/dict/words"
   ]
  },
  {
   "cell_type": "markdown",
   "metadata": {},
   "source": [
    "Yet another example of using brackets:"
   ]
  },
  {
   "cell_type": "code",
   "execution_count": 20,
   "metadata": {},
   "outputs": [
    {
     "name": "stdout",
     "output_type": "stream",
     "text": [
      "broadspread\n",
      "grassplot\n",
      "headspring\n",
      "passpenny\n",
      "passport\n",
      "passportless\n",
      "praesphenoid\n"
     ]
    }
   ],
   "source": [
    "%%b\n",
    "egrep a[sed]sp /usr/share/dict/words"
   ]
  },
  {
   "cell_type": "code",
   "execution_count": 78,
   "metadata": {},
   "outputs": [
    {
     "name": "stdout",
     "output_type": "stream",
     "text": [
      "atheling\n",
      "blithering\n",
      "feathering\n",
      "forthbring\n",
      "forthbringer\n",
      "forthgoing\n",
      "gathering\n",
      "ingathering\n",
      "leathering\n",
      "Lotharingian\n",
      "mothering\n",
      "pregathering\n",
      "slithering\n",
      "smothering\n",
      "smotheringly\n",
      "splathering\n",
      "strengthening\n",
      "strengtheningly\n",
      "sympathizing\n",
      "sympathizingly\n",
      "taxgathering\n",
      "thuringite\n",
      "unbothering\n",
      "underfeathering\n",
      "unsympathizing\n",
      "unsympathizingly\n",
      "untethering\n",
      "unthawing\n",
      "unwithering\n",
      "weathering\n",
      "withering\n",
      "witheringly\n",
      "woolgathering\n"
     ]
    }
   ],
   "source": [
    "%%b\n",
    "egrep th..ing /usr/share/dict/words"
   ]
  },
  {
   "cell_type": "markdown",
   "metadata": {},
   "source": [
    "Here we search for lines with 'th' followed by 2 characters, followed by 'ing'.  \n",
    "Using [ ] we can restict the search:"
   ]
  },
  {
   "cell_type": "code",
   "execution_count": 82,
   "metadata": {},
   "outputs": [
    {
     "name": "stdout",
     "output_type": "stream",
     "text": [
      "blithering\n",
      "feathering\n",
      "gathering\n",
      "ingathering\n",
      "leathering\n",
      "mothering\n",
      "pregathering\n",
      "slithering\n",
      "smothering\n",
      "smotheringly\n",
      "splathering\n",
      "taxgathering\n",
      "unbothering\n",
      "underfeathering\n",
      "untethering\n",
      "unwithering\n",
      "weathering\n",
      "withering\n",
      "witheringly\n",
      "woolgathering\n"
     ]
    }
   ],
   "source": [
    "%%b\n",
    "egrep th[er]{2}ing /usr/share/dict/words"
   ]
  },
  {
   "cell_type": "markdown",
   "metadata": {},
   "source": [
    "Now those 2 characters must be 'e' or 'r'.  The reverse search is possible:"
   ]
  },
  {
   "cell_type": "code",
   "execution_count": 85,
   "metadata": {},
   "outputs": [
    {
     "name": "stdout",
     "output_type": "stream",
     "text": [
      "forthgoing\n",
      "sympathizing\n",
      "sympathizingly\n",
      "unsympathizing\n",
      "unsympathizingly\n",
      "unthawing\n"
     ]
    }
   ],
   "source": [
    "%%b\n",
    "egrep 'th[^er]{2}ing' /usr/share/dict/words"
   ]
  },
  {
   "cell_type": "markdown",
   "metadata": {},
   "source": [
    "The ^ as the first character inside [ ], negates the search; the two characters can be anything other than 'e' or 'r'."
   ]
  },
  {
   "cell_type": "code",
   "execution_count": 86,
   "metadata": {},
   "outputs": [
    {
     "name": "stdout",
     "output_type": "stream",
     "text": [
      "clothmaking\n",
      "earthmaking\n",
      "earthquaking\n",
      "forthcoming\n",
      "forthcomingness\n",
      "forthgoing\n",
      "forthputting\n",
      "freethinking\n",
      "mythmaking\n",
      "nonthinking\n",
      "outhousing\n",
      "pathfinding\n",
      "pothunting\n",
      "soothsaying\n",
      "sympathizing\n",
      "sympathizingly\n",
      "thatching\n",
      "thigging\n",
      "thinking\n",
      "thinkingly\n",
      "thinkingpart\n",
      "thinkling\n",
      "thinning\n",
      "thomasing\n",
      "thudding\n",
      "thuddingly\n",
      "thumping\n",
      "thumpingly\n",
      "thwacking\n",
      "thwackingly\n",
      "toothaching\n",
      "tufthunting\n",
      "unmethodizing\n",
      "unsympathizing\n",
      "unsympathizingly\n",
      "unthanking\n",
      "unthawing\n",
      "unthinking\n",
      "unthinkingly\n",
      "unthinkingness\n",
      "unthinning\n",
      "unwithholding\n",
      "wealthmaking\n",
      "wreathmaking\n"
     ]
    }
   ],
   "source": [
    "%%b\n",
    "egrep 'th[^er]{2,4}ing' /usr/share/dict/words"
   ]
  },
  {
   "cell_type": "markdown",
   "metadata": {},
   "source": [
    "The same search with a repeat of {2,4}, i.e. at least 2 and at most 4 repeats.  {2,} would mean 2 or more."
   ]
  },
  {
   "cell_type": "code",
   "execution_count": 26,
   "metadata": {},
   "outputs": [
    {
     "name": "stdout",
     "output_type": "stream",
     "text": [
      "boost\n",
      "booster\n",
      "boosterism\n",
      "bostangi\n",
      "bostanji\n",
      "bosthoon\n",
      "boston\n",
      "bostonite\n",
      "bostrychid\n",
      "bostrychoid\n",
      "bostrychoidal\n",
      "bostryx\n",
      "carbostyril\n",
      "embosture\n",
      "hydrocarbostyril\n",
      "isocarbostyril\n",
      "phlebostasia\n",
      "phlebostasis\n",
      "phlebostenosis\n",
      "phlebostrepsis\n",
      "thrombostasis\n",
      "upboost\n"
     ]
    }
   ],
   "source": [
    "%%bash\n",
    "egrep 'b[o]+st' /usr/share/dict/words"
   ]
  },
  {
   "cell_type": "markdown",
   "metadata": {},
   "source": [
    "In the above search, '+' is a repeat count of 1 or more.  It is equivalent to {1,}"
   ]
  },
  {
   "cell_type": "code",
   "execution_count": 35,
   "metadata": {},
   "outputs": [
    {
     "name": "stdout",
     "output_type": "stream",
     "text": [
      "cadiueio\n",
      "Chaouia\n",
      "euouae\n",
      "Guauaenok\n"
     ]
    }
   ],
   "source": [
    "%%bash\n",
    "egrep '[aeiou]{5,}' /usr/share/dict/words"
   ]
  },
  {
   "cell_type": "markdown",
   "metadata": {},
   "source": [
    "DONE TO HERE"
   ]
  },
  {
   "cell_type": "code",
   "execution_count": 37,
   "metadata": {},
   "outputs": [
    {
     "name": "stdout",
     "output_type": "stream",
     "text": [
      "anteorbital\n",
      "cyanocarbonic\n",
      "nasoturbinal\n",
      "sulphatocarbonic\n",
      "transverbate\n",
      "transverbation\n",
      "transverberate\n",
      "transverberation\n"
     ]
    }
   ],
   "source": [
    "%%bash\n",
    "egrep 'a....rb' /usr/share/dict/words"
   ]
  },
  {
   "cell_type": "code",
   "execution_count": 46,
   "metadata": {},
   "outputs": [
    {
     "name": "stdout",
     "output_type": "stream",
     "text": [
      "anthropomorphologically\n",
      "blepharosphincterectomy\n",
      "epididymodeferentectomy\n",
      "formaldehydesulphoxylate\n",
      "formaldehydesulphoxylic\n",
      "gastroenteroanastomosis\n",
      "hematospectrophotometer\n",
      "macracanthrorhynchiasis\n",
      "pancreaticoduodenostomy\n",
      "pathologicohistological\n",
      "pathologicopsychological\n",
      "pericardiomediastinitis\n",
      "phenolsulphonephthalein\n",
      "philosophicotheological\n",
      "Pseudolamellibranchiata\n",
      "pseudolamellibranchiate\n",
      "scientificogeographical\n",
      "scientificophilosophical\n",
      "tetraiodophenolphthalein\n",
      "thymolsulphonephthalein\n",
      "thyroparathyroidectomize\n",
      "transubstantiationalist\n"
     ]
    }
   ],
   "source": [
    "%%bash\n",
    "egrep '.{23,24}' /usr/share/dict/words"
   ]
  },
  {
   "cell_type": "code",
   "execution_count": 51,
   "metadata": {},
   "outputs": [
    {
     "name": "stdout",
     "output_type": "stream",
     "text": [
      "absorbingly\n",
      "benumbingly\n",
      "daubingly\n",
      "disturbingly\n",
      "gibingly\n",
      "jabbingly\n",
      "numbingly\n",
      "perturbingly\n",
      "snubbingly\n",
      "sobbingly\n",
      "stabbingly\n",
      "throbbingly\n",
      "undisturbingly\n"
     ]
    }
   ],
   "source": [
    "%%bash\n",
    "egrep 'b[.]*ingly$' /usr/share/dict/words\n"
   ]
  },
  {
   "cell_type": "code",
   "execution_count": 60,
   "metadata": {},
   "outputs": [
    {
     "name": "stdout",
     "output_type": "stream",
     "text": [
      "appallingly\n",
      "appealingly\n",
      "appeasingly\n",
      "appetizingly\n",
      "applaudingly\n",
      "applyingly\n",
      "appraisingly\n",
      "appreciatingly\n",
      "apprehendingly\n",
      "approvingly\n"
     ]
    }
   ],
   "source": [
    "%%bash\n",
    "grep '^ap.*ingly$' /usr/share/dict/words"
   ]
  },
  {
   "cell_type": "code",
   "execution_count": 58,
   "metadata": {
    "scrolled": true
   },
   "outputs": [
    {
     "name": "stdout",
     "output_type": "stream",
     "text": [
      "abb\n",
      "abcoulomb\n",
      "abscoulomb\n",
      "absorb\n",
      "abwab\n",
      "acerb\n",
      "adsorb\n",
      "adverb\n",
      "alb\n",
      "aplomb\n",
      "aquabib\n",
      "archsnob\n",
      "ardeb\n",
      "athrob\n",
      "autocab\n"
     ]
    }
   ],
   "source": [
    "%%bash\n",
    "egrep '^a.*b$' /usr/share/dict/words"
   ]
  },
  {
   "cell_type": "code",
   "execution_count": 65,
   "metadata": {
    "scrolled": true
   },
   "outputs": [
    {
     "name": "stdout",
     "output_type": "stream",
     "text": [
      "engrafter\n",
      "hereafter\n",
      "hereafterward\n",
      "herebefore\n",
      "hereinafter\n",
      "hereinbefore\n",
      "midafternoon\n",
      "pinbefore\n",
      "preafternoon\n",
      "thenceafter\n",
      "thereafter\n",
      "thereafterward\n",
      "thereinafter\n",
      "thereinbefore\n",
      "unraftered\n",
      "whereafter\n",
      "woodcrafter\n"
     ]
    }
   ],
   "source": [
    "%%bash\n",
    "egrep '.{3,}(after|before)' /usr/share/dict/words"
   ]
  },
  {
   "cell_type": "code",
   "execution_count": 79,
   "metadata": {
    "scrolled": true
   },
   "outputs": [
    {
     "name": "stdout",
     "output_type": "stream",
     "text": [
      "Belshazzar\n",
      "Belshazzaresque\n",
      "hazzan\n",
      "hizz\n",
      "humbuzz\n",
      "huzz\n",
      "huzza\n",
      "huzzard\n",
      "photomezzotype\n",
      "unhuzzaed\n",
      "whizzer\n",
      "whizzerman\n",
      "whizziness\n",
      "whizzing\n",
      "whizzingly\n",
      "whizzle\n"
     ]
    }
   ],
   "source": [
    "%%bash\n",
    "egrep 'h.*[z]{2}' /usr/share/dict/words"
   ]
  },
  {
   "cell_type": "code",
   "execution_count": 82,
   "metadata": {},
   "outputs": [
    {
     "name": "stdout",
     "output_type": "stream",
     "text": [
      "zizz\n",
      "Zyzzogeton\n"
     ]
    }
   ],
   "source": [
    "%%bash\n",
    "egrep -i 'z.*z.*z' /usr/share/dict/words"
   ]
  },
  {
   "cell_type": "code",
   "execution_count": 23,
   "metadata": {},
   "outputs": [
    {
     "name": "stdout",
     "output_type": "stream",
     "text": [
      "DONE\n"
     ]
    }
   ],
   "source": [
    "%%bash --no-raise-error\n",
    "egrep -i 'z.*z.\\K*z' /usr/share/dict/words\n",
    "echo \"DONE\""
   ]
  },
  {
   "cell_type": "code",
   "execution_count": 11,
   "metadata": {},
   "outputs": [
    {
     "name": "stdout",
     "output_type": "stream",
     "text": [
      "16:cook fish for 10 mins in 1/2 pint milk in a frying pan\n",
      "22:place pie in middle shelf of oven and cook for 20 mins at 170C\n"
     ]
    }
   ],
   "source": [
    "%%bash\n",
    "egrep -in '\\d\\d' FishPie.txt"
   ]
  },
  {
   "cell_type": "code",
   "execution_count": 19,
   "metadata": {},
   "outputs": [
    {
     "name": "stdout",
     "output_type": "stream",
     "text": [
      "9:1/2 pint milk for white sauce\n",
      "16:cook fish for 10 mins in 1/2 pint milk in a frying pan\n",
      "22:place pie in middle shelf of oven and cook for 20 mins at 170C\n"
     ]
    }
   ],
   "source": [
    "%%bash\n",
    "egrep -in '\\d.\\d' FishPie.txt"
   ]
  },
  {
   "cell_type": "code",
   "execution_count": null,
   "metadata": {},
   "outputs": [],
   "source": []
  }
 ],
 "metadata": {
  "kernelspec": {
   "display_name": "Python 3",
   "language": "python",
   "name": "python3"
  },
  "language_info": {
   "codemirror_mode": {
    "name": "ipython",
    "version": 3
   },
   "file_extension": ".py",
   "mimetype": "text/x-python",
   "name": "python",
   "nbconvert_exporter": "python",
   "pygments_lexer": "ipython3",
   "version": "3.7.1"
  }
 },
 "nbformat": 4,
 "nbformat_minor": 2
}
