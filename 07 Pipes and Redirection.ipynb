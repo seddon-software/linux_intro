{
 "cells": [
  {
   "cell_type": "markdown",
   "metadata": {},
   "source": [
    "<div style=\"color:red;background-color:black\">\n",
    "Diamond Light Source\n",
    "\n",
    "<h1 style=\"color:red;background-color:antiquewhite\"> Linux Introduction: Pipes and Redirection</h1>  \n",
    "\n",
    "©2000-24 Chris Seddon \n",
    "</div>"
   ]
  },
  {
   "cell_type": "markdown",
   "metadata": {},
   "source": [
    "In Linux we often work at the command prompt.  When we enter a command, the command is interpreter by a program called the <b>Shell</b>.  Several different variants of the Shell exist, but nowadays the most popular shell is the <b>Bash Shell</b>.\n",
    "\n",
    "This tutorial explores some of the more common features of the <b>Bash Shell</b>.\n",
    "\n",
    "Let's begin by seeing what's in our current directory:"
   ]
  },
  {
   "cell_type": "code",
   "execution_count": null,
   "metadata": {},
   "outputs": [],
   "source": [
    "ls -l"
   ]
  },
  {
   "cell_type": "markdown",
   "metadata": {},
   "source": [
    "Linux allows you to combine commands using pipes.  Pipes use the `|` symbol to take the output of one command and pass it to the input of the next command.  Let's run the `ls -l` command and pass the output to the word count program `wc`:"
   ]
  },
  {
   "cell_type": "code",
   "execution_count": null,
   "metadata": {},
   "outputs": [],
   "source": [
    "ls -l | wc"
   ]
  },
  {
   "cell_type": "markdown",
   "metadata": {},
   "source": [
    "`wc` says that `ls -l` created 15 lines, 128 words and 941 characters of output.\n",
    "\n",
    "Linux is designed such that commands read their input from <b>standard input</b> and write their output to what's called <b>standard output</b>.  These input and output streams are a kind of in-memory file (the data is never copied to disk).  \n",
    "\n",
    "Standard input and standard output are often called virtual files.  They are connected to the keyboard and screen by default, but can be connected elsewhere by special shell symbols. All real files and virtual files are assigned integers to identify them (file descriptors).  \n",
    "\n",
    "Standard input is usually assigned as file descriptor 0.  \n",
    "Standard output is usually assigned as file descriptor 1.\n",
    "\n",
    "Let's investigate these file descriptors.  But first, let's create a directory for our work:"
   ]
  },
  {
   "cell_type": "code",
   "execution_count": null,
   "metadata": {},
   "outputs": [],
   "source": [
    "mkdir temp\n",
    "cd temp\n",
    "ls -l 1> log"
   ]
  },
  {
   "cell_type": "markdown",
   "metadata": {},
   "source": [
    "Here we use file descriptor 1 (standard output) to redirect to a disk file called 'log' instead of allowing the output to go to the screen.  You can see this is so by looking at the log file:"
   ]
  },
  {
   "cell_type": "code",
   "execution_count": null,
   "metadata": {},
   "outputs": [],
   "source": [
    "cat log"
   ]
  },
  {
   "cell_type": "markdown",
   "metadata": {},
   "source": [
    "File descriptor 1 is the default for output, so we could equally write:"
   ]
  },
  {
   "cell_type": "code",
   "execution_count": null,
   "metadata": {},
   "outputs": [],
   "source": [
    "ls -l > log2\n",
    "cat log2"
   ]
  },
  {
   "cell_type": "markdown",
   "metadata": {},
   "source": [
    "Things get more interesting when a command generates errors:"
   ]
  },
  {
   "cell_type": "code",
   "execution_count": null,
   "metadata": {
    "scrolled": true
   },
   "outputs": [],
   "source": [
    "ls -l log* *.unknown"
   ]
  },
  {
   "cell_type": "markdown",
   "metadata": {},
   "source": [
    "Errors are sent to file descriptor 2, the standard error.  Above, we let standard output and standard error go to the screen, but we could redirect them to files:"
   ]
  },
  {
   "cell_type": "code",
   "execution_count": null,
   "metadata": {},
   "outputs": [],
   "source": [
    "ls -l log* *.unknown 1>stdlog 2>errlog"
   ]
  },
  {
   "cell_type": "markdown",
   "metadata": {},
   "source": [
    "Let's look at the redirected standard output:"
   ]
  },
  {
   "cell_type": "code",
   "execution_count": null,
   "metadata": {},
   "outputs": [],
   "source": [
    "cat stdlog"
   ]
  },
  {
   "cell_type": "markdown",
   "metadata": {},
   "source": [
    "And now let's look at the redirected standard error:"
   ]
  },
  {
   "cell_type": "code",
   "execution_count": null,
   "metadata": {},
   "outputs": [],
   "source": [
    "cat errlog"
   ]
  },
  {
   "cell_type": "markdown",
   "metadata": {},
   "source": [
    "Sometimes we want standard output and error to go to the same file:"
   ]
  },
  {
   "cell_type": "code",
   "execution_count": null,
   "metadata": {},
   "outputs": [],
   "source": [
    "ls -l log* *.unknown 1>combinedlog 2>&1"
   ]
  },
  {
   "cell_type": "markdown",
   "metadata": {},
   "source": [
    "Standard output is usually buffered by Linux, but standard output is not.  Because of this the error messages usually end up in the ouput file before the rest of the output:"
   ]
  },
  {
   "cell_type": "code",
   "execution_count": null,
   "metadata": {},
   "outputs": [],
   "source": [
    "cat combinedlog"
   ]
  },
  {
   "cell_type": "markdown",
   "metadata": {},
   "source": [
    "Pipes work in a similar way.  We can pass standard output and standard error to a pipe using the following rather strange notation:\n",
    "<pre>\n",
    "2>&1\n",
    "</pre>\n",
    "2 is sent to the same place as 1.  \n",
    "We also combine this with a pipe as follows:"
   ]
  },
  {
   "cell_type": "code",
   "execution_count": null,
   "metadata": {},
   "outputs": [],
   "source": [
    "ls -l *log  2>&1 | wc"
   ]
  },
  {
   "cell_type": "markdown",
   "metadata": {},
   "source": [
    "`ls` is not producing any errors in this case.  But modify the command a little and we get:"
   ]
  },
  {
   "cell_type": "code",
   "execution_count": null,
   "metadata": {},
   "outputs": [],
   "source": [
    "ls -l *log *.unknown 2>&1 | wc"
   ]
  },
  {
   "cell_type": "markdown",
   "metadata": {},
   "source": [
    "Now there is an extra line corresponding to the error caused by `*.unknown`.  \n",
    "\n",
    "If we want, we can look inside the pipeline with the `tee` command.  \n",
    "`tee` tees off the intermediate output to another file (`tlog`): "
   ]
  },
  {
   "cell_type": "code",
   "execution_count": null,
   "metadata": {},
   "outputs": [],
   "source": [
    "ls -l *log *.unknown 2>&1 | tee tlog | wc"
   ]
  },
  {
   "cell_type": "markdown",
   "metadata": {},
   "source": [
    "Let's see the output from `tee`:"
   ]
  },
  {
   "cell_type": "code",
   "execution_count": null,
   "metadata": {},
   "outputs": [],
   "source": [
    "cat tlog"
   ]
  },
  {
   "cell_type": "markdown",
   "metadata": {},
   "source": [
    "Well that completes this tutorial.  Let's clean up:"
   ]
  },
  {
   "cell_type": "code",
   "execution_count": null,
   "metadata": {},
   "outputs": [],
   "source": [
    "cd ..\n",
    "rm -rf temp"
   ]
  }
 ],
 "metadata": {
  "kernelspec": {
   "display_name": "Bash",
   "language": "bash",
   "name": "bash"
  },
  "language_info": {
   "codemirror_mode": "shell",
   "file_extension": ".sh",
   "mimetype": "text/x-sh",
   "name": "bash"
  }
 },
 "nbformat": 4,
 "nbformat_minor": 2
}
