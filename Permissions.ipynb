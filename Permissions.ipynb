{
 "cells": [
  {
   "cell_type": "markdown",
   "metadata": {},
   "source": [
    "<div style=\"color:red;background-color:black\">\n",
    "Diamond Light Source\n",
    "\n",
    "<h1 style=\"color:red;background-color:antiquewhite\"> Linux Introduction: Permissions</h1>  \n",
    "\n",
    "©2000-20 Chris Seddon \n",
    "</div>"
   ]
  },
  {
   "cell_type": "markdown",
   "metadata": {},
   "source": [
    "# Linux Permissions"
   ]
  },
  {
   "cell_type": "markdown",
   "metadata": {},
   "source": [
    "In Linux, files have 3 sets of permissions.  \n",
    "You can use the 'ls' command to see the permissions.  \n",
    "Let's create some files and look at their permissions."
   ]
  },
  {
   "cell_type": "code",
   "execution_count": 1,
   "metadata": {},
   "outputs": [
    {
     "name": "stdout",
     "output_type": "stream",
     "text": [
      "/home/wns35789\n"
     ]
    }
   ],
   "source": [
    "%cd"
   ]
  },
  {
   "cell_type": "markdown",
   "metadata": {},
   "source": [
    "That takes us to your home directory.  Now lets create a directory for our work:"
   ]
  },
  {
   "cell_type": "code",
   "execution_count": 2,
   "metadata": {},
   "outputs": [],
   "source": [
    "%%bash\n",
    "mkdir play"
   ]
  },
  {
   "cell_type": "markdown",
   "metadata": {},
   "source": [
    "cd to the directory we've just created:"
   ]
  },
  {
   "cell_type": "code",
   "execution_count": 3,
   "metadata": {},
   "outputs": [
    {
     "name": "stdout",
     "output_type": "stream",
     "text": [
      "/home/wns35789/play\n"
     ]
    }
   ],
   "source": [
    "%cd play"
   ]
  },
  {
   "cell_type": "markdown",
   "metadata": {},
   "source": [
    "We can create an empty file using the 'touch' command.  This command was really meant to be used in a different context, but is handy here and saves having to use an editor to create files."
   ]
  },
  {
   "cell_type": "code",
   "execution_count": 4,
   "metadata": {},
   "outputs": [],
   "source": [
    "%%bash\n",
    "touch f1 f2 f3 f4"
   ]
  },
  {
   "cell_type": "markdown",
   "metadata": {},
   "source": [
    "This creates 4 empty files:"
   ]
  },
  {
   "cell_type": "code",
   "execution_count": 5,
   "metadata": {},
   "outputs": [
    {
     "name": "stdout",
     "output_type": "stream",
     "text": [
      "total 0\n",
      "-rw-rw-r--. 1 wns35789 wns35789 0 Feb 26 22:11 f1\n",
      "-rw-rw-r--. 1 wns35789 wns35789 0 Feb 26 22:11 f2\n",
      "-rw-rw-r--. 1 wns35789 wns35789 0 Feb 26 22:11 f3\n",
      "-rw-rw-r--. 1 wns35789 wns35789 0 Feb 26 22:11 f4\n"
     ]
    }
   ],
   "source": [
    "%%bash\n",
    "ls -l"
   ]
  },
  {
   "cell_type": "markdown",
   "metadata": {},
   "source": [
    "The ouput of 'ls' is interpreted as follows:\n",
    "* column 1 indicates the file type.  - indicates a regular file, d indicates a directory.  Other types exist.\n",
    "* the next 9 characters for the file permissions.  In this case each file has been created with the same set of permissions: rw-rw-r--.\n",
    "* immediately after the permissions is the link count of the file.  Every file can have multiple names and this count shows the number of such names.\n",
    "* next comes the owner of the file\n",
    "* followed by the group to whom permissions apply\n",
    "* the zero indicates the file size in bytes - recall we created empty files\n",
    "* then a time stamp when the file was last edited\n",
    "* finally we have the name of the file"
   ]
  },
  {
   "cell_type": "markdown",
   "metadata": {},
   "source": [
    "The 9 permissions can be split into 3 sets of permissions:\n",
    "    rw-\n",
    "    rw-\n",
    "    r--\n",
    "* The first set applies to the owner of the file.  \n",
    "* The second set applies to members of the files group.\n",
    "* The last set applies to everybody else.\n",
    "The 'r' and 'w' permission are obviously read and write permission.  There is also 'x' permission for command files that can be executed.\n",
    "You can check on who you are with:"
   ]
  },
  {
   "cell_type": "code",
   "execution_count": 6,
   "metadata": {},
   "outputs": [
    {
     "name": "stdout",
     "output_type": "stream",
     "text": [
      "wns35789\n"
     ]
    }
   ],
   "source": [
    "%%bash\n",
    "whoami"
   ]
  },
  {
   "cell_type": "markdown",
   "metadata": {},
   "source": [
    "You can check which groups you belong to:"
   ]
  },
  {
   "cell_type": "code",
   "execution_count": 7,
   "metadata": {},
   "outputs": [
    {
     "name": "stdout",
     "output_type": "stream",
     "text": [
      "wns35789 dls_staff\n"
     ]
    }
   ],
   "source": [
    "%%bash\n",
    "groups"
   ]
  },
  {
   "cell_type": "markdown",
   "metadata": {},
   "source": [
    "You might be wondering why new files are created with the above set of permissions.  This is controlled by the 'umask'.  The idea is to create new files with a sensible set of permissions, so that you and probably members of your group can read and write to the files, but everyone else is restricted.\n",
    "We can see our 'umask' setting with:"
   ]
  },
  {
   "cell_type": "code",
   "execution_count": 8,
   "metadata": {},
   "outputs": [
    {
     "name": "stdout",
     "output_type": "stream",
     "text": [
      "0002\n"
     ]
    }
   ],
   "source": [
    "%%bash\n",
    "umask"
   ]
  },
  {
   "cell_type": "markdown",
   "metadata": {},
   "source": [
    "The umask is displayed as an octal number.  The permissions can also be expressed in octal using the following scheme:\n",
    "    r = 4\n",
    "    w = 2\n",
    "    x = 1\n",
    "* if the file owner has 'rw' permission; this is represented by octal 6 (r+w=4+2)  \n",
    "* if the groups also have 'rw' permission; octal 6 (r+w=4+2)  \n",
    "* and others have only 'r' permission: octal 4 (r=4)  \n",
    "\n",
    "then the total permission will be octal 664.  "
   ]
  },
  {
   "cell_type": "markdown",
   "metadata": {},
   "source": [
    "When a file is created the sum of the umask and the permissions always comes to 666:  \n",
    ">    umask       = 002  \n",
    "    permissions = 664  \n",
    "    TOTAL        = 666  \n",
    "\n",
    "Lets set the umask and create some files to check this out:"
   ]
  },
  {
   "cell_type": "code",
   "execution_count": 9,
   "metadata": {},
   "outputs": [
    {
     "name": "stdout",
     "output_type": "stream",
     "text": [
      "total 0\n",
      "-rw-rw-r--. 1 wns35789 wns35789 0 Feb 26 22:11 f1\n",
      "-rw-rw-r--. 1 wns35789 wns35789 0 Feb 26 22:11 f2\n",
      "-rw-rw-r--. 1 wns35789 wns35789 0 Feb 26 22:11 f3\n",
      "-rw-rw-r--. 1 wns35789 wns35789 0 Feb 26 22:11 f4\n",
      "-rw--w--w-. 1 wns35789 wns35789 0 Feb 26 22:11 g1\n",
      "-rw--w--w-. 1 wns35789 wns35789 0 Feb 26 22:11 g2\n",
      "-rw--w--w-. 1 wns35789 wns35789 0 Feb 26 22:11 g3\n",
      "-rw--w--w-. 1 wns35789 wns35789 0 Feb 26 22:11 g4\n"
     ]
    }
   ],
   "source": [
    "%%bash\n",
    "umask 044\n",
    "touch g1 g2 g3 g4\n",
    "ls -l"
   ]
  },
  {
   "cell_type": "markdown",
   "metadata": {},
   "source": [
    "The new files have permissions: rw- -w- -w-  \n",
    "In octal this amounts to a permission of 644.  \n",
    "Note that the sum of the umask (002) and the permissions (644) on g1, g2, g3 and g4 comes to 666:  \n",
    "\n",
    ">   umask       = 002  \n",
    "    permissions = 664  \n",
    "    TOTAL       = 666"
   ]
  },
  {
   "cell_type": "markdown",
   "metadata": {},
   "source": [
    "If you change the 'umask' it will only affect new files:"
   ]
  },
  {
   "cell_type": "code",
   "execution_count": 10,
   "metadata": {},
   "outputs": [
    {
     "name": "stdout",
     "output_type": "stream",
     "text": [
      "total 0\n",
      "-rw-rw-r--. 1 wns35789 wns35789 0 Feb 26 22:11 f1\n",
      "-rw-rw-r--. 1 wns35789 wns35789 0 Feb 26 22:11 f2\n",
      "-rw-rw-r--. 1 wns35789 wns35789 0 Feb 26 22:11 f3\n",
      "-rw-rw-r--. 1 wns35789 wns35789 0 Feb 26 22:11 f4\n",
      "-rw--w--w-. 1 wns35789 wns35789 0 Feb 26 22:11 g1\n",
      "-rw--w--w-. 1 wns35789 wns35789 0 Feb 26 22:11 g2\n",
      "-rw--w--w-. 1 wns35789 wns35789 0 Feb 26 22:11 g3\n",
      "-rw--w--w-. 1 wns35789 wns35789 0 Feb 26 22:11 g4\n",
      "-rw--w--w-. 1 wns35789 wns35789 0 Feb 26 22:11 h1\n",
      "-rw--w--w-. 1 wns35789 wns35789 0 Feb 26 22:11 h2\n",
      "-rw--w--w-. 1 wns35789 wns35789 0 Feb 26 22:11 h3\n",
      "-rw--w--w-. 1 wns35789 wns35789 0 Feb 26 22:11 h4\n"
     ]
    }
   ],
   "source": [
    "%%bash\n",
    "umask 044\n",
    "touch h1 h2 h3 h4\n",
    "ls -l"
   ]
  },
  {
   "cell_type": "markdown",
   "metadata": {},
   "source": [
    "Note that the sum of the umask and the permissions on h1, h2, h3 and h4 still comes to 666:  \n",
    ">    umask       = 044  \n",
    "    permissions = 622  \n",
    "    TOTAL         666  \n",
    "    \n",
    "The other files are unchanged."
   ]
  },
  {
   "cell_type": "markdown",
   "metadata": {},
   "source": [
    "That begs the question of how can you change the permissions of existing files.  Use the *chmod* command:"
   ]
  },
  {
   "cell_type": "code",
   "execution_count": 11,
   "metadata": {},
   "outputs": [
    {
     "name": "stdout",
     "output_type": "stream",
     "text": [
      "total 0\n",
      "-rw-rw-r--. 1 wns35789 wns35789 0 Feb 26 22:11 f1\n",
      "-rw-rw-r--. 1 wns35789 wns35789 0 Feb 26 22:11 f2\n",
      "-rw-rw-r--. 1 wns35789 wns35789 0 Feb 26 22:11 f3\n",
      "-rw-rw-r--. 1 wns35789 wns35789 0 Feb 26 22:11 f4\n",
      "-rw-rw-rw-. 1 wns35789 wns35789 0 Feb 26 22:11 g1\n",
      "-rw-rw-rw-. 1 wns35789 wns35789 0 Feb 26 22:11 g2\n",
      "-rw-rw-rw-. 1 wns35789 wns35789 0 Feb 26 22:11 g3\n",
      "-rw-rw-rw-. 1 wns35789 wns35789 0 Feb 26 22:11 g4\n",
      "-rw--w--w-. 1 wns35789 wns35789 0 Feb 26 22:11 h1\n",
      "-rw--w--w-. 1 wns35789 wns35789 0 Feb 26 22:11 h2\n",
      "-rw--w--w-. 1 wns35789 wns35789 0 Feb 26 22:11 h3\n",
      "-rw--w--w-. 1 wns35789 wns35789 0 Feb 26 22:11 h4\n"
     ]
    }
   ],
   "source": [
    "%%bash\n",
    "chmod 666 g1 g2 g3 g4\n",
    "ls -l"
   ]
  },
  {
   "cell_type": "markdown",
   "metadata": {},
   "source": [
    "Here we have changed the permissions on h1, h2, h3 and h4 to octal 666 or rw-rw-rw-"
   ]
  },
  {
   "cell_type": "markdown",
   "metadata": {},
   "source": [
    "We can also make the files executable by adding the *x* permission:"
   ]
  },
  {
   "cell_type": "code",
   "execution_count": 12,
   "metadata": {},
   "outputs": [
    {
     "name": "stdout",
     "output_type": "stream",
     "text": [
      "total 0\n",
      "-rw-rw-r--. 1 wns35789 wns35789 0 Feb 26 22:11 f1\n",
      "-rw-rw-r--. 1 wns35789 wns35789 0 Feb 26 22:11 f2\n",
      "-rw-rw-r--. 1 wns35789 wns35789 0 Feb 26 22:11 f3\n",
      "-rw-rw-r--. 1 wns35789 wns35789 0 Feb 26 22:11 f4\n",
      "-rwxrwxrwx. 1 wns35789 wns35789 0 Feb 26 22:11 g1\n",
      "-rwxrwxrwx. 1 wns35789 wns35789 0 Feb 26 22:11 g2\n",
      "-rwxrwxrwx. 1 wns35789 wns35789 0 Feb 26 22:11 g3\n",
      "-rwxrwxrwx. 1 wns35789 wns35789 0 Feb 26 22:11 g4\n",
      "-rw--w--w-. 1 wns35789 wns35789 0 Feb 26 22:11 h1\n",
      "-rw--w--w-. 1 wns35789 wns35789 0 Feb 26 22:11 h2\n",
      "-rw--w--w-. 1 wns35789 wns35789 0 Feb 26 22:11 h3\n",
      "-rw--w--w-. 1 wns35789 wns35789 0 Feb 26 22:11 h4\n"
     ]
    }
   ],
   "source": [
    "%%bash\n",
    "chmod 777 g1 g2 g3 g4\n",
    "ls -l"
   ]
  },
  {
   "cell_type": "markdown",
   "metadata": {},
   "source": [
    "*chmod* also allows us to use symbolic permissions.  For example:"
   ]
  },
  {
   "cell_type": "code",
   "execution_count": 13,
   "metadata": {},
   "outputs": [
    {
     "name": "stdout",
     "output_type": "stream",
     "text": [
      "total 0\n",
      "-rwxrwxr-x. 1 wns35789 wns35789 0 Feb 26 22:11 f1\n",
      "-rwxrwxr-x. 1 wns35789 wns35789 0 Feb 26 22:11 f2\n",
      "-rwxrwxr-x. 1 wns35789 wns35789 0 Feb 26 22:11 f3\n",
      "-rwxrwxr-x. 1 wns35789 wns35789 0 Feb 26 22:11 f4\n",
      "-rwxrwxrwx. 1 wns35789 wns35789 0 Feb 26 22:11 g1\n",
      "-rwxrwxrwx. 1 wns35789 wns35789 0 Feb 26 22:11 g2\n",
      "-rwxrwxrwx. 1 wns35789 wns35789 0 Feb 26 22:11 g3\n",
      "-rwxrwxrwx. 1 wns35789 wns35789 0 Feb 26 22:11 g4\n",
      "-rw--w--w-. 1 wns35789 wns35789 0 Feb 26 22:11 h1\n",
      "-rw--w--w-. 1 wns35789 wns35789 0 Feb 26 22:11 h2\n",
      "-rw--w--w-. 1 wns35789 wns35789 0 Feb 26 22:11 h3\n",
      "-rw--w--w-. 1 wns35789 wns35789 0 Feb 26 22:11 h4\n"
     ]
    }
   ],
   "source": [
    "%%bash\n",
    "chmod +x f1 f2 f3 f4\n",
    "ls -l"
   ]
  },
  {
   "cell_type": "markdown",
   "metadata": {},
   "source": [
    "The <em>+x</em> switches on the <em>x</em> permission.  \n",
    "    We can also use <em>r</em> for read and <em>w</em> for write:"
   ]
  },
  {
   "cell_type": "code",
   "execution_count": 14,
   "metadata": {},
   "outputs": [
    {
     "name": "stdout",
     "output_type": "stream",
     "text": [
      "total 0\n",
      "---x--x--x. 1 wns35789 wns35789 0 Feb 26 22:11 f1\n",
      "---x--x--x. 1 wns35789 wns35789 0 Feb 26 22:11 f2\n",
      "---x--x--x. 1 wns35789 wns35789 0 Feb 26 22:11 f3\n",
      "---x--x--x. 1 wns35789 wns35789 0 Feb 26 22:11 f4\n",
      "-rwxrwxrwx. 1 wns35789 wns35789 0 Feb 26 22:11 g1\n",
      "-rwxrwxrwx. 1 wns35789 wns35789 0 Feb 26 22:11 g2\n",
      "-rwxrwxrwx. 1 wns35789 wns35789 0 Feb 26 22:11 g3\n",
      "-rwxrwxrwx. 1 wns35789 wns35789 0 Feb 26 22:11 g4\n",
      "-rw--w--w-. 1 wns35789 wns35789 0 Feb 26 22:11 h1\n",
      "-rw--w--w-. 1 wns35789 wns35789 0 Feb 26 22:11 h2\n",
      "-rw--w--w-. 1 wns35789 wns35789 0 Feb 26 22:11 h3\n",
      "-rw--w--w-. 1 wns35789 wns35789 0 Feb 26 22:11 h4\n"
     ]
    }
   ],
   "source": [
    "%%bash\n",
    "chmod -rw f1 f2 f3 f4\n",
    "ls -l"
   ]
  },
  {
   "cell_type": "markdown",
   "metadata": {},
   "source": [
    "Here we've switched off the <em>rw</em> permissions."
   ]
  },
  {
   "cell_type": "markdown",
   "metadata": {},
   "source": [
    "The *umask* and *chmod* commands also apply to directories, but they work slightly differently.  This is because the <em>rwx</em> permissions mean different thing when applied to directories.  For directories:    \n",
    ">  r = permission to read directory contents (ls will work)  \n",
    "   w = premission to modify directory contents (mv, rm will work)  \n",
    "   x = permission to access directory (cd will work)  "
   ]
  },
  {
   "cell_type": "markdown",
   "metadata": {},
   "source": [
    "When using *umask* with directories the permissions + umask = 777.  \n",
    "Let's create some directories to check this out:"
   ]
  },
  {
   "cell_type": "code",
   "execution_count": 15,
   "metadata": {},
   "outputs": [
    {
     "name": "stdout",
     "output_type": "stream",
     "text": [
      "drwx-wx-wx. 2 wns35789 wns35789 4096 Feb 26 22:11 d1\n",
      "drwx-wx-wx. 2 wns35789 wns35789 4096 Feb 26 22:11 d2\n"
     ]
    }
   ],
   "source": [
    "%%bash\n",
    "umask 044\n",
    "mkdir d1 d2\n",
    "ls -ld d1 d2"
   ]
  },
  {
   "cell_type": "markdown",
   "metadata": {},
   "source": [
    "Note that d1 and d2 have been created with permissions 733.  \n",
    "> umask = 044  \n",
    "  permissions = 733  \n",
    "    TOTAL = 777  "
   ]
  },
  {
   "cell_type": "markdown",
   "metadata": {},
   "source": [
    "Again, change the umask:"
   ]
  },
  {
   "cell_type": "code",
   "execution_count": 16,
   "metadata": {},
   "outputs": [
    {
     "name": "stdout",
     "output_type": "stream",
     "text": [
      "drwxr-xr--. 2 wns35789 wns35789 4096 Feb 26 22:11 d3\n",
      "drwxr-xr--. 2 wns35789 wns35789 4096 Feb 26 22:11 d4\n"
     ]
    }
   ],
   "source": [
    "%%bash\n",
    "umask 023\n",
    "mkdir d3 d4\n",
    "ls -ld d3 d4"
   ]
  },
  {
   "cell_type": "markdown",
   "metadata": {},
   "source": [
    "Note that d3 and d4 have been created with permissions 751.  \n",
    "> umask = 023  \n",
    "  permissions = 751  \n",
    "    TOTAL = 777  "
   ]
  },
  {
   "cell_type": "markdown",
   "metadata": {},
   "source": [
    "We can use *chmod* to change these permissions:"
   ]
  },
  {
   "cell_type": "code",
   "execution_count": 17,
   "metadata": {},
   "outputs": [
    {
     "name": "stdout",
     "output_type": "stream",
     "text": [
      "d-wx--x---. 2 wns35789 wns35789 4096 Feb 26 22:11 d3\n",
      "d-wx--x---. 2 wns35789 wns35789 4096 Feb 26 22:11 d4\n"
     ]
    }
   ],
   "source": [
    "%%bash\n",
    "chmod -r d3 d4\n",
    "ls -ld d3 d4"
   ]
  },
  {
   "cell_type": "markdown",
   "metadata": {},
   "source": [
    "That completes this tutorial; all that is left is to remove the files created in this tutorial: "
   ]
  },
  {
   "cell_type": "code",
   "execution_count": 18,
   "metadata": {},
   "outputs": [
    {
     "name": "stdout",
     "output_type": "stream",
     "text": [
      "/home/wns35789\n"
     ]
    }
   ],
   "source": [
    "%cd"
   ]
  },
  {
   "cell_type": "code",
   "execution_count": 19,
   "metadata": {},
   "outputs": [],
   "source": [
    "%%bash\n",
    "rm -r ~/play"
   ]
  }
 ],
 "metadata": {
  "kernelspec": {
   "display_name": "Bash",
   "language": "bash",
   "name": "bash"
  },
  "language_info": {
   "codemirror_mode": "shell",
   "file_extension": ".sh",
   "mimetype": "text/x-sh",
   "name": "bash"
  }
 },
 "nbformat": 4,
 "nbformat_minor": 2
}
