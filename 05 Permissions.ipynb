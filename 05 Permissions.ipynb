{
 "cells": [
  {
   "cell_type": "markdown",
   "metadata": {},
   "source": [
    "<div style=\"color:red;background-color:black\">\n",
    "Diamond Light Source\n",
    "\n",
    "<h1 style=\"color:red;background-color:antiquewhite\"> Linux Introduction: Permissions</h1>  \n",
    "\n",
    "©2000-24 Chris Seddon \n",
    "</div>"
   ]
  },
  {
   "cell_type": "markdown",
   "metadata": {},
   "source": [
    "# Linux Permissions"
   ]
  },
  {
   "cell_type": "markdown",
   "metadata": {},
   "source": [
    "In Linux, files have 3 sets of permissions:\n",
    "* for the owner of the file (user)\n",
    "* for the owner's group (group)\n",
    "* for everyone else (other)  \n",
    "\n",
    "You can use the 'ls' command to see these permissions.    \n",
    "Let's create some files and look at their permissions.  But first, let's create a directory for our work:"
   ]
  },
  {
   "cell_type": "code",
   "execution_count": null,
   "metadata": {},
   "outputs": [],
   "source": [
    "cd\n",
    "mkdir play\n",
    "cd play"
   ]
  },
  {
   "cell_type": "markdown",
   "metadata": {},
   "source": [
    "We can create an empty file using the 'touch' command.  This command was really meant to be used in a different context, but is handy here and saves having to use an editor to create files."
   ]
  },
  {
   "cell_type": "code",
   "execution_count": null,
   "metadata": {},
   "outputs": [],
   "source": [
    "touch f1 f2 f3 f4"
   ]
  },
  {
   "cell_type": "markdown",
   "metadata": {},
   "source": [
    "This creates 4 empty files:"
   ]
  },
  {
   "cell_type": "code",
   "execution_count": null,
   "metadata": {},
   "outputs": [],
   "source": [
    "pwd\n",
    "ls -l"
   ]
  },
  {
   "cell_type": "markdown",
   "metadata": {},
   "source": [
    "The ouput of `ls -l` is interpreted as follows:\n",
    "* column 1 indicates the file type.  - indicates a regular file, d indicates a directory.  Other types exist.\n",
    "* the next 9 characters for the file permissions.  These permissions are split into 3 groups of 3.  The first group is for `user`, then `group` and finally `other`.  In this case each file has been created with the same set of permissions: rw-rw-r--\n",
    "** user = rw-  \n",
    "** group = rw-  \n",
    "** other = r--  \n",
    "The 'r' and 'w' permission are obviously read and write permission.  \n",
    "There is also 'x' permission for command files that can be executed.\n",
    "* immediately after the permissions is the link count of the file (1).  Every file can have multiple names and this count shows the number of such names.\n",
    "* next comes the owner of the file\n",
    "* followed by the group to whom permissions apply\n",
    "* the zero indicates the file size in bytes - recall we created empty files\n",
    "* then a time stamp when the file was last edited\n",
    "* finally we have the name of the file  \n",
    "\n",
    "We can find out which permission apply to ourselves and our group.  \n",
    "First, what user am I?"
   ]
  },
  {
   "cell_type": "code",
   "execution_count": null,
   "metadata": {},
   "outputs": [],
   "source": [
    "whoami\n",
    "id -u"
   ]
  },
  {
   "cell_type": "markdown",
   "metadata": {},
   "source": [
    "This shows your user name and the id associated with this name.  \n",
    "\n",
    "You can check which groups you belong to (and their ids):"
   ]
  },
  {
   "cell_type": "code",
   "execution_count": null,
   "metadata": {},
   "outputs": [],
   "source": [
    "groups\n",
    "id -G"
   ]
  },
  {
   "cell_type": "markdown",
   "metadata": {},
   "source": [
    "You can moved between groups.  To find the current group you are in:"
   ]
  },
  {
   "cell_type": "code",
   "execution_count": null,
   "metadata": {},
   "outputs": [],
   "source": [
    "id -g -n\n",
    "id -g"
   ]
  },
  {
   "cell_type": "markdown",
   "metadata": {},
   "source": [
    "You might be wondering why new files are created with the above set of permissions.  \n",
    "\n",
    "This is controlled by the `umask`.  The idea is to create new files with a sensible set of permissions, for example, so that you and members of your group can read and write to the files, but everyone else is restricted.\n",
    "We can see the value of our `umask` setting with:"
   ]
  },
  {
   "cell_type": "code",
   "execution_count": null,
   "metadata": {},
   "outputs": [],
   "source": [
    "umask\n",
    "ls -l"
   ]
  },
  {
   "cell_type": "markdown",
   "metadata": {},
   "source": [
    "The umask is displayed as an octal number.  The permissions can also be expressed in octal using the following scheme:  \n",
    "    r = 4  \n",
    "    w = 2  \n",
    "    x = 1  \n",
    "The `umask` is the upside down mask - it tells you what permission you <b>don't</b> get!  \n",
    "\n",
    "<b>The `umask` is only used when a file is created.  It is not used subsequently.</b>\n",
    "\n",
    "The files above all have permissions: rw-rw-r--  \n",
    "* the file owner has 'rw' permission; this is represented by octal 6 (r+w=4+2)  \n",
    "* the groups also have 'rw' permission; octal 6 (r+w=4+2)  \n",
    "* and others have only 'r' permission: octal 4 (r=4)  \n",
    "\n",
    "then the total permission will be octal 664.  \n",
    "\n",
    "When a file is created, the sum of the `umask` and the permissions always comes to 666:\n",
    "\n",
    "    umask = 002\n",
    "    permissions = 664\n",
    "    TOTAL = 666\n",
    "\n",
    "Let's set the `umask` and create some files to check this out:"
   ]
  },
  {
   "cell_type": "code",
   "execution_count": null,
   "metadata": {},
   "outputs": [],
   "source": [
    "umask 044\n",
    "touch g1 g2 g3 g4\n",
    "ls -l g?"
   ]
  },
  {
   "cell_type": "markdown",
   "metadata": {},
   "source": [
    "The new files have permissions: rw- -w- -w-  \n",
    "In octal this amounts to a permission of 622.  \n",
    "Note that the sum of the umask (044) and the permissions (622) on g1, g2, g3 and g4 comes to 666:  \n",
    "\n",
    ">   umask       = 044  \n",
    "    permissions = 622  \n",
    "    TOTAL       = 666  \n",
    "\n",
    "Recall, iI you change the `umask` it will only affect new files:"
   ]
  },
  {
   "cell_type": "code",
   "execution_count": null,
   "metadata": {},
   "outputs": [],
   "source": [
    "umask 024\n",
    "touch h1 h2 h3 h4\n",
    "ls -l"
   ]
  },
  {
   "cell_type": "markdown",
   "metadata": {},
   "source": [
    "Note that the sum of the `umask` and the permissions on h1, h2, h3 and h4 still comes to 666:  \n",
    ">    umask       = 024  \n",
    "    permissions = 642  \n",
    "    TOTAL         666  \n",
    "    \n",
    "The other files are unchanged.\n",
    "\n",
    "That begs the question of how can you change the permissions of existing files. Use the `chmod` command:"
   ]
  },
  {
   "cell_type": "code",
   "execution_count": null,
   "metadata": {},
   "outputs": [],
   "source": [
    "chmod 666 g1 g2 g3 g4\n",
    "ls -l g?"
   ]
  },
  {
   "cell_type": "markdown",
   "metadata": {},
   "source": [
    "Here we have changed the permissions on h1, h2, h3 and h4 to octal 666 or rw-rw-rw-  \n",
    "\n",
    "We can also make the files executable by adding the *x* permission:"
   ]
  },
  {
   "cell_type": "code",
   "execution_count": null,
   "metadata": {},
   "outputs": [],
   "source": [
    "chmod 777 g1 g2 g3 g4\n",
    "ls -l g?"
   ]
  },
  {
   "cell_type": "markdown",
   "metadata": {},
   "source": [
    "*chmod* also allows us to use symbolic permissions.  For example:"
   ]
  },
  {
   "cell_type": "code",
   "execution_count": null,
   "metadata": {},
   "outputs": [],
   "source": [
    "chmod +x f1 f2 f3 f4\n",
    "ls -l f?"
   ]
  },
  {
   "cell_type": "markdown",
   "metadata": {},
   "source": [
    "The <em>+x</em> switches on the <em>x</em> permission.  We can also use <em>r</em> for read and <em>w</em> for write.  \n",
    "Let's switch on the write permissions for some files"
   ]
  },
  {
   "cell_type": "code",
   "execution_count": null,
   "metadata": {},
   "outputs": [],
   "source": [
    "chmod +w f1 f2 f3 f4\n",
    "ls -l f?"
   ]
  },
  {
   "cell_type": "markdown",
   "metadata": {},
   "source": [
    "The *umask* and *chmod* commands also apply to directories, but they work slightly differently.  This is because the <em>rwx</em> permissions mean different thing when applied to directories.  For directories:    \n",
    ">  r = permission to read directory contents (ls will work)  \n",
    "   w = premission to modify directory contents (mv, rm will work)  \n",
    "   x = permission to access directory (cd will work)  "
   ]
  },
  {
   "cell_type": "markdown",
   "metadata": {},
   "source": [
    "When using *umask* with directories the permissions + umask = 777.  \n",
    "Let's create some directories to check this out:"
   ]
  },
  {
   "cell_type": "code",
   "execution_count": null,
   "metadata": {},
   "outputs": [],
   "source": [
    "umask 044\n",
    "mkdir d1 d2\n",
    "ls -ld d1 d2"
   ]
  },
  {
   "cell_type": "markdown",
   "metadata": {},
   "source": [
    "Note that d1 and d2 have been created with permissions 733; we need to use the `-ld` option on `ls` to see permissions on directories.\n",
    "> umask = 044  \n",
    "  permissions = 733  \n",
    "    TOTAL = 777  \n",
    "    \n",
    "Again, change the `umask`:"
   ]
  },
  {
   "cell_type": "code",
   "execution_count": null,
   "metadata": {},
   "outputs": [],
   "source": [
    "umask 023\n",
    "mkdir d3 d4\n",
    "ls -ld d3 d4"
   ]
  },
  {
   "cell_type": "markdown",
   "metadata": {},
   "source": [
    "Note that d3 and d4 have been created with permissions 751.  \n",
    "> umask = 023  \n",
    "  permissions = 751  \n",
    "    TOTAL = 777  \n",
    "    \n",
    "We can use *chmod* to change these permissions:"
   ]
  },
  {
   "cell_type": "code",
   "execution_count": null,
   "metadata": {},
   "outputs": [],
   "source": [
    "chmod -r d3 d4\n",
    "ls -ld d3 d4"
   ]
  },
  {
   "cell_type": "markdown",
   "metadata": {},
   "source": [
    "That completes this tutorial; all that is left is to remove the files created in this tutorial: "
   ]
  },
  {
   "cell_type": "code",
   "execution_count": null,
   "metadata": {},
   "outputs": [],
   "source": [
    "rm -rf play"
   ]
  }
 ],
 "metadata": {
  "kernelspec": {
   "display_name": "Bash",
   "language": "bash",
   "name": "bash"
  },
  "language_info": {
   "codemirror_mode": "shell",
   "file_extension": ".sh",
   "mimetype": "text/x-sh",
   "name": "bash"
  }
 },
 "nbformat": 4,
 "nbformat_minor": 2
}
