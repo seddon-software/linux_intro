{
 "cells": [
  {
   "cell_type": "markdown",
   "metadata": {},
   "source": [
    "<div style=\"color:red;background-color:black\">\n",
    "Diamond Light Source\n",
    "\n",
    "<h1 style=\"color:red;background-color:antiquewhite\"> Linux Introduction: Networking</h1>  \n",
    "\n",
    "©2000-24 Chris Seddon \n",
    "</div>"
   ]
  },
  {
   "cell_type": "markdown",
   "metadata": {},
   "source": [
    "Let's start by checking which machine we are on:"
   ]
  },
  {
   "cell_type": "code",
   "execution_count": null,
   "metadata": {},
   "outputs": [],
   "source": [
    "hostname"
   ]
  },
  {
   "cell_type": "markdown",
   "metadata": {},
   "source": [
    "That tells us our fully qualified hostname.  It includes our domain name.  \n",
    "\n",
    "A domain name is an identification string that defines a realm of control within the Internet. Domain names are used in various networking senarios.\n",
    "\n",
    "If we are just interested in the hostname without the domain:"
   ]
  },
  {
   "cell_type": "code",
   "execution_count": null,
   "metadata": {},
   "outputs": [],
   "source": [
    "hostname -s"
   ]
  },
  {
   "cell_type": "markdown",
   "metadata": {},
   "source": [
    "Devices on the Internet are assigned a unique IP address.  We can use the \"ifconfig\" command to check on our IP address, but it usually returns too much information.  The following command filters out just the IP information:"
   ]
  },
  {
   "cell_type": "code",
   "execution_count": null,
   "metadata": {},
   "outputs": [],
   "source": [
    "ifconfig | grep inet"
   ]
  },
  {
   "cell_type": "markdown",
   "metadata": {},
   "source": [
    "The above command is reporting both IP version 4 (inet) and IP version version 6 (inet6) addresses.  Theses are usually abreviated to IPv4 and IPv6.\n",
    "\n",
    "IPv4 uses 32 bit addresses and was the original procol used on the internet.  However with the rapid growth of the Internet after 1995, it became evident that we would run out of addresses in the early 21st century.  This prompted the development of IPv6.  IPv6 uses 128-bit addresses, theoretically allowing $2^{128}$, or approximately $3.4×10^{38}$ addresses. The actual number is slightly smaller, as multiple ranges are reserved.\n",
    "\n",
    "Nowadays it is common to use both IPv4 and IPv6 addresses.  In time IPv4 will be phased out.\n",
    "\n",
    "My output from the above command was:\n",
    "<pre>\n",
    "inet 172.23.159.7  netmask 255.255.255.0  broadcast 172.23.159.255\n",
    "inet6 fe80::a94:efff:fe5b:c1bc  prefixlen 64  scopeid 0x20<link>\n",
    "inet 127.0.0.1  netmask 255.0.0.0\n",
    "inet6 ::1  prefixlen 128  scopeid 0x10<host>\n",
    "</pre>\n",
    "This shows I have 2 IPv4 addresses:\n",
    "* 172.23.159.7\n",
    "* 127.0.0.1  \n",
    "\n",
    "IPv4 addresses are split into 4 octets and displayed in decimal.  The first address is my internet address and the second one is called the loopback address.  It is always `127.0.0.1` and is used for testing network programs locally and simulating the real internet.\n",
    "\n",
    "IPv6 addresses more complicated because they are 128 bits long.  They are normally displayed in hex:\n",
    "* fe80::a94:efff:fe5b:c1bc\n",
    "* ::1  \n",
    "\n",
    "but with leading zeros omitted and empty octets displayed as `::`.  Again, the second address is the loopback.  If we write the IPv6 addresses in full (with the zeros included) they are:\n",
    "\n",
    "* fe80:0000:0000:0000:0a94:efff:fe5b:c1bc\n",
    "* 0000:0000:0000:0000:0000:0000:0000:0001  \n",
    "\n",
    "Note that \"ifconfig\" reports a lot more information:"
   ]
  },
  {
   "cell_type": "code",
   "execution_count": null,
   "metadata": {},
   "outputs": [],
   "source": [
    "ifconfig"
   ]
  },
  {
   "cell_type": "markdown",
   "metadata": {},
   "source": [
    "The above shows each network interface amonst other things whether it is UP or DOWN and error counts.  Full information can be found in the manual pages:"
   ]
  },
  {
   "cell_type": "code",
   "execution_count": null,
   "metadata": {},
   "outputs": [],
   "source": [
    "man ifconfig"
   ]
  },
  {
   "cell_type": "markdown",
   "metadata": {},
   "source": [
    "There are usually several machines within a domain.  There are several ways to discover such machines, but we will use the \"arp\" command to see what's out there.\n",
    "\n",
    "\"arp\" is the Address Resolution Protocol, which is used to find the address of a network neighbour for a given hostname:"
   ]
  },
  {
   "cell_type": "code",
   "execution_count": null,
   "metadata": {},
   "outputs": [],
   "source": [
    "arp -a"
   ]
  },
  {
   "cell_type": "markdown",
   "metadata": {},
   "source": [
    "The address shown above is the MAC address of the network card.  The MAC address is unique to the hardware and is nothing to do with the IP address.\n",
    "\n",
    "We can run \"arp\" again to show IPv4 addresses instead of hostnames:"
   ]
  },
  {
   "cell_type": "code",
   "execution_count": null,
   "metadata": {},
   "outputs": [],
   "source": [
    "arp -n"
   ]
  },
  {
   "cell_type": "markdown",
   "metadata": {},
   "source": [
    "We can use the \"ping\" command to see if a host is running.  Normally we don't supply any options an \"ping\" runs until we kill it.  I want it to finish quickly so I've given it a count of 5 pings:"
   ]
  },
  {
   "cell_type": "code",
   "execution_count": null,
   "metadata": {},
   "outputs": [],
   "source": [
    "ping -c 5 cs05r-sc-serv-04.diamond.ac.uk"
   ]
  },
  {
   "cell_type": "markdown",
   "metadata": {},
   "source": [
    "Since we are contacting a host on our own network the pings are very quick.  Let's try pinging the IBM network:"
   ]
  },
  {
   "cell_type": "code",
   "execution_count": null,
   "metadata": {},
   "outputs": [],
   "source": [
    "ping -c 5 www.ibm.com"
   ]
  },
  {
   "cell_type": "markdown",
   "metadata": {},
   "source": [
    "Well that took a little longer.  \n",
    "\n",
    "We are on the domain<pre>diamond.co.uk</pre>\n",
    "We can use \"nslookup\" to obtain information about our domain:"
   ]
  },
  {
   "cell_type": "code",
   "execution_count": null,
   "metadata": {},
   "outputs": [],
   "source": [
    "nslookup diamond.ac.uk"
   ]
  },
  {
   "cell_type": "markdown",
   "metadata": {},
   "source": [
    "Often we want to obtain information about a program running on our own machine.  So let's run a Python server on port 8147 and use network commands to check that it is running:"
   ]
  },
  {
   "cell_type": "code",
   "execution_count": null,
   "metadata": {},
   "outputs": [],
   "source": [
    "python -m http.server 8147 &"
   ]
  },
  {
   "cell_type": "markdown",
   "metadata": {},
   "source": [
    "An IP address of `0.0.0.0` is a wildcard to mean any local IP address to this machine.  \n",
    "\n",
    "We can use \"netstat\" to find details of our server.  \n",
    "\n",
    "The options are:\n",
    "\n",
    "* v : verbose\n",
    "* a : all sockets\n",
    "* n : use numerical addresses"
   ]
  },
  {
   "cell_type": "code",
   "execution_count": null,
   "metadata": {},
   "outputs": [],
   "source": [
    "netstat -van 2>/dev/null | grep ':8147'"
   ]
  },
  {
   "cell_type": "markdown",
   "metadata": {},
   "source": [
    "Officially the \"netstat\" command is obsolete and we should be using \"ss\",  This has the advantage of working for both IPv4 and IPv6.  Furthermore it tells us the PID in case we want to kill the server.  \n",
    "\n",
    "The options used are:\n",
    "\n",
    "* t : TCP sockets\n",
    "* u : UDP sockets\n",
    "* l : listening sockets\n",
    "* p : show process using socket\n",
    "* n : use numerical addresses"
   ]
  },
  {
   "cell_type": "code",
   "execution_count": null,
   "metadata": {},
   "outputs": [],
   "source": [
    "ss -tulpn | grep ':8147'"
   ]
  },
  {
   "cell_type": "markdown",
   "metadata": {},
   "source": [
    "Yet another way to see this information is to use \"lsof\".  The \"-i\" stands for internet files and the colon introduces the port number:"
   ]
  },
  {
   "cell_type": "code",
   "execution_count": null,
   "metadata": {},
   "outputs": [],
   "source": [
    "lsof -i :8147"
   ]
  },
  {
   "cell_type": "markdown",
   "metadata": {},
   "source": [
    "Finally let's kill off our server with the \"fuser\" command.  \"fuser\" will display the PID of the process using a particular port.  However, if we use the \"-k\" option, \"fuser\" will kill the process:"
   ]
  },
  {
   "cell_type": "code",
   "execution_count": null,
   "metadata": {},
   "outputs": [],
   "source": [
    "fuser -k 8147/tcp\n",
    "jobs"
   ]
  },
  {
   "cell_type": "markdown",
   "metadata": {},
   "source": [
    "Another interesting network command is \"mtr\".  \"mtr\" combines the functionality of the traceroute and ping programs in a single network diagnostic tool.\n",
    "\n",
    "The options used are:\n",
    "\n",
    "* c : count of number of pings\n",
    "* r : produce a report\n",
    "* w : wide format (don't truncate hostnames)"
   ]
  },
  {
   "cell_type": "code",
   "execution_count": null,
   "metadata": {},
   "outputs": [],
   "source": [
    "mtr -c 5 -r -w www.bbc.co.uk"
   ]
  },
  {
   "cell_type": "markdown",
   "metadata": {},
   "source": [
    "We complete this tutorial by looking `/etc/services` which contains a list of standard Unix services and the port they run on.  Note that services can run using TCP or UDP or both.  Not all these services will actually be run on any particular host."
   ]
  },
  {
   "cell_type": "code",
   "execution_count": null,
   "metadata": {},
   "outputs": [],
   "source": [
    "cat /etc/services"
   ]
  },
  {
   "cell_type": "markdown",
   "metadata": {},
   "source": [
    "Some of the more important services from this file are filtered out below:"
   ]
  },
  {
   "cell_type": "code",
   "execution_count": null,
   "metadata": {},
   "outputs": [],
   "source": [
    "egrep ' (21|22|80|443)[/]' /etc/services"
   ]
  },
  {
   "cell_type": "markdown",
   "metadata": {},
   "source": [
    "Note that port 80 and 443 are the standard ports for internet http and https trafic.  The file transfer program, \"ftp\" runs on port 21.\n",
    "\n",
    "The secure shell, \"ssh\" runs on port 22.  \"ssh\" allows us to login to a remote machine and then run commands on the said host.\n",
    "\n",
    "\"ssh\" uses authentication before it allows a connection.  To ensure it is safe to connect to the remote host, \"ssh\" uses an ECDSA key fingerprint of the remote host (but stored on the local machine).  Sometimes this needs to be reset with the \"-R\" option, e.g.:\n",
    "<pre>ssh-keygen -R cs05r-sc-serv-10.diamond.ac.uk</pre>\n",
    "\n",
    "Unfortunately, Jupyter notebook's bash shell doesn't read standard input, which makes it impossible to enter your password when \"ssh\" requests it.  Furthermore, if you connect to Diamond with \"NoMachine\", security at Diamond will restrict which machines you can \"ssh\".\n",
    "\n",
    "However, once we are on the Diamond network we can `ssh` to one of the training machines:\n",
    "<pre>\n",
    "diamtr501\n",
    "diamtr502\n",
    "diamtr503\n",
    "diamtr504\n",
    "diamtr505\n",
    "diamtr506\n",
    "diamtr507\n",
    "diamtr508\n",
    "diamtr509\n",
    "diamtr510\n",
    "</pre>\n",
    "We can try this out by creating an `xterm` and performing a `ssh` from there.  \n",
    "\n",
    "Type the following in the `xterm`:\n",
    "<pre>ssh diamtr501</pre>\n",
    "Try a different machine if you like."
   ]
  },
  {
   "cell_type": "code",
   "execution_count": null,
   "metadata": {},
   "outputs": [],
   "source": [
    "xterm -fg black -bg white -fa 'Monospace' -fs 14 &"
   ]
  }
 ],
 "metadata": {
  "kernelspec": {
   "display_name": "Bash",
   "language": "bash",
   "name": "bash"
  },
  "language_info": {
   "codemirror_mode": "shell",
   "file_extension": ".sh",
   "mimetype": "text/x-sh",
   "name": "bash"
  }
 },
 "nbformat": 4,
 "nbformat_minor": 4
}
