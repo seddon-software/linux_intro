{
 "cells": [
  {
   "cell_type": "markdown",
   "metadata": {},
   "source": [
    "<div style=\"color:red;background-color:black\">\n",
    "Diamond Light Source\n",
    "\n",
    "<h1 style=\"color:red;background-color:antiquewhite\"> Linux Introduction: Basic Commands</h1>  \n",
    "\n",
    "©2000-22 Chris Seddon \n",
    "</div>"
   ]
  },
  {
   "cell_type": "markdown",
   "metadata": {},
   "source": [
    "In this tutorial we will look at some basic Linux commands:\n",
    "<pre>\n",
    "ls            list directory \n",
    "pwd           print working directory\n",
    "cd            change directory\n",
    "mkdir         make (create) directory\n",
    "mv            move or rename files and directories\n",
    "cp            copy files and directories\n",
    "rm            remove (delete) files and directories\n",
    "</pre>"
   ]
  },
  {
   "cell_type": "markdown",
   "metadata": {},
   "source": [
    "## ls\n",
    "After logging in, you will want to find out what files exist in your home directory using the `ls` command:"
   ]
  },
  {
   "cell_type": "code",
   "execution_count": 1,
   "metadata": {},
   "outputs": [
    {
     "name": "stdout",
     "output_type": "stream",
     "text": [
      "'01 Basic Commands.ipynb'\t  '09 Regular Expressions.ipynb'\n",
      "'02 Paths.ipynb'\t\t  '10 Utilities.ipynb'\n",
      "'03 Wildcards.ipynb'\t\t  '11 Special Permissions.ipynb'\n",
      "'04 Your Environment.ipynb'\t  '12 Networking.ipynb'\n",
      "'05 Permissions.ipynb'\t\t  '13 Shell Programming Part 1.ipynb'\n",
      "'06 Links.ipynb'\t\t  '14 Shell Programming Part 2.ipynb'\n",
      "'07 Pipes and Redirection.ipynb'   GETTING_STARTED\n",
      "'08 Job Control.ipynb'\t\t   resources\n"
     ]
    }
   ],
   "source": [
    "ls"
   ]
  },
  {
   "cell_type": "markdown",
   "metadata": {},
   "source": [
    "To get more information, `ls` has a number of options.  The `-l` option gives a <em>long</em> listing:"
   ]
  },
  {
   "cell_type": "code",
   "execution_count": 2,
   "metadata": {},
   "outputs": [
    {
     "name": "stdout",
     "output_type": "stream",
     "text": [
      "total 180\n",
      "-rw-r--r-- 1 chris chris 15844 May 30 19:23 '01 Basic Commands.ipynb'\n",
      "-rw-r--r-- 1 chris chris  6042 May 13 17:13 '02 Paths.ipynb'\n",
      "-rw-r--r-- 1 chris chris  4834 Feb 20  2021 '03 Wildcards.ipynb'\n",
      "-rw-r--r-- 1 chris chris 12335 Feb 20  2021 '04 Your Environment.ipynb'\n",
      "-rw-r--r-- 1 chris chris 10678 Apr  6  2021 '05 Permissions.ipynb'\n",
      "-rw-r--r-- 1 chris chris  7596 Feb 20  2021 '06 Links.ipynb'\n",
      "-rw-r--r-- 1 chris chris  7418 Feb 20  2021 '07 Pipes and Redirection.ipynb'\n",
      "-rw-r--r-- 1 chris chris 13100 Feb 20  2021 '08 Job Control.ipynb'\n",
      "-rw-r--r-- 1 chris chris 13160 Feb 20  2021 '09 Regular Expressions.ipynb'\n",
      "-rw-r--r-- 1 chris chris 13830 Feb 20  2021 '10 Utilities.ipynb'\n",
      "-rw-r--r-- 1 chris chris  5661 Feb 20  2021 '11 Special Permissions.ipynb'\n",
      "-rw-r--r-- 1 chris chris 12157 Apr  8  2021 '12 Networking.ipynb'\n",
      "-rw-r--r-- 1 chris chris 10484 Feb 20  2021 '13 Shell Programming Part 1.ipynb'\n",
      "-rw-r--r-- 1 chris chris 15205 Feb 20  2021 '14 Shell Programming Part 2.ipynb'\n",
      "-rw-r--r-- 1 chris chris  1027 Mar 29  2021  GETTING_STARTED\n",
      "drwxr-xr-x 3 chris chris  4096 Feb 20  2021  resources\n"
     ]
    }
   ],
   "source": [
    "ls -l"
   ]
  },
  {
   "cell_type": "markdown",
   "metadata": {},
   "source": [
    "Notice the file permissions at the start of each line.  If the permissions start with a '-' this indicates a regular file.  If they start with a 'd' then this is a directory.  Other file types exist.  \n",
    "\n",
    "Linux has a convention that 'hidden' files begin with a `.`.  Hidden files are used for admin purposes and are normally not shown.  However, you can see these files using the `-a` option:"
   ]
  },
  {
   "cell_type": "code",
   "execution_count": 3,
   "metadata": {},
   "outputs": [
    {
     "name": "stdout",
     "output_type": "stream",
     "text": [
      "total 200\n",
      "drwxr-xr-x  5 chris chris  4096 May 30 19:23  .\n",
      "drwxr-xr-x 17 chris chris  4096 May 24 16:56  ..\n",
      "-rw-r--r--  1 chris chris 15844 May 30 19:23 '01 Basic Commands.ipynb'\n",
      "-rw-r--r--  1 chris chris  6042 May 13 17:13 '02 Paths.ipynb'\n",
      "-rw-r--r--  1 chris chris  4834 Feb 20  2021 '03 Wildcards.ipynb'\n",
      "-rw-r--r--  1 chris chris 12335 Feb 20  2021 '04 Your Environment.ipynb'\n",
      "-rw-r--r--  1 chris chris 10678 Apr  6  2021 '05 Permissions.ipynb'\n",
      "-rw-r--r--  1 chris chris  7596 Feb 20  2021 '06 Links.ipynb'\n",
      "-rw-r--r--  1 chris chris  7418 Feb 20  2021 '07 Pipes and Redirection.ipynb'\n",
      "-rw-r--r--  1 chris chris 13100 Feb 20  2021 '08 Job Control.ipynb'\n",
      "-rw-r--r--  1 chris chris 13160 Feb 20  2021 '09 Regular Expressions.ipynb'\n",
      "-rw-r--r--  1 chris chris 13830 Feb 20  2021 '10 Utilities.ipynb'\n",
      "-rw-r--r--  1 chris chris  5661 Feb 20  2021 '11 Special Permissions.ipynb'\n",
      "-rw-r--r--  1 chris chris 12157 Apr  8  2021 '12 Networking.ipynb'\n",
      "-rw-r--r--  1 chris chris 10484 Feb 20  2021 '13 Shell Programming Part 1.ipynb'\n",
      "-rw-r--r--  1 chris chris 15205 Feb 20  2021 '14 Shell Programming Part 2.ipynb'\n",
      "-rw-r--r--  1 chris chris  1027 Mar 29  2021  GETTING_STARTED\n",
      "drwxr-xr-x  8 chris chris  4096 Apr  6  2021  .git\n",
      "-rw-r--r--  1 chris chris    34 Feb 15  2021  .gitignore\n",
      "drwxr-xr-x  2 chris chris  4096 May 13 17:13  .ipynb_checkpoints\n",
      "drwxr-xr-x  3 chris chris  4096 Feb 20  2021  resources\n"
     ]
    }
   ],
   "source": [
    "ls -al"
   ]
  },
  {
   "cell_type": "markdown",
   "metadata": {},
   "source": [
    "The '.' and '..' directory files are special and refer to the current directory and its parent directory respectively."
   ]
  },
  {
   "cell_type": "markdown",
   "metadata": {},
   "source": [
    "## pwd\n",
    "To see where you are in the directory hierarchy use the 'pwd' command.  This stands for 'Print Working Directory':"
   ]
  },
  {
   "cell_type": "code",
   "execution_count": 4,
   "metadata": {},
   "outputs": [
    {
     "name": "stdout",
     "output_type": "stream",
     "text": [
      "/home/chris/home/workspace/linux_intro\n"
     ]
    }
   ],
   "source": [
    "pwd"
   ]
  },
  {
   "cell_type": "markdown",
   "metadata": {},
   "source": [
    "You are probably in your home directory.  This is a subdirectory of the '/home' directory indicated by your Fed-Id.  You can always return to your home directory with the `cd` command:\n"
   ]
  },
  {
   "cell_type": "code",
   "execution_count": 5,
   "metadata": {},
   "outputs": [
    {
     "name": "stdout",
     "output_type": "stream",
     "text": [
      "/home/chris\n"
     ]
    }
   ],
   "source": [
    "cd\n",
    "pwd"
   ]
  },
  {
   "cell_type": "markdown",
   "metadata": {},
   "source": [
    "You can create other directories under your home directory.  To create a new directory:"
   ]
  },
  {
   "cell_type": "code",
   "execution_count": 6,
   "metadata": {},
   "outputs": [
    {
     "name": "stdout",
     "output_type": "stream",
     "text": [
      "mkdir: cannot create directory ‘basic’: File exists\n"
     ]
    },
    {
     "ename": "",
     "evalue": "1",
     "output_type": "error",
     "traceback": []
    }
   ],
   "source": [
    "mkdir basic"
   ]
  },
  {
   "cell_type": "markdown",
   "metadata": {},
   "source": [
    "and to access this directory:"
   ]
  },
  {
   "cell_type": "code",
   "execution_count": 9,
   "metadata": {},
   "outputs": [
    {
     "name": "stdout",
     "output_type": "stream",
     "text": [
      "\u001b[?2004l\r",
      "\u001b[?2004h"
     ]
    },
    {
     "ename": "",
     "evalue": "1",
     "output_type": "error",
     "traceback": []
    }
   ],
   "source": [
    "cd basic"
   ]
  },
  {
   "cell_type": "markdown",
   "metadata": {},
   "source": [
    "You can now create files in this directory.  \n",
    "\n",
    "You would normally do this using an editor like `vim`.  However for this tutorial we will take a shortcut and create file using the `echo` command.  This will only allow us to create files with limited content, so it is not recommended for normal use, but will suffice here."
   ]
  },
  {
   "cell_type": "code",
   "execution_count": 10,
   "metadata": {},
   "outputs": [
    {
     "name": "stdout",
     "output_type": "stream",
     "text": [
      "total 8h\u001b[?2004l\u001b[?2004l\n",
      "-rw-rw-r-- 1 chris chris 22 May 30 19:16 file1\n",
      "-rw-rw-r-- 1 chris chris 21 May 30 19:16 file2\n",
      "\u001b[?2004h"
     ]
    },
    {
     "ename": "",
     "evalue": "1",
     "output_type": "error",
     "traceback": []
    }
   ],
   "source": [
    "echo \"This is my first file\" > file1\n",
    "echo \"This is another file\" > file2\n",
    "ls -l"
   ]
  },
  {
   "cell_type": "markdown",
   "metadata": {},
   "source": [
    "## cat\n",
    "To see the contents of these files, use `cat`:"
   ]
  },
  {
   "cell_type": "code",
   "execution_count": 11,
   "metadata": {},
   "outputs": [
    {
     "name": "stdout",
     "output_type": "stream",
     "text": [
      "This is my first file\n",
      "\u001b[?2004h"
     ]
    },
    {
     "ename": "",
     "evalue": "1",
     "output_type": "error",
     "traceback": []
    }
   ],
   "source": [
    "cat file1"
   ]
  },
  {
   "cell_type": "code",
   "execution_count": 12,
   "metadata": {},
   "outputs": [
    {
     "name": "stdout",
     "output_type": "stream",
     "text": [
      "This is another file\n",
      "\u001b[?2004h"
     ]
    },
    {
     "ename": "",
     "evalue": "1",
     "output_type": "error",
     "traceback": []
    }
   ],
   "source": [
    "cat file2"
   ]
  },
  {
   "cell_type": "markdown",
   "metadata": {},
   "source": [
    "## mv\n",
    "To rename a file use `mv`.  This command is also used to move a file between directories, hence the name.  Its rather confusing that its used for renaming as well:"
   ]
  },
  {
   "cell_type": "code",
   "execution_count": 13,
   "metadata": {},
   "outputs": [
    {
     "name": "stdout",
     "output_type": "stream",
     "text": [
      "total 8h\u001b[?2004l\n",
      "-rw-rw-r-- 1 chris chris 22 May 30 19:16 different_name\n",
      "-rw-rw-r-- 1 chris chris 21 May 30 19:16 file2\n",
      "\u001b[?2004h"
     ]
    },
    {
     "ename": "",
     "evalue": "1",
     "output_type": "error",
     "traceback": []
    }
   ],
   "source": [
    "mv file1 different_name\n",
    "ls -l"
   ]
  },
  {
   "cell_type": "markdown",
   "metadata": {},
   "source": [
    "## cp\n",
    "To copy a file use the `cp` command:"
   ]
  },
  {
   "cell_type": "code",
   "execution_count": 14,
   "metadata": {},
   "outputs": [
    {
     "name": "stdout",
     "output_type": "stream",
     "text": [
      "total 12\u001b[?2004l\n",
      "-rw-rw-r-- 1 chris chris 22 May 30 19:16 different_name\n",
      "-rw-rw-r-- 1 chris chris 21 May 30 19:16 file2\n",
      "-rw-rw-r-- 1 chris chris 21 May 30 19:16 file3\n",
      "\u001b[?2004h"
     ]
    },
    {
     "ename": "",
     "evalue": "1",
     "output_type": "error",
     "traceback": []
    }
   ],
   "source": [
    "cp file2 file3\n",
    "ls -l"
   ]
  },
  {
   "cell_type": "markdown",
   "metadata": {},
   "source": [
    "## rm\n",
    "To delete a file use `rm`:"
   ]
  },
  {
   "cell_type": "code",
   "execution_count": 15,
   "metadata": {},
   "outputs": [
    {
     "name": "stdout",
     "output_type": "stream",
     "text": [
      "total 8h\u001b[?2004l\n",
      "-rw-rw-r-- 1 chris chris 22 May 30 19:16 different_name\n",
      "-rw-rw-r-- 1 chris chris 21 May 30 19:16 file3\n",
      "\u001b[?2004h"
     ]
    },
    {
     "ename": "",
     "evalue": "1",
     "output_type": "error",
     "traceback": []
    }
   ],
   "source": [
    "rm file2\n",
    "ls -l"
   ]
  },
  {
   "cell_type": "markdown",
   "metadata": {},
   "source": [
    "## cd\n",
    "The `cd` command allows you to navigate the filesystem.  If we use it in conjuction with `pwd` you can see how this works:"
   ]
  },
  {
   "cell_type": "code",
   "execution_count": 16,
   "metadata": {},
   "outputs": [
    {
     "name": "stdout",
     "output_type": "stream",
     "text": [
      "/home/chris/basic\n",
      "/home/chris2004l\u001b[?2004l\n",
      "\u001b[?2004h"
     ]
    },
    {
     "ename": "",
     "evalue": "1",
     "output_type": "error",
     "traceback": []
    }
   ],
   "source": [
    "pwd\n",
    "cd ..\n",
    "pwd"
   ]
  },
  {
   "cell_type": "markdown",
   "metadata": {},
   "source": [
    "So '..' takes you up one directory"
   ]
  },
  {
   "cell_type": "code",
   "execution_count": null,
   "metadata": {},
   "outputs": [],
   "source": [
    "pwd\n",
    "cd /\n",
    "pwd"
   ]
  },
  {
   "cell_type": "markdown",
   "metadata": {},
   "source": [
    "This takes you to the top of the filesystem, often refered to as 'root'.  \n",
    "\n",
    "Let's see what's in the root directory:"
   ]
  },
  {
   "cell_type": "code",
   "execution_count": null,
   "metadata": {},
   "outputs": [],
   "source": [
    "ls -l"
   ]
  },
  {
   "cell_type": "markdown",
   "metadata": {},
   "source": [
    "There are many subdirectories under the root directory.  Of special interest are /dls and /dls_sw.  These directories contain Diamond specific files.  Take a look at the contents of /dls first:"
   ]
  },
  {
   "cell_type": "code",
   "execution_count": null,
   "metadata": {},
   "outputs": [],
   "source": [
    "ls dls"
   ]
  },
  {
   "cell_type": "markdown",
   "metadata": {},
   "source": [
    "This folder contains files for beamlines.\n",
    "Note you can use 'ls' to look at the files in a subdiectory without 'cd'ing to that directory.\n",
    "Probing a bit deeper we can see all the beamline data files:"
   ]
  },
  {
   "cell_type": "code",
   "execution_count": null,
   "metadata": {},
   "outputs": [],
   "source": [
    "ls -l /dls/i22/data"
   ]
  },
  {
   "cell_type": "markdown",
   "metadata": {},
   "source": [
    "Next we look at /dls_sw:"
   ]
  },
  {
   "cell_type": "code",
   "execution_count": null,
   "metadata": {},
   "outputs": [],
   "source": [
    "ls -l /dls_sw/i22"
   ]
  },
  {
   "cell_type": "markdown",
   "metadata": {},
   "source": [
    "This contains software used on the beamline."
   ]
  },
  {
   "cell_type": "markdown",
   "metadata": {},
   "source": [
    "To complete this short tutorial, we will remove the files we created:"
   ]
  },
  {
   "cell_type": "code",
   "execution_count": null,
   "metadata": {},
   "outputs": [],
   "source": [
    "cd\n",
    "rm -rf basic"
   ]
  }
 ],
 "metadata": {
  "kernelspec": {
   "display_name": "Bash",
   "language": "bash",
   "name": "bash"
  },
  "language_info": {
   "codemirror_mode": "shell",
   "file_extension": ".sh",
   "mimetype": "text/x-sh",
   "name": "bash"
  }
 },
 "nbformat": 4,
 "nbformat_minor": 2
}
