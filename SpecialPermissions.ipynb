{
 "cells": [
  {
   "cell_type": "markdown",
   "metadata": {},
   "source": [
    "# Special Permissions"
   ]
  },
  {
   "cell_type": "markdown",
   "metadata": {},
   "source": [
    "Suppose we wish to change our password.  Let's take a look at the system password file and see if we have permission to do so."
   ]
  },
  {
   "cell_type": "code",
   "execution_count": 3,
   "metadata": {},
   "outputs": [
    {
     "name": "stdout",
     "output_type": "stream",
     "text": [
      "-rw-r--r--. 1 root root 2801 Jun  3  2019 /etc/passwd\r\n"
     ]
    }
   ],
   "source": [
    "ls -l /etc/passwd"
   ]
  },
  {
   "cell_type": "markdown",
   "metadata": {},
   "source": [
    "We are not 'root' and we are not in the 'root' group, so the last three permissions apply to us:\n",
    "    r--\n",
    "That means we only have read permission.  So we can look at the file, but can't edit the file to change our password.  Let's see what's in the file:"
   ]
  },
  {
   "cell_type": "code",
   "execution_count": 4,
   "metadata": {},
   "outputs": [
    {
     "name": "stdout",
     "output_type": "stream",
     "text": [
      "root:x:0:0:root:/root:/bin/bash\r\n",
      "bin:x:1:1:bin:/bin:/sbin/nologin\r\n",
      "daemon:x:2:2:daemon:/sbin:/sbin/nologin\r\n",
      "adm:x:3:4:adm:/var/adm:/sbin/nologin\r\n",
      "lp:x:4:7:lp:/var/spool/lpd:/sbin/nologin\r\n",
      "sync:x:5:0:sync:/sbin:/bin/sync\r\n",
      "shutdown:x:6:0:shutdown:/sbin:/sbin/shutdown\r\n",
      "halt:x:7:0:halt:/sbin:/sbin/halt\r\n",
      "mail:x:8:12:mail:/var/spool/mail:/sbin/nologin\r\n",
      "operator:x:11:0:operator:/root:/sbin/nologin\r\n",
      "games:x:12:100:games:/usr/games:/sbin/nologin\r\n",
      "ftp:x:14:50:FTP User:/var/ftp:/sbin/nologin\r\n",
      "nobody:x:99:99:Nobody:/:/sbin/nologin\r\n",
      "pegasus:x:66:65:tog-pegasus OpenPegasus WBEM/CIM services:/var/lib/Pegasus:/sbin/nologin\r\n",
      "systemd-network:x:192:192:systemd Network Management:/:/sbin/nologin\r\n",
      "dbus:x:81:81:System message bus:/:/sbin/nologin\r\n",
      "polkitd:x:999:998:User for polkitd:/:/sbin/nologin\r\n",
      "unbound:x:998:995:Unbound DNS resolver:/etc/unbound:/sbin/nologin\r\n",
      "saslauth:x:997:76:Saslauthd user:/run/saslauthd:/sbin/nologin\r\n",
      "libstoragemgmt:x:996:994:daemon account for libstoragemgmt:/var/run/lsm:/sbin/nologin\r\n",
      "rpc:x:32:32:Rpcbind Daemon:/var/lib/rpcbind:/sbin/nologin\r\n",
      "postfix:x:89:89::/var/spool/postfix:/sbin/nologin\r\n",
      "colord:x:995:993:User for colord:/var/lib/colord:/sbin/nologin\r\n",
      "gluster:x:994:992:GlusterFS daemons:/var/run/gluster:/sbin/nologin\r\n",
      "abrt:x:173:173::/etc/abrt:/sbin/nologin\r\n",
      "setroubleshoot:x:993:990::/var/lib/setroubleshoot:/sbin/nologin\r\n",
      "rtkit:x:172:172:RealtimeKit:/proc:/sbin/nologin\r\n",
      "nscd:x:28:28:NSCD Daemon:/:/sbin/nologin\r\n",
      "chrony:x:992:989::/var/lib/chrony:/sbin/nologin\r\n",
      "qemu:x:107:107:qemu user:/:/sbin/nologin\r\n",
      "radvd:x:75:75:radvd user:/:/sbin/nologin\r\n",
      "apache:x:48:48:Apache:/usr/share/httpd:/sbin/nologin\r\n",
      "ntp:x:38:38::/etc/ntp:/sbin/nologin\r\n",
      "mysql:x:27:27:MariaDB Server:/var/lib/mysql:/sbin/nologin\r\n",
      "tss:x:59:59:Account used by the trousers package to sandbox the tcsd daemon:/dev/null:/sbin/nologin\r\n",
      "usbmuxd:x:113:113:usbmuxd user:/:/sbin/nologin\r\n",
      "geoclue:x:991:987:User for geoclue:/var/lib/geoclue:/sbin/nologin\r\n",
      "sssd:x:990:986:User for sssd:/:/sbin/nologin\r\n",
      "pulse:x:171:171:PulseAudio System Daemon:/var/run/pulse:/sbin/nologin\r\n",
      "rpcuser:x:29:29:RPC Service User:/var/lib/nfs:/sbin/nologin\r\n",
      "nfsnobody:x:65534:65534:Anonymous NFS User:/var/lib/nfs:/sbin/nologin\r\n",
      "gdm:x:42:42::/var/lib/gdm:/sbin/nologin\r\n",
      "pcp:x:989:983:Performance Co-Pilot:/var/lib/pcp:/sbin/nologin\r\n",
      "gnome-initial-setup:x:988:982::/run/gnome-initial-setup/:/sbin/nologin\r\n",
      "nslcd:x:65:55:LDAP Client User:/:/sbin/nologin\r\n",
      "sshd:x:74:74:Privilege-separated SSH:/var/empty/sshd:/sbin/nologin\r\n",
      "arpwatch:x:77:77::/var/lib/arpwatch:/sbin/nologin\r\n",
      "avahi:x:70:70:Avahi mDNS/DNS-SD Stack:/var/run/avahi-daemon:/sbin/nologin\r\n",
      "oprofile:x:16:16:Special user account to be used by OProfile:/var/lib/oprofile:/sbin/nologin\r\n",
      "tcpdump:x:72:72::/:/sbin/nologin\r\n",
      "saned:x:986:980:SANE scanner daemon user:/usr/share/sane:/sbin/nologin\r\n",
      "nx:x:985:1000::/var/NX/nx:/etc/NX/nxserver\r\n"
     ]
    }
   ],
   "source": [
    "cat /etc/passwd"
   ]
  },
  {
   "cell_type": "markdown",
   "metadata": {},
   "source": [
    "The password used to be in field two, but now there is only an 'x'.  That's because the password has been moved to the shadow file:"
   ]
  },
  {
   "cell_type": "code",
   "execution_count": 6,
   "metadata": {},
   "outputs": [
    {
     "name": "stdout",
     "output_type": "stream",
     "text": [
      "----------. 1 root root 1333 Jun  3  2019 /etc/shadow\r\n"
     ]
    }
   ],
   "source": [
    "ls -l /etc/shadow"
   ]
  },
  {
   "cell_type": "markdown",
   "metadata": {},
   "source": [
    "We don't even have read permission on this file (for security reasons).  So how can we change our password?\n",
    "Linux employs a special mechanism to allow us to perform the change.  We can't edit the 'shadow' file directly, but we can use a program called 'passwd' to do it for us:"
   ]
  },
  {
   "cell_type": "code",
   "execution_count": 7,
   "metadata": {},
   "outputs": [
    {
     "name": "stdout",
     "output_type": "stream",
     "text": [
      "-rwsr-xr-x. 1 root root 27936 Mar 22  2019 \u001b[0m\u001b[37;41m/usr/bin/passwd\u001b[0m*\r\n"
     ]
    }
   ],
   "source": [
    "ls -l /usr/bin/passwd"
   ]
  },
  {
   "cell_type": "markdown",
   "metadata": {},
   "source": [
    "Note the first three permissions: rws.  The 's' stands for special permission.  A program with 's' permission is called a setuid program.  What it means is that anyone running this program will temporarily become root (the owner of the setuid program).  We know root has write access to the '/etc/passwd' file and hence we will be allowed to change our password with this program.  \n",
    "\n",
    "Linux has a concept of 'real' and 'effective' user ids.  By running a setuid program our 'real' userid doesn't change, but our 'effective' userid does.  Linux permissions are based on effective userid and not on real userid.  We say we impersonate 'root' while running this program.  \n",
    "\n",
    "The passwd program adds an extra level of security and will only allow us to change our own password; the program knows who we are because of our real userid."
   ]
  },
  {
   "cell_type": "markdown",
   "metadata": {},
   "source": [
    "Linux also defines a setgroupid program where an 's' is specified in the group permissions.  This works in the same way as the setuid, but applies to anyone in the group. The 's' permission allows the 'real' user to impersonate the owner of the program - in this case 'root'."
   ]
  },
  {
   "cell_type": "markdown",
   "metadata": {},
   "source": [
    "There is one othe special permission.  This is the sticky bit 't'.  This has nothing to do with the 's' permissions.  \n",
    "\n",
    "Consider the case where we are editing a file with 'vim'.  For large files 'vim' stores its working data in the directory: /var/temp.  \n",
    "\n",
    "However, since anyone can use 'vim', everyone needs write access to this directory:"
   ]
  },
  {
   "cell_type": "code",
   "execution_count": 9,
   "metadata": {},
   "outputs": [
    {
     "name": "stdout",
     "output_type": "stream",
     "text": [
      "drwxrwxrwt. 15 root root 4096 Feb 11 20:18 \u001b[0m\u001b[30;42m/var/tmp\u001b[0m/\r\n"
     ]
    }
   ],
   "source": [
    "ls -ld /var/tmp"
   ]
  },
  {
   "cell_type": "markdown",
   "metadata": {},
   "source": [
    "We can see we do have write access to this directory, so all is well.  However there is a problem with this scheme.  It was found that by giving everyone access to this folder it meant that malicious users could delete othe user's temporary data.  This used to happen a lot in a University environment, when students regarded this a a practical joke.  Clearly, this defect needs to be addressed.  \n",
    "\n",
    "Notice the 't' bit in the permissions for this directory.  This makes the directory 'sticky'.  In a sticky directory users are only allowed to delete their own files even though they write permission.  The 'sticky' bit effectively controls how the write permission works."
   ]
  },
  {
   "cell_type": "markdown",
   "metadata": {},
   "source": [
    "You might be wondering why the 't' bit is called the 'sticky' bit.  Well, in the early days of Unix the sticky bit was used to keep a program in memory (stick in memory).  If a program was stuck in memory it would run faster than other programs (they would be swapped out to disk when their time slice ended).  As Unix became more sophisticated this mechanism was replaced by paging in and out virtual memory and the 'sticky' bit was no longer required.  Since the 't' permission was available it was reassigned as above, but the name wasn't changed."
   ]
  }
 ],
 "metadata": {
  "kernelspec": {
   "display_name": "Python 3",
   "language": "python",
   "name": "python3"
  },
  "language_info": {
   "codemirror_mode": {
    "name": "ipython",
    "version": 3
   },
   "file_extension": ".py",
   "mimetype": "text/x-python",
   "name": "python",
   "nbconvert_exporter": "python",
   "pygments_lexer": "ipython3",
   "version": "3.7.1"
  }
 },
 "nbformat": 4,
 "nbformat_minor": 2
}
