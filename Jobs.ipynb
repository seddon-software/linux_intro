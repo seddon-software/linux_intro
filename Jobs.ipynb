{
 "cells": [
  {
   "cell_type": "markdown",
   "metadata": {},
   "source": [
    "<div style=\"color:red;background-color:black\">\n",
    "Diamond Light Source\n",
    "\n",
    "<h1 style=\"color:red;background-color:antiquewhite\"> Linux Introduction: Jobs</h1>  \n",
    "\n",
    "©2000-20 Chris Seddon \n",
    "</div>"
   ]
  },
  {
   "cell_type": "markdown",
   "metadata": {},
   "source": [
    "Run the \"ps\" command (process status) to see all jobs running on your machine."
   ]
  },
  {
   "cell_type": "code",
   "execution_count": null,
   "metadata": {},
   "outputs": [],
   "source": [
    "%%bash\n",
    "ps -ef"
   ]
  },
  {
   "cell_type": "markdown",
   "metadata": {},
   "source": [
    "The \"ps\" command has several columns.  To see them again we can use head:"
   ]
  },
  {
   "cell_type": "code",
   "execution_count": null,
   "metadata": {},
   "outputs": [],
   "source": [
    "%%bash\n",
    "ps -ef | head -1"
   ]
  },
  {
   "cell_type": "markdown",
   "metadata": {},
   "source": [
    "The columns are as follows: \n",
    "\n",
    "| Heading | Meaning |  \n",
    "|---:|:---:|  \n",
    "| UID | user id |\n",
    "| PID | process id |\n",
    "| PPID | parent process id|\n",
    "| C |  |\n",
    "| STIME | start time |\n",
    "| TTY | controlling terminal |\n",
    "| TIME | cpu time used |\n",
    "| CMD | command |"
   ]
  },
  {
   "cell_type": "markdown",
   "metadata": {},
   "source": [
    "Now run the following 3 commands in another terminal (recall that Jupyter notebook can't run commands in the background, so we can't do this in the notebook):  \n",
    "- xeyes&\n",
    "- xeyes&\n",
    "- xeyes&  \n",
    "\n",
    "and when you've finished, continue with this tutorial."
   ]
  },
  {
   "cell_type": "code",
   "execution_count": null,
   "metadata": {},
   "outputs": [],
   "source": [
    "%%bash\n",
    "ps -ef | grep xeyes"
   ]
  },
  {
   "cell_type": "markdown",
   "metadata": {},
   "source": [
    "By using grep we can see just the commands we are interested in.  Alternatively, we can use \"pgrep\":"
   ]
  },
  {
   "cell_type": "code",
   "execution_count": null,
   "metadata": {
    "scrolled": true
   },
   "outputs": [],
   "source": [
    "%%bash\n",
    "pgrep -l xeyes"
   ]
  },
  {
   "cell_type": "markdown",
   "metadata": {},
   "source": [
    "You can kill multiple commands by name with \"killall\":"
   ]
  },
  {
   "cell_type": "code",
   "execution_count": null,
   "metadata": {},
   "outputs": [],
   "source": [
    "%%bash\n",
    "pkill xeyes\n",
    "ps -ef | grep xeyes"
   ]
  },
  {
   "cell_type": "markdown",
   "metadata": {},
   "source": [
    "\"ps\" confirms the xeyes commands have been terminated.  Note \"ps\" still lists the grep command used in the pipeline.  To avoid that run the 3 xeyes programs again in a separate terminal and then try:"
   ]
  },
  {
   "cell_type": "code",
   "execution_count": null,
   "metadata": {},
   "outputs": [],
   "source": [
    "!ps -ef | grep [x]eyes"
   ]
  },
  {
   "cell_type": "markdown",
   "metadata": {},
   "source": [
    "This works because \"[x]eyes\" is a regualar expression and pattern matches xeyes, but doesn't pattern match itself because of the brackets."
   ]
  }
 ],
 "metadata": {
  "kernelspec": {
   "display_name": "Bash",
   "language": "bash",
   "name": "bash"
  },
  "language_info": {
   "codemirror_mode": "shell",
   "file_extension": ".sh",
   "mimetype": "text/x-sh",
   "name": "bash"
  }
 },
 "nbformat": 4,
 "nbformat_minor": 2
}
