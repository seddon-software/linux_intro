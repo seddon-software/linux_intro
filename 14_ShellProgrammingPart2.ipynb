{
 "cells": [
  {
   "cell_type": "markdown",
   "metadata": {},
   "source": [
    "<div style=\"color:red;background-color:black\">\n",
    "Diamond Light Source\n",
    "\n",
    "<h1 style=\"color:red;background-color:antiquewhite\"> Linux Introduction: Shell Programming Part 2</h1>  \n",
    "\n",
    "©2000-21 Chris Seddon \n",
    "</div>"
   ]
  },
  {
   "cell_type": "markdown",
   "metadata": {},
   "source": [
    "The `bash` shell, in addition to being a command interpreter, allows you to write programs in the `bash` language.  This tutorial looks at a number of examples of `bash` program scripts.\n",
    "\n",
    "As before, I've created a number of scripts for you already in the `resources/more-scripts` folder.  Let's create a directory for our work:"
   ]
  },
  {
   "cell_type": "code",
   "execution_count": null,
   "metadata": {},
   "outputs": [],
   "source": [
    "mkdir -p more-scripts\n",
    "cd more-scripts"
   ]
  },
  {
   "cell_type": "markdown",
   "metadata": {},
   "source": [
    "Let's start with using the `if` statement in `bash`:"
   ]
  },
  {
   "cell_type": "code",
   "execution_count": null,
   "metadata": {},
   "outputs": [],
   "source": [
    "#! /bin/bash\n",
    "\n",
    "number=5\n",
    "\n",
    "if [ $number -eq 5 ]\n",
    "then\n",
    "    echo \"number equals 5\"\n",
    "fi"
   ]
  },
  {
   "cell_type": "markdown",
   "metadata": {},
   "source": [
    "Notice the syntax of the `if` statement is:\n",
    "<pre>\n",
    "if [ condition ]\n",
    "then\n",
    "    statements\n",
    "fi\n",
    "</pre>\n",
    "One thing to remember about `bash` is that it is exceedingly fussy about the use of spaces.  If you put a space in\n",
    "<pre>\n",
    "number=5\n",
    "</pre>\n",
    "the script will fail.  However if you <b>don't</b> put the spaces in:\n",
    "<pre>\n",
    "if [ $number -eq 5 ]\n",
    "</pre>\n",
    "that will also cause the script to fail.  Furthermore you have to put the `then` and `fi` clauses on separate lines.  \n",
    "\n",
    "The `bash` interpreter code was written long ago for earlier interpreters, when compilers and interpreters were in their infancy and lacks the sophistication of modern languages.  \n",
    "\n",
    "`bash` is also fussy about comparison operators.  Notice the use of `-eq` in the condition.  It turns out you must use `-eq` when comparing integers, but use `=` when comparing strings, as in the following example.\n",
    "\n",
    "However, before continuing I should point out that with `bash` shell variables you have to prepend the variable with a `$` when you want to get its value, but you mustn't use the `$` when setting the variable.  Note in the above script:\n",
    "<pre>\n",
    "number=5\n",
    "</pre>\n",
    "has no `$` because we are setting the variable, but\n",
    "<pre>\n",
    "if [ $number -eq 5 ]\n",
    "</pre>\n",
    "does have a `$` because we are getting its value.\n",
    "\n",
    "Let's get back to comparing strings:"
   ]
  },
  {
   "cell_type": "code",
   "execution_count": null,
   "metadata": {},
   "outputs": [],
   "source": [
    "#! /bin/bash\n",
    "\n",
    "day=Monday\n",
    "\n",
    "if [ $day = \"Monday\" ]\n",
    "then\n",
    "    echo \"$day\"\n",
    "fi"
   ]
  },
  {
   "cell_type": "markdown",
   "metadata": {},
   "source": [
    "`if` statements can have `else` clauses.  Again, be careful to put the keywords on seperate lines.  The indentation is just to make the code look nice and is not mandatory."
   ]
  },
  {
   "cell_type": "code",
   "execution_count": null,
   "metadata": {},
   "outputs": [],
   "source": [
    "#! /bin/bash\n",
    "\n",
    "number=50\n",
    "\n",
    "if [ $number -eq 5 ]\n",
    "then\n",
    "    echo \"number equals 5\"\n",
    "else\n",
    "    echo \"number is not equal to 5\"\n",
    "fi"
   ]
  },
  {
   "cell_type": "markdown",
   "metadata": {},
   "source": [
    "`bash` also supports nested `if` stements using the `elif` keyword.  \n",
    "\n",
    "The `declare` keyword can be used to declare `integers` and `arrays`.  Its use is not enforced, but helps the interpreter check your code for correctness."
   ]
  },
  {
   "cell_type": "code",
   "execution_count": null,
   "metadata": {},
   "outputs": [],
   "source": [
    "#! /bin/bash\n",
    "\n",
    "declare -i number=5\n",
    "\n",
    "if [ $number -lt 5 ]\n",
    "then\n",
    "    echo \"number is less than 5\"\n",
    "elif [ $number -lt 10 ]\n",
    "then\n",
    "    echo \"number is between 5 and 9\"\n",
    "fi"
   ]
  },
  {
   "cell_type": "markdown",
   "metadata": {},
   "source": [
    "If an `if` stement has many clauses its usually better to use a `case` statement:"
   ]
  },
  {
   "cell_type": "code",
   "execution_count": null,
   "metadata": {},
   "outputs": [],
   "source": [
    "#! /bin/bash\n",
    "\n",
    "day=\"Wed\"\n",
    "\n",
    "case $day in\n",
    "    Mon) echo \"Monday\";;\n",
    "    Tue) echo \"Tuesday\";;\n",
    "    Wed) echo \"Wednesday\";;\n",
    "    Thu) echo \"Thursday\";;\n",
    "    Fri) echo \"Friday\";;\n",
    "    Sat|Sun) echo \"Weekend\";;\n",
    "esac"
   ]
  },
  {
   "cell_type": "markdown",
   "metadata": {},
   "source": [
    "Note the double `;;` in the above script.  This was inflenced by how things are written in C.  \n",
    "\n",
    "Next, let;s see how to write loops:"
   ]
  },
  {
   "cell_type": "code",
   "execution_count": null,
   "metadata": {},
   "outputs": [],
   "source": [
    "for x in 1 3 5 7 9\n",
    "do\n",
    "    echo $x\n",
    "done"
   ]
  },
  {
   "cell_type": "markdown",
   "metadata": {},
   "source": [
    "In the above, the variable `x` takes on successive values of 1, 3, 5, 7 and 9 as we traverse the loop.  \n",
    "\n",
    "Note that using `echo` doesn't give much control over the output format.  It is often better to use `printf`:"
   ]
  },
  {
   "cell_type": "code",
   "execution_count": null,
   "metadata": {},
   "outputs": [],
   "source": [
    "for x in 1 3 5 7 9\n",
    "do\n",
    "    printf \"%-3i\" $x\n",
    "done"
   ]
  },
  {
   "cell_type": "markdown",
   "metadata": {},
   "source": [
    "`printf` is using integer format, 3 characters wide (hence the 2 spaces in each ouput).  Unlike `echo`, `printf` doesn't print a newline unless you explicity request one.  \n",
    "\n",
    "We can also work with floating point numbers (6 characters wide including the decimal point and to 2 decimal places):"
   ]
  },
  {
   "cell_type": "code",
   "execution_count": null,
   "metadata": {},
   "outputs": [],
   "source": [
    "for x in 0.4567 1.5678 2.6789\n",
    "do\n",
    "    printf \"%-6.2f\\n\" $x\n",
    "done"
   ]
  },
  {
   "cell_type": "markdown",
   "metadata": {},
   "source": [
    "`bash` also allows a \"C\" style `for` loop:"
   ]
  },
  {
   "cell_type": "code",
   "execution_count": null,
   "metadata": {},
   "outputs": [],
   "source": [
    "#! /bin/bash\n",
    "\n",
    "for (( n = 1; n <= 10; n++ ))\n",
    "do\n",
    "    printf \"%-i,\" $n\n",
    "done"
   ]
  },
  {
   "cell_type": "markdown",
   "metadata": {},
   "source": [
    "You  can also use a `while` loop.  However this code needs some explanation.  \n",
    "\n",
    "Inside the loop we change the value of `number` with the line:\n",
    "<pre>\n",
    "number=$(( $number + 1 ))\n",
    "</pre>\n",
    "Recall that you mustn't use spaces around `=`.  However you can use spaces inside pairs of double brackets `((  ))`.  `$number + 1` adds one to `number` and creates a temporary result variable which is then assigned back into number.  Since you are getting the value of the temporary result, you need the extra `$` outside the brackets.  Very messy! "
   ]
  },
  {
   "cell_type": "code",
   "execution_count": null,
   "metadata": {},
   "outputs": [],
   "source": [
    "#! /bin/bash\n",
    "\n",
    "number=0\n",
    "\n",
    "while [ $number -ne 10 ]\n",
    "do\n",
    "    number=$(( $number + 1 ))\n",
    "    printf \"%-i,\" $number\n",
    "done"
   ]
  },
  {
   "cell_type": "raw",
   "metadata": {},
   "source": [
    "And as if the above forms were not enough, there is also an `until` loop:"
   ]
  },
  {
   "cell_type": "code",
   "execution_count": null,
   "metadata": {},
   "outputs": [],
   "source": [
    "#! /bin/bash\n",
    "\n",
    "number=0\n",
    "\n",
    "until [ $number -eq 10 ]\n",
    "do\n",
    "    number=$(( $number + 1 ))\n",
    "    printf \"%-i,\" $number\n",
    "done"
   ]
  },
  {
   "cell_type": "markdown",
   "metadata": {},
   "source": [
    "Before `bash` we had other Unix command interpreters such as `sh` and `csh`.  These interpreters were not capable of performing all but the simplest arithmetic operations.  Later shells, like `ksh` <b>partially</b> remidied that.  `bash` continues this theme.  \n",
    "\n",
    "Unfortunately, <b>`bash` can only perform integer arithmetic</b>. If we want to perform arithmetic involving a floating point or fractional values, we have to use utilities, such as `awk`, `bc`, `perl` and `python`.\n",
    "\n",
    "There follows an example of calculating powers of numbers.\n",
    "\n",
    "Integer operations must be performed inside double brackets `(( ... ))`.  Notice too, that inside these brackets we don't use `$` when getting the values of variables.  Thus\n",
    "<pre>\n",
    "(( cube   = number * number * number ))\n",
    "</pre>\n",
    "assigns a value to `cube`.  The brackets have the by-product of preventing the shell interpreting the `*` as a wildcard and instead it is treated as multiplication."
   ]
  },
  {
   "cell_type": "code",
   "execution_count": null,
   "metadata": {},
   "outputs": [],
   "source": [
    "#! /bin/bash\n",
    "# declare integers\n",
    "    typeset -i number square cube\n",
    "# initialise\n",
    "    (( number = 0 ))\n",
    "# loop 10 times\n",
    "    while (( number <= 10 ))\n",
    "    do\n",
    "        (( number = number + 1 ))        # increment number\n",
    "        (( square = number * number ))\n",
    "        (( cube   = number * number * number ))\n",
    "        printf \"%-6i%-6i%-6i\\n\" $number $square $cube\n",
    "    done"
   ]
  },
  {
   "cell_type": "markdown",
   "metadata": {},
   "source": [
    "An important concept in `bash` programming is running in a subshell.  \n",
    "\n",
    "We can run any command in a subshell by using `$(command)`.  To make this useful, the command should produce some output.  This output is then usually assigned to a shell variable using the syntax:\n",
    "\n",
    "<pre>\n",
    "variable=$( subshell command producing stdout )\n",
    "</pre>\n",
    "\n",
    "Note: you can use backquotes instead of `$(..)`.  Thus these are equivalent:\n",
    "<pre>\n",
    "variable=$( subshell command producing stdout )\n",
    "variable=`subshell command producing stdout`\n",
    "</pre>"
   ]
  },
  {
   "cell_type": "code",
   "execution_count": null,
   "metadata": {},
   "outputs": [],
   "source": [
    "output=$(pwd)\n",
    "echo $output"
   ]
  },
  {
   "cell_type": "markdown",
   "metadata": {},
   "source": [
    "To complete the programming capabilities, `bash` allows you to define functions.  \n",
    "\n",
    "In the next example we define a function to find the sum of two integers.  \n",
    "\n",
    "Note that `bash` functions cannot return values as per other program languages.  In fact `bash` does have a return value, but this is only used as a return status (as in exit status: 0=success, 1..255=failure).  \n",
    "\n",
    "What we can do is for the function to produce stdout in a sub shell and capture stdout in an assignment."
   ]
  },
  {
   "cell_type": "code",
   "execution_count": null,
   "metadata": {},
   "outputs": [],
   "source": [
    "function sum\n",
    "{\n",
    "    (( result = $1 + $2 ))\n",
    "    echo $result\n",
    "}\n",
    "\n",
    "reult=$(sum 10 20)\n",
    "echo $result"
   ]
  },
  {
   "cell_type": "markdown",
   "metadata": {},
   "source": [
    "Sometimes, when we are writing a script we want to have user input.  In `bash` we can use the `read` construct to get data from stdin.  Unfortunately, the `Jupyter bash kernel` doesn't currently (Feb 2021) support reading from stdin because of technical difficulties in implementing this functionality.  \n",
    "\n",
    "However we can run up an `xterm` and prove `read` works by typing the following short set of commands in the `xterm`:\n",
    "<pre>\n",
    "read day1 day2 restOfWeek\n",
    "monday tuesday wednesday thursday friday\n",
    "echo $day1\n",
    "echo $day2\n",
    "echo $restOfWeek\n",
    "</pre>"
   ]
  },
  {
   "cell_type": "code",
   "execution_count": null,
   "metadata": {},
   "outputs": [],
   "source": [
    "xterm -fg black -bg white -fa 'Monospace' -fs 14 &"
   ]
  },
  {
   "cell_type": "markdown",
   "metadata": {},
   "source": [
    "Alternatively, instead of typing in data on stdin as above, we can get our script to read data from itself.  Its as if the script says to itself: \"here is the data\".  For this reason scripts that read from themselves are called `hereis` scripts.\n",
    "\n",
    "The way is works is by using the stdin redirection symbol along with a unique identifier that delimits both ends of the data.  This identifier is arbitrary; we've used `XXX` in the script below:"
   ]
  },
  {
   "cell_type": "code",
   "execution_count": null,
   "metadata": {},
   "outputs": [],
   "source": [
    "#! /bin/bash\n",
    "\n",
    "words=$(cat - <<XXX\n",
    "the\n",
    "quick\n",
    "brown\n",
    "fox\n",
    "jumped\n",
    "over\n",
    "the\n",
    "lazy\n",
    "dog\n",
    "XXX\n",
    ")\n",
    "\n",
    "echo $words"
   ]
  },
  {
   "cell_type": "markdown",
   "metadata": {},
   "source": [
    "Note in the above script we used the hereis mechanism to read data into `cat`:  \n",
    "\n",
    "`\n",
    "cat - <<XXX \n",
    "    the hereis data on several lines\n",
    "XXX\n",
    "`  \n",
    "\n",
    "`cat -` is a special form of `cat` that reads data from stdin rather than a regular file.  \n",
    "\n",
    "We then ran `cat` in a subshell so that we could assign its output to `words`:\n",
    "<pre>\n",
    "words=$( subshell command producing output )\n",
    "</pre>  \n",
    "\n",
    "This is an example of using hereis to `sort` data into a file: "
   ]
  },
  {
   "cell_type": "code",
   "execution_count": null,
   "metadata": {},
   "outputs": [],
   "source": [
    "#! /bin/bash\n",
    "\n",
    "sort > rainbow <<XXX\n",
    "red\n",
    "orange\n",
    "yellow\n",
    "green\n",
    "blue\n",
    "indigo\n",
    "violet\n",
    "XXX\n",
    "\n",
    "cat rainbow"
   ]
  },
  {
   "cell_type": "markdown",
   "metadata": {},
   "source": [
    "That completes this tutorial - let's tidy up:"
   ]
  },
  {
   "cell_type": "code",
   "execution_count": null,
   "metadata": {},
   "outputs": [],
   "source": [
    "cd ..\n",
    "rm -rf more-scripts"
   ]
  }
 ],
 "metadata": {
  "kernelspec": {
   "display_name": "Bash",
   "language": "bash",
   "name": "bash"
  }
 },
 "nbformat": 4,
 "nbformat_minor": 2
}
