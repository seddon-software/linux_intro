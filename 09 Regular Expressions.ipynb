{
 "cells": [
  {
   "cell_type": "markdown",
   "metadata": {},
   "source": [
    "<div style=\"color:red;background-color:black\">\n",
    "Diamond Light Source\n",
    "\n",
    "<h1 style=\"color:red;background-color:antiquewhite\"> Linux Introduction: Regular Expressions</h1>  \n",
    "\n",
    "©2000-24 Chris Seddon \n",
    "</div>"
   ]
  },
  {
   "cell_type": "markdown",
   "metadata": {},
   "source": [
    "Regular expressions (RegEx) define a pattern with wildcards to search text.  Regexs can be used with several Linux commands and are also supported in many programming languages including Python and C++.\n",
    "In this tutorial we will use 'grep' and 'egrep' to investigate the common regular expressions.  Full details can be found online, for example:  \n",
    "\n",
    "[RegEx](https://www.rexegg.com/regex-quickstart.html \"Cheat Sheet\")"
   ]
  },
  {
   "cell_type": "markdown",
   "metadata": {},
   "source": [
    "First, let's create a Jupyter magic command to create bash scripts and ignore errors"
   ]
  },
  {
   "cell_type": "code",
   "execution_count": null,
   "metadata": {},
   "outputs": [],
   "source": [
    "%alias_magic b bash -p '--no-raise-error'"
   ]
  },
  {
   "cell_type": "markdown",
   "metadata": {},
   "source": [
    "The file:  \n",
    "- /usr/share/dict/words  \n",
    "\n",
    "is a dictionary with one word per line.  We can use it to illustrate most RegExs."
   ]
  },
  {
   "cell_type": "code",
   "execution_count": null,
   "metadata": {},
   "outputs": [],
   "source": [
    "grep amber /usr/share/dict/words"
   ]
  },
  {
   "cell_type": "markdown",
   "metadata": {},
   "source": [
    "This example look for the pattern \"amber\" anywhere on a line in our chosen file.  However, recall that this file has only one word per line in any case, so just one word gets printed for matching lines.  \n",
    "Note that when using `grep`, the pattern can appear anywhere in the line, not just at the start of a line.  If you want to match a pattern at the start of a line you need to use special pattern matching characters, called anchors, as below:"
   ]
  },
  {
   "cell_type": "code",
   "execution_count": null,
   "metadata": {},
   "outputs": [],
   "source": [
    "grep '^amber' /usr/share/dict/words"
   ]
  },
  {
   "cell_type": "markdown",
   "metadata": {},
   "source": [
    "Now only lines beginning with \"amber\" are matched.  The `^` sign anchors the pattern to the start of the line.  It's wise to enclose the pattern in single quotes to avoid `bash` treating the pattern as a wildcard.  \n",
    "\n",
    "Other anchors are possible:"
   ]
  },
  {
   "cell_type": "code",
   "execution_count": null,
   "metadata": {},
   "outputs": [],
   "source": [
    "grep 'father$' /usr/share/dict/words"
   ]
  },
  {
   "cell_type": "markdown",
   "metadata": {},
   "source": [
    "The `$` anchors the pattern to the end of the line.  If you use both anchors: "
   ]
  },
  {
   "cell_type": "code",
   "execution_count": null,
   "metadata": {},
   "outputs": [],
   "source": [
    "grep '^father$' /usr/share/dict/words"
   ]
  },
  {
   "cell_type": "markdown",
   "metadata": {},
   "source": [
    "The pattern must fill the entire line.  Note that when we add wildcards to the pattern we can get several results:"
   ]
  },
  {
   "cell_type": "code",
   "execution_count": null,
   "metadata": {},
   "outputs": [],
   "source": [
    "grep '^.ather$' /usr/share/dict/words"
   ]
  },
  {
   "cell_type": "markdown",
   "metadata": {},
   "source": [
    "Here the dot matches any one character; the dot is often used in patterns:"
   ]
  },
  {
   "cell_type": "code",
   "execution_count": null,
   "metadata": {},
   "outputs": [],
   "source": [
    "grep '^as.....er$' /usr/share/dict/words"
   ]
  },
  {
   "cell_type": "markdown",
   "metadata": {},
   "source": [
    "Five dots in the pattern match any 5 characters.  This we have searched for 9 letter words beginning with 'as' and ending with 'er'.  \n",
    "RegExs allow repeat counts, so the above can also be written:"
   ]
  },
  {
   "cell_type": "code",
   "execution_count": null,
   "metadata": {},
   "outputs": [],
   "source": [
    "grep '^as.{5}er$' /usr/share/dict/words     # doesn't work"
   ]
  },
  {
   "cell_type": "markdown",
   "metadata": {},
   "source": [
    "However, as you can see, this doesn't seem to work.  That's because `grep` doesn't support all RegExs.  What we need is extended grep or `egrep`:"
   ]
  },
  {
   "cell_type": "code",
   "execution_count": null,
   "metadata": {},
   "outputs": [],
   "source": [
    "egrep '^as.{5}er$' /usr/share/dict/words"
   ]
  },
  {
   "cell_type": "markdown",
   "metadata": {},
   "source": [
    "Now things work as expected; `{5}` means exactly 5 occurances of the regular expression `.`.  \n",
    "We will continue to use `egrep` from now on.  \n",
    "Now let's look at square brackets.  `[ ]` means any of the characters inside the brackets (and in any order): "
   ]
  },
  {
   "cell_type": "code",
   "execution_count": null,
   "metadata": {},
   "outputs": [],
   "source": [
    "egrep '^a[rst].{5}er$' /usr/share/dict/words"
   ]
  },
  {
   "cell_type": "markdown",
   "metadata": {},
   "source": [
    "This is the same pattern as before, except the second character can be an `r`, `s` or `t`.  Brackets also work with repeat counts:"
   ]
  },
  {
   "cell_type": "code",
   "execution_count": null,
   "metadata": {},
   "outputs": [],
   "source": [
    "egrep '^a[rst]{3}.{5}$' /usr/share/dict/words"
   ]
  },
  {
   "cell_type": "markdown",
   "metadata": {},
   "source": [
    "The above pattern searches for `a` followed by 3 successive occurances of `r`, `s` or `t` in any order, followed by any 5 characters.  The anchors further restict the search to fill the entire line.  \n",
    "Note that without the anchors, many more lines are matched:"
   ]
  },
  {
   "cell_type": "code",
   "execution_count": null,
   "metadata": {},
   "outputs": [],
   "source": [
    "egrep 'a[rst]{3}.{5}' /usr/share/dict/words"
   ]
  },
  {
   "cell_type": "markdown",
   "metadata": {},
   "source": [
    "Yet another example of using brackets:"
   ]
  },
  {
   "cell_type": "code",
   "execution_count": null,
   "metadata": {},
   "outputs": [],
   "source": [
    "egrep a[sed]sp /usr/share/dict/words"
   ]
  },
  {
   "cell_type": "markdown",
   "metadata": {},
   "source": [
    "Next, we search for lines with `th` followed by any 2 characters, followed by `ing` (later we will use `[ ]` to restrict the search):"
   ]
  },
  {
   "cell_type": "code",
   "execution_count": null,
   "metadata": {},
   "outputs": [],
   "source": [
    "egrep th..ing /usr/share/dict/words"
   ]
  },
  {
   "cell_type": "markdown",
   "metadata": {},
   "source": [
    "Now let's restrict what those 2 characters can be:"
   ]
  },
  {
   "cell_type": "code",
   "execution_count": null,
   "metadata": {},
   "outputs": [],
   "source": [
    "egrep th[er]{2}ing /usr/share/dict/words"
   ]
  },
  {
   "cell_type": "markdown",
   "metadata": {},
   "source": [
    "Now those 2 characters can be `e` or `r`.  \n",
    "\n",
    "Normally `^` anchors to the start of line.  However, the `^` has an entirely different meaning when used as the first character in `[ ]`.  It this case it means NOT the characters in brackets.  \n",
    "\n",
    "Let's look at a search using `^` inside the square brackets:"
   ]
  },
  {
   "cell_type": "code",
   "execution_count": null,
   "metadata": {},
   "outputs": [],
   "source": [
    "egrep 'th[^er]{2}ing' /usr/share/dict/words"
   ]
  },
  {
   "cell_type": "markdown",
   "metadata": {},
   "source": [
    "As stated above, the `^` as the first character inside `[ ]`, negates the search; the two characters can be anything other than `e` or `r`.  \n",
    "\n",
    "We can vary the repeat count:"
   ]
  },
  {
   "cell_type": "code",
   "execution_count": null,
   "metadata": {},
   "outputs": [],
   "source": [
    "egrep 'th[^er]{2,4}ing' /usr/share/dict/words"
   ]
  },
  {
   "cell_type": "markdown",
   "metadata": {},
   "source": [
    "The repeat count of `{2,4}` means at least 2 and at most 4  occurances.  `{2,}` would mean 2 or more.  \n",
    "\n",
    "There are aliases for common repeats.  A repeat of 1 or more occurances is indicated by `+`:"
   ]
  },
  {
   "cell_type": "code",
   "execution_count": null,
   "metadata": {},
   "outputs": [],
   "source": [
    "egrep 'b[o]+st' /usr/share/dict/words"
   ]
  },
  {
   "cell_type": "markdown",
   "metadata": {},
   "source": [
    "In the above search, `+` is a repeat count of 1 or more.  It is equivalent to `{1,}`.  \n",
    "A somewhat strange repeat count is defined by `*`:"
   ]
  },
  {
   "cell_type": "code",
   "execution_count": null,
   "metadata": {},
   "outputs": [],
   "source": [
    "egrep '^ar*t$' /usr/share/dict/words"
   ]
  },
  {
   "cell_type": "markdown",
   "metadata": {},
   "source": [
    "The `*` is an alias for matching 0 or more occurances of the regular expression.  In this case 0 or 1 occurances of `r`.  \n",
    "\n",
    "The word `art` has 1 occurance of `r`.  \n",
    "The word `at` has 0 occurances of `r`.  \n",
    "\n",
    "A very common pattern is `.*`  \n",
    "`.*` matches any character 0 or more times.  Sometimes `.*` doesn't match anything, but in general matches an arbitrary string:"
   ]
  },
  {
   "cell_type": "code",
   "execution_count": null,
   "metadata": {},
   "outputs": [],
   "source": [
    "egrep '^ad.*ded$' /usr/share/dict/words"
   ]
  },
  {
   "cell_type": "markdown",
   "metadata": {},
   "source": [
    "In the above `.*` matches nothing in `added` and matches `dlehea` in `addleheaded`.\n",
    "\n",
    "Now for a few more regular expressions:"
   ]
  },
  {
   "cell_type": "code",
   "execution_count": null,
   "metadata": {},
   "outputs": [],
   "source": [
    "egrep '[aeiou]{5,}' /usr/share/dict/words"
   ]
  },
  {
   "cell_type": "markdown",
   "metadata": {},
   "source": [
    "The above matches words with 5 or more consecutive vowels."
   ]
  },
  {
   "cell_type": "code",
   "execution_count": null,
   "metadata": {},
   "outputs": [],
   "source": [
    "egrep '^.{23,29}$' /usr/share/dict/words"
   ]
  },
  {
   "cell_type": "markdown",
   "metadata": {},
   "source": [
    "The above matches words with 23 to 29 characters.  The anchors are necessary to exclude longer words, since normally a regular expression matches part of a line.  With the `^` and `$` anchors we match the whole line."
   ]
  },
  {
   "cell_type": "code",
   "execution_count": null,
   "metadata": {
    "scrolled": true
   },
   "outputs": [],
   "source": [
    "egrep '.{3,}(after|before)$' /usr/share/dict/words"
   ]
  },
  {
   "cell_type": "markdown",
   "metadata": {},
   "source": [
    "Now we are matching words starting with 3 arbitrary characters followed by `after` or `before` followed by the end of line.  \n",
    "The `|` denotes alternative strings."
   ]
  },
  {
   "cell_type": "code",
   "execution_count": null,
   "metadata": {},
   "outputs": [],
   "source": [
    "egrep -i 'z.*zz' /usr/share/dict/words"
   ]
  },
  {
   "cell_type": "markdown",
   "metadata": {},
   "source": [
    "`egrep` uses the `-i` option to ignore case.  \n",
    "\n",
    "Let's conclude our look at regular expressions by looking a character classes.  Unfortunately, our `/usr/share/dict/words` file doesn't help in these examples.  Instead we will use a short text file 'FishPie.txt':"
   ]
  },
  {
   "cell_type": "code",
   "execution_count": null,
   "metadata": {},
   "outputs": [],
   "source": [
    "cd resources\n",
    "cat FishPie.txt"
   ]
  },
  {
   "cell_type": "markdown",
   "metadata": {},
   "source": [
    "`[0-9]` represents any digit:"
   ]
  },
  {
   "cell_type": "code",
   "execution_count": null,
   "metadata": {},
   "outputs": [],
   "source": [
    "egrep '[0-9]' FishPie.txt"
   ]
  },
  {
   "cell_type": "markdown",
   "metadata": {},
   "source": [
    "In Python any many other languages `[0-9]` can be written as `\\d`.  Unfortunately egrep doesn't support this extension.  \n",
    "\n",
    "Here is a similar pattern: a digit followed by a non digit followed by a digit:"
   ]
  },
  {
   "cell_type": "code",
   "execution_count": null,
   "metadata": {},
   "outputs": [],
   "source": [
    "egrep -in '[0-9][^0-9][0-9]' FishPie.txt"
   ]
  },
  {
   "cell_type": "markdown",
   "metadata": {},
   "source": [
    "The pattern `^0-9` can be written as `\\D` in most languages, but again this is not supported by egrep.  \n",
    "\n",
    "Check out `\\s` `\\S` `\\w` `\\W` and many others online.  \n",
    "\n",
    "Enough for now. There is lot more to regular expressions, but this tutorial should give you a great starting point."
   ]
  }
 ],
 "metadata": {
  "kernelspec": {
   "display_name": "Bash",
   "language": "bash",
   "name": "bash"
  },
  "language_info": {
   "codemirror_mode": "shell",
   "file_extension": ".sh",
   "mimetype": "text/x-sh",
   "name": "bash"
  }
 },
 "nbformat": 4,
 "nbformat_minor": 2
}
